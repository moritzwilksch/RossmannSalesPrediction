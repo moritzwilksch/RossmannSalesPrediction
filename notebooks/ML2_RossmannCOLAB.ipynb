{
  "nbformat": 4,
  "nbformat_minor": 0,
  "metadata": {
    "colab": {
      "name": "ML2-Rossmann.ipynb",
      "provenance": [],
      "collapsed_sections": []
    },
    "kernelspec": {
      "name": "python3",
      "display_name": "Python 3"
    },
    "accelerator": "GPU"
  },
  "cells": [
    {
      "cell_type": "code",
      "metadata": {
        "colab": {
          "base_uri": "https://localhost:8080/"
        },
        "id": "jSX3x0fhbgbg",
        "outputId": "4da1dee0-d479-4321-cba1-25cc8a900123"
      },
      "source": [
        "!git clone https://github.com/moritzwilksch/RossmannSalesPrediction.git\n",
        "!cd RossmannSalesPrediction"
      ],
      "execution_count": 1,
      "outputs": [
        {
          "output_type": "stream",
          "text": [
            "Cloning into 'RossmannSalesPrediction'...\n",
            "remote: Enumerating objects: 49, done.\u001b[K\n",
            "remote: Counting objects: 100% (49/49), done.\u001b[K\n",
            "remote: Compressing objects: 100% (38/38), done.\u001b[K\n",
            "remote: Total 298 (delta 21), reused 32 (delta 11), pack-reused 249\u001b[K\n",
            "Receiving objects: 100% (298/298), 362.70 MiB | 39.18 MiB/s, done.\n",
            "Resolving deltas: 100% (142/142), done.\n",
            "Checking out files: 100% (45/45), done.\n"
          ],
          "name": "stdout"
        }
      ]
    },
    {
      "cell_type": "code",
      "metadata": {
        "colab": {
          "base_uri": "https://localhost:8080/"
        },
        "id": "JDDYCZektcxB",
        "outputId": "19c8ee90-5698-45d7-ea73-f3c79c1a6985"
      },
      "source": [
        "import sys\n",
        "import pathlib\n",
        "\n",
        "sys.path.append(str(pathlib.Path(\"..\").resolve().parent.parent))\n",
        "from RossmannSalesPrediction.helpers.dataprep import timeseries_ttsplit, fix_df, prep_for_model\n",
        "from RossmannSalesPrediction.helpers import feature_engineering\n",
        "import pandas as pd\n",
        "import numpy as np\n",
        "import matplotlib.pyplot as plt\n",
        "\n",
        "\n",
        "\n",
        "root_path = \"RossmannSalesPrediction/\"\n",
        "\n",
        "#%%\n",
        "train = pd.read_csv(root_path + 'data/train.csv')\n",
        "train = fix_df(train)\n",
        "\n",
        "# ONLY SUBSAMPLE\n",
        "# train = train.sample(int(0.5 * len(train)), random_state=42)\n",
        "\n",
        "# ADD ELAPSED\n",
        "promo_elapsed = (\n",
        "    train.groupby('date').mean().reset_index()\n",
        "    .pipe(feature_engineering.time_elapsed, 'promo', 'forward')\n",
        "    .pipe(feature_engineering.time_elapsed, 'promo', 'backward')\n",
        "    .pipe(feature_engineering.time_elapsed, 'schoolholiday', 'forward')\n",
        "    .pipe(feature_engineering.time_elapsed, 'schoolholiday', 'backward')\n",
        "    [['date', 'elapsed_promo_fwd', 'elapsed_promo_backwd', 'elapsed_schoolholiday_fwd', 'elapsed_schoolholiday_backwd']]\n",
        ")\n",
        "\n",
        "train = pd.merge(train, promo_elapsed, on=[\"date\"], how='left')\n",
        "\n",
        "\n",
        "xtrain_raw, xval_raw, ytrain_raw, yval_raw = timeseries_ttsplit(train, train_pct=0.9)\n",
        "\n",
        "\n",
        "\n",
        "xtrain, ytrain = (\n",
        "    xtrain_raw\n",
        "    .pipe(feature_engineering.split_date)\n",
        "    .pipe(feature_engineering.add_avg_customers_per_store, train_data=xtrain_raw)\n",
        "    .pipe(feature_engineering.add_avg_sales_per_store, xtrain=xtrain_raw, ytrain=ytrain_raw)\n",
        "    .pipe(feature_engineering.join_store_details)\n",
        "    .drop([\"competitionopensincemonth\", \"competitionopensinceyear\"], axis=1)\n",
        "    .pipe(prep_for_model, y=ytrain_raw)  # must be last, returns x,y tuple\n",
        ")\n",
        "\n",
        "#%%\n",
        "xval, yval = (\n",
        "    xval_raw\n",
        "    .pipe(feature_engineering.split_date)\n",
        "    .pipe(feature_engineering.add_avg_customers_per_store, train_data=xtrain_raw)\n",
        "    .pipe(feature_engineering.add_avg_sales_per_store, xtrain=xtrain_raw, ytrain=ytrain_raw)\n",
        "    .pipe(feature_engineering.join_store_details)\n",
        "    .drop([\"competitionopensincemonth\", \"competitionopensinceyear\"], axis=1)\n",
        "    .pipe(prep_for_model, y=yval_raw)  # must be last, returns x,y tuple\n",
        ")\n",
        "\n",
        "\n",
        "assert (xtrain.index == ytrain.index).all()\n",
        "\n",
        "\n",
        "\n",
        "#%%\n",
        "embedding_fts = \"store dayofweek dayofyear stateholiday monthofyear dayofmonth storetype assortment promointerval weekofyear elapsed_promo_fwd elapsed_promo_backwd elapsed_schoolholiday_fwd elapsed_schoolholiday_backwd\".split()\n",
        "\n",
        "to_be_encoded = embedding_fts#\"stateholiday storetype assortment promointerval weekofyear\".split()\n",
        "to_be_scaled = \"avg_store_customers avg_store_sales competitiondistance competitionopen\".split()\n",
        "leaveasis = \"promo schoolholiday promo2\".split()\n",
        "#leaveasis = [x for x in leaveasis if x not in embedding_fts]\n",
        "\n",
        "#%%\n",
        "from sklearn.preprocessing import OrdinalEncoder, StandardScaler\n",
        "from sklearn.compose import ColumnTransformer\n",
        "\n",
        "oe = OrdinalEncoder()\n",
        "ss = StandardScaler()\n",
        "\n",
        "ct = ColumnTransformer([\n",
        "    ('leavasis', 'passthrough', leaveasis),\n",
        "    (\"ordinalencode\", oe, to_be_encoded),\n",
        "    (\"standardscale\", ss, to_be_scaled),\n",
        "])\n",
        "\n",
        "ct.fit(xtrain)\n",
        "\n",
        "#%%\n",
        "xtrain_nn = pd.DataFrame(ct.transform(xtrain), columns=leaveasis + to_be_encoded + to_be_scaled)\n",
        "xval_nn = pd.DataFrame(ct.transform(xval), columns=leaveasis + to_be_encoded + to_be_scaled)\n",
        "\n",
        "#%%\n",
        "# Train numeric/embedding split\n",
        "xtrain_nn_num = xtrain_nn.loc[:, ~xtrain_nn.columns.isin(embedding_fts)].values\n",
        "xtrain_nn_emb = xtrain_nn.loc[:, embedding_fts].values\n",
        "\n",
        "# Validation numeric/embedding split\n",
        "xval_nn_num = xval_nn.loc[:, ~xval_nn.columns.isin(embedding_fts)].values\n",
        "xval_nn_emb = xval_nn.loc[:, embedding_fts].values\n"
      ],
      "execution_count": 108,
      "outputs": [
        {
          "output_type": "stream",
          "text": [
            "/usr/local/lib/python3.7/dist-packages/IPython/core/interactiveshell.py:2718: DtypeWarning: Columns (7) have mixed types.Specify dtype option on import or set low_memory=False.\n",
            "  interactivity=interactivity, compiler=compiler, result=result)\n"
          ],
          "name": "stderr"
        }
      ]
    },
    {
      "cell_type": "code",
      "metadata": {
        "colab": {
          "base_uri": "https://localhost:8080/"
        },
        "id": "IRDSR0kMokM5",
        "outputId": "0394a95e-781d-45db-b69f-a64eda37f3e6"
      },
      "source": [
        "# Baseline\n",
        "from RossmannSalesPrediction.helpers.evaluation import rmspcte\n",
        "baseline = ytrain.to_frame().groupby(xtrain.store)['sales'].mean()\n",
        "preds = pd.merge(xval, baseline, on='store', how='left')['sales']\n",
        "print(rmspcte(yval.values, preds.values))\n",
        "\n",
        "overallmean = ytrain.mean()\n",
        "preds = np.full(yval.shape, overallmean)\n",
        "print(rmspcte(yval.values, preds))\n"
      ],
      "execution_count": 136,
      "outputs": [
        {
          "output_type": "stream",
          "text": [
            "0.30716532620407844\n",
            "0.5358402783337523\n"
          ],
          "name": "stdout"
        }
      ]
    },
    {
      "cell_type": "code",
      "metadata": {
        "colab": {
          "base_uri": "https://localhost:8080/"
        },
        "id": "BwCOag6Tl5eL",
        "outputId": "c7f13135-ee05-4440-c56d-5a346821910d"
      },
      "source": [
        "from keras import backend as K\n",
        "def rmspe_loss(y_true, y_pred):\n",
        "    sum = K.sqrt(K.mean(K.square( (y_true - y_pred) / (K.clip(K.abs(y_true), K.epsilon(), None) + 1e-6) ), axis=-1) )\n",
        "    return sum*100\n",
        "\n",
        "rmspe_loss(K.constant(yval.values), K.constant(preds.values.flatten()))"
      ],
      "execution_count": 110,
      "outputs": [
        {
          "output_type": "execute_result",
          "data": {
            "text/plain": [
              "<tf.Tensor: shape=(), dtype=float32, numpy=30.716532>"
            ]
          },
          "metadata": {
            "tags": []
          },
          "execution_count": 110
        }
      ]
    },
    {
      "cell_type": "code",
      "metadata": {
        "colab": {
          "base_uri": "https://localhost:8080/"
        },
        "id": "poKs3oFShErB",
        "outputId": "6c97328d-1764-4052-acd4-87b653883101"
      },
      "source": [
        "for x in [train, xtrain, xtrain_nn, xtrain_nn_num, xtrain_nn_emb]:\n",
        "    print(x.shape)\n",
        "\n",
        "print(xtrain_raw.date.min())\n",
        "print(xtrain_raw.date.max())\n",
        "\n",
        "print(xval_raw.date.min())\n",
        "print(xval_raw.date.max())"
      ],
      "execution_count": 111,
      "outputs": [
        {
          "output_type": "stream",
          "text": [
            "(1017209, 13)\n",
            "(756504, 21)\n",
            "(756504, 21)\n",
            "(756504, 7)\n",
            "(756504, 14)\n",
            "2013-01-01 00:00:00\n",
            "2015-04-27 00:00:00\n",
            "2015-04-28 00:00:00\n",
            "2015-07-31 00:00:00\n"
          ],
          "name": "stdout"
        }
      ]
    },
    {
      "cell_type": "code",
      "metadata": {
        "colab": {
          "base_uri": "https://localhost:8080/"
        },
        "id": "sZmFwA5Qbj-a",
        "outputId": "07d52841-548a-4aef-a7dc-450844995cbe"
      },
      "source": [
        "\n",
        "#%%\n",
        "import tensorflow as tf\n",
        "from tensorflow import keras\n",
        "from keras.callbacks import ModelCheckpoint\n",
        "\n",
        "dimtable = {k: v for k, v in zip(embedding_fts, [xtrain_nn[col].nunique() for col in embedding_fts])}\n",
        "#%%\n",
        "num_input = keras.Input(shape=(xtrain_nn_num.shape[1], ))\n",
        "emb_inputs = [keras.Input(shape=(1, )) for _ in embedding_fts]\n",
        "\n",
        "emb_table = {\n",
        "    'store': 10,\n",
        "    'dayofweek': 6,\n",
        "    'dayofyear': 6,\n",
        "    'stateholiday': 2,\n",
        "    'monthofyear': 6,\n",
        "    'weekofyear': 5,\n",
        "    'dayofmonth': 10,\n",
        "    'storetype': 2,\n",
        "    'assortment': 2,\n",
        "    'promointerval': 2,\n",
        "    'elapsed_promo_fwd': 5,\n",
        "    'elapsed_promo_backwd': 5,\n",
        "    'elapsed_schoolholiday_fwd': 5,\n",
        "    'elapsed_schoolholiday_backwd': 5,\n",
        "}\n",
        "\n",
        "\n",
        "\n",
        "emb_layers = [keras.layers.Embedding(input_dim=dimtable[col]+1, output_dim=emb_table[col])(emb_inputs[idx]) for idx, col in enumerate(embedding_fts)]\n",
        "\n",
        "\n",
        "flats = [keras.layers.Flatten()(x) for x in emb_layers + [num_input]]\n",
        "concat = keras.layers.Concatenate()(flats)\n",
        "# concat = keras.layers.BatchNormalization()(concat)\n",
        "#concat = keras.layers.Dropout(0.2)(concat)\n",
        "\n",
        "hidden_dense = keras.layers.Dense(units=2**9, activation = 'relu', kernel_regularizer=keras.regularizers.l2())(concat)\n",
        "# hidden_dense = keras.layers.BatchNormalization()(hidden_dense)\n",
        "hidden_dense = keras.layers.Dropout(0.2)(hidden_dense)\n",
        "# hidden_dense = keras.layers.Dense(units=64, activation = 'relu', kernel_regularizer=keras.regularizers.l2())(hidden_dense)\n",
        "\n",
        "hidden_dense = keras.layers.Dense(units=2**13, activation = 'relu', kernel_regularizer=keras.regularizers.l2())(hidden_dense)\n",
        "# hidden_dense = keras.layers.BatchNormalization()(hidden_dense)\n",
        "hidden_dense = keras.layers.Dropout(0.2)(hidden_dense)\n",
        "\n",
        "\n",
        "\n",
        "out = keras.layers.Dense(units=1, activation='linear', )(hidden_dense) # bias_initializer=keras.initializers.Constant(ytrain.mean())\n",
        "\n",
        "model: keras.Model = keras.Model(inputs=emb_inputs + [num_input], outputs=out)\n",
        "\n",
        "#%%\n",
        "\n",
        "\n",
        "train_in = np.split(xtrain_nn_emb, xtrain_nn_emb.shape[-1], axis=1) + [xtrain_nn_num]\n",
        "val_in = np.split(xval_nn_emb, xval_nn_emb.shape[-1], axis=1) + [xval_nn_num]\n",
        "print(f\"Input shape = (nrows, {sum(x.shape[1] for x in train_in)})\")\n",
        "\n",
        "# -> log -> SS y values\n",
        "SCALE_TARGET = False\n",
        "if SCALE_TARGET:\n",
        "    from sklearn.preprocessing import MinMaxScaler\n",
        "    print(\"[CAUTION] Scaling target!\")\n",
        "    y_ss = MinMaxScaler() #StandardScaler()\n",
        "    y_ss.fit(np.log(ytrain.values.reshape(-1, 1)))\n",
        "    ytrain_scaled = y_ss.transform(np.log(ytrain.values.reshape(-1, 1)))\n",
        "    yval_scaled = y_ss.transform(np.log(yval.values.reshape(-1, 1)))\n",
        "\n",
        "from tensorflow.keras import backend as K\n",
        "def rmspe_loss(y_true, y_pred):\n",
        "    sum = K.sqrt(K.mean(K.square( (y_true - y_pred) /\n",
        "          K.clip(K.abs(y_true), K.epsilon(), None) + 1e-6 ), axis=-1) )\n",
        "    return sum*100\n",
        "\n",
        "from RossmannSalesPrediction.helpers import lr_finder\n",
        "lrf = lr_finder.LRFinder(1e-6, 1e-1)\n",
        "model.compile(optimizer='adam', loss=rmspe_loss, metrics=[rmspe_loss])\n",
        "# model.fit(x=train_in, y=ytrain.values.flatten().astype(np.float32), callbacks=[lrf], validation_data=(val_in, yval.values.flatten().astype(np.float32)), epochs=1, batch_size=512)\n",
        "\n"
      ],
      "execution_count": 126,
      "outputs": [
        {
          "output_type": "stream",
          "text": [
            "Input shape = (nrows, 21)\n"
          ],
          "name": "stdout"
        }
      ]
    },
    {
      "cell_type": "code",
      "metadata": {
        "colab": {
          "base_uri": "https://localhost:8080/",
          "height": 464
        },
        "id": "sUxpKomBkgx7",
        "outputId": "36f7f952-b87c-4eb2-cb27-871a0f3b97a9"
      },
      "source": [
        "EPOCHS=30\n",
        "def clr_scheduler(epoch, lr):\n",
        "\n",
        "    maxlr = 10**-2\n",
        "    minlr = 1e-3\n",
        "\n",
        "    if epoch > EPOCHS:\n",
        "        return minlr\n",
        "\n",
        "    step_size = (maxlr - minlr)/(EPOCHS/2)\n",
        "    return maxlr - np.abs(EPOCHS/2 - epoch)*step_size\n",
        "plt.plot([clr_scheduler(x, 0) for x in range(36)])\n",
        "plt.title(\"Learning Rate Over Time\")\n",
        "plt.xlabel(\"Epoch\",)\n",
        "plt.ylabel(\"Learning Rate\",)\n",
        "plt.xticks([x for x in range(0, 36, 5)])\n"
      ],
      "execution_count": 127,
      "outputs": [
        {
          "output_type": "execute_result",
          "data": {
            "text/plain": [
              "([<matplotlib.axis.XTick at 0x7fc7000e6250>,\n",
              "  <matplotlib.axis.XTick at 0x7fc70021b350>,\n",
              "  <matplotlib.axis.XTick at 0x7fc704cac710>,\n",
              "  <matplotlib.axis.XTick at 0x7fc70027ffd0>,\n",
              "  <matplotlib.axis.XTick at 0x7fc6dfca1d90>,\n",
              "  <matplotlib.axis.XTick at 0x7fc6dfca19d0>,\n",
              "  <matplotlib.axis.XTick at 0x7fc70021b990>,\n",
              "  <matplotlib.axis.XTick at 0x7fc70020a290>],\n",
              " <a list of 8 Text major ticklabel objects>)"
            ]
          },
          "metadata": {
            "tags": []
          },
          "execution_count": 127
        },
        {
          "output_type": "display_data",
          "data": {
            "image/png": "[encoded data removed]",
            "text/plain": [
              "<Figure size 432x288 with 1 Axes>"
            ]
          },
          "metadata": {
            "tags": [],
            "needs_background": "light"
          }
        }
      ]
    },
    {
      "cell_type": "code",
      "metadata": {
        "colab": {
          "base_uri": "https://localhost:8080/"
        },
        "id": "j76p_6MMtfNi",
        "outputId": "3ba8bdec-6e78-46b4-f0ab-0aa56b6da64f"
      },
      "source": [
        "mcp = ModelCheckpoint('modelcheckpoint', save_best_only=True, save_weights_only=True)\n",
        "\n",
        "if SCALE_TARGET:\n",
        "    model.compile(optimizer=keras.optimizers.Adam(1e-2), loss='mean_absolute_error', metrics=['mean_absolute_error'])\n",
        "    hist = model.fit(x=train_in, y=ytrain_scaled.astype(np.float32), validation_data=(val_in, yval_scaled.flatten().astype(np.float32)), epochs=10, batch_size=512, callbacks=[mcp])\n",
        "else:\n",
        "    model.compile(optimizer=keras.optimizers.Adam(1e-2), loss=rmspe_loss, metrics=[rmspe_loss])\n",
        "    #hist = model.fit(x=train_in, y=ytrain.values.flatten().astype(np.float32), validation_data=(val_in, yval.values.flatten().astype(np.float32)), epochs=10, batch_size=256, callbacks=[mcp, keras.callbacks.ReduceLROnPlateau(patience=2)])\n",
        "    hist = model.fit(x=train_in, y=ytrain.values.flatten().astype(np.float32), validation_data=(val_in, yval.values.flatten().astype(np.float32)), epochs=35, batch_size=512, callbacks=[mcp, keras.callbacks.LearningRateScheduler(clr_scheduler)])\n",
        "\n",
        "    # SANITY CHECK: # hist = model.fit(x=[x[:2] for x in train_in], y=ytrain.values.flatten()[:2].astype(np.float32), epochs=100, batch_size=32)\n",
        "\n",
        "\n",
        "\n",
        "model.load_weights(\"modelcheckpoint\")"
      ],
      "execution_count": 128,
      "outputs": [
        {
          "output_type": "stream",
          "text": [
            "Epoch 1/35\n",
            "1478/1478 [==============================] - 19s 11ms/step - loss: 38.0355 - rmspe_loss: 32.9903 - val_loss: 17.1992 - val_rmspe_loss: 15.2225\n",
            "Epoch 2/35\n",
            "1478/1478 [==============================] - 16s 11ms/step - loss: 15.2918 - rmspe_loss: 13.5778 - val_loss: 16.1694 - val_rmspe_loss: 14.9496\n",
            "Epoch 3/35\n",
            "1478/1478 [==============================] - 17s 11ms/step - loss: 14.5352 - rmspe_loss: 13.3699 - val_loss: 16.2437 - val_rmspe_loss: 15.2843\n",
            "Epoch 4/35\n",
            "1478/1478 [==============================] - 17s 11ms/step - loss: 14.1389 - rmspe_loss: 13.1239 - val_loss: 14.6748 - val_rmspe_loss: 13.1001\n",
            "Epoch 5/35\n",
            "1478/1478 [==============================] - 16s 11ms/step - loss: 12.3484 - rmspe_loss: 10.8416 - val_loss: 14.7552 - val_rmspe_loss: 13.3872\n",
            "Epoch 6/35\n",
            "1478/1478 [==============================] - 16s 11ms/step - loss: 11.4521 - rmspe_loss: 10.0717 - val_loss: 14.1530 - val_rmspe_loss: 12.9700\n",
            "Epoch 7/35\n",
            "1478/1478 [==============================] - 16s 11ms/step - loss: 11.1091 - rmspe_loss: 9.8467 - val_loss: 14.5128 - val_rmspe_loss: 13.4042\n",
            "Epoch 8/35\n",
            "1478/1478 [==============================] - 16s 11ms/step - loss: 11.0223 - rmspe_loss: 9.8264 - val_loss: 14.1745 - val_rmspe_loss: 12.9653\n",
            "Epoch 9/35\n",
            "1478/1478 [==============================] - 16s 11ms/step - loss: 10.9219 - rmspe_loss: 9.7603 - val_loss: 13.5800 - val_rmspe_loss: 12.4539\n",
            "Epoch 10/35\n",
            "1478/1478 [==============================] - 16s 11ms/step - loss: 10.9399 - rmspe_loss: 9.7787 - val_loss: 13.9496 - val_rmspe_loss: 12.8653\n",
            "Epoch 11/35\n",
            "1478/1478 [==============================] - 16s 11ms/step - loss: 10.8795 - rmspe_loss: 9.7268 - val_loss: 14.2998 - val_rmspe_loss: 13.2263\n",
            "Epoch 12/35\n",
            "1478/1478 [==============================] - 16s 11ms/step - loss: 10.8545 - rmspe_loss: 9.6979 - val_loss: 14.0324 - val_rmspe_loss: 12.8321\n",
            "Epoch 13/35\n",
            "1478/1478 [==============================] - 16s 11ms/step - loss: 10.8837 - rmspe_loss: 9.6992 - val_loss: 15.0877 - val_rmspe_loss: 13.8721\n",
            "Epoch 14/35\n",
            "1478/1478 [==============================] - 16s 11ms/step - loss: 10.9678 - rmspe_loss: 9.7416 - val_loss: 14.3955 - val_rmspe_loss: 13.0703\n",
            "Epoch 15/35\n",
            "1478/1478 [==============================] - 16s 11ms/step - loss: 11.0807 - rmspe_loss: 9.7671 - val_loss: 14.5071 - val_rmspe_loss: 13.3127\n",
            "Epoch 16/35\n",
            "1478/1478 [==============================] - 16s 11ms/step - loss: 11.2183 - rmspe_loss: 9.8584 - val_loss: 14.9634 - val_rmspe_loss: 13.7431\n",
            "Epoch 17/35\n",
            "1478/1478 [==============================] - 16s 11ms/step - loss: 10.7504 - rmspe_loss: 9.6488 - val_loss: 14.2918 - val_rmspe_loss: 12.9902\n",
            "Epoch 18/35\n",
            "1478/1478 [==============================] - 16s 11ms/step - loss: 10.5881 - rmspe_loss: 9.5272 - val_loss: 14.9086 - val_rmspe_loss: 13.9444\n",
            "Epoch 19/35\n",
            "1478/1478 [==============================] - 16s 11ms/step - loss: 10.5655 - rmspe_loss: 9.5662 - val_loss: 13.5228 - val_rmspe_loss: 12.5729\n",
            "Epoch 20/35\n",
            "1478/1478 [==============================] - 16s 11ms/step - loss: 10.3599 - rmspe_loss: 9.4193 - val_loss: 13.6666 - val_rmspe_loss: 12.7863\n",
            "Epoch 21/35\n",
            "1478/1478 [==============================] - 16s 11ms/step - loss: 10.2337 - rmspe_loss: 9.3401 - val_loss: 13.3473 - val_rmspe_loss: 12.4945\n",
            "Epoch 22/35\n",
            "1478/1478 [==============================] - 16s 11ms/step - loss: 10.0836 - rmspe_loss: 9.2274 - val_loss: 13.3426 - val_rmspe_loss: 12.4906\n",
            "Epoch 23/35\n",
            "1478/1478 [==============================] - 16s 11ms/step - loss: 9.9601 - rmspe_loss: 9.1325 - val_loss: 12.9401 - val_rmspe_loss: 12.1400\n",
            "Epoch 24/35\n",
            "1478/1478 [==============================] - 16s 11ms/step - loss: 9.8278 - rmspe_loss: 9.0331 - val_loss: 13.5438 - val_rmspe_loss: 12.7580\n",
            "Epoch 25/35\n",
            "1478/1478 [==============================] - 16s 11ms/step - loss: 9.7166 - rmspe_loss: 8.9344 - val_loss: 13.0474 - val_rmspe_loss: 12.2783\n",
            "Epoch 26/35\n",
            "1478/1478 [==============================] - 16s 11ms/step - loss: 9.5809 - rmspe_loss: 8.8261 - val_loss: 12.7445 - val_rmspe_loss: 12.0195\n",
            "Epoch 27/35\n",
            "1478/1478 [==============================] - 16s 11ms/step - loss: 9.4386 - rmspe_loss: 8.7113 - val_loss: 13.2210 - val_rmspe_loss: 12.5228\n",
            "Epoch 28/35\n",
            "1478/1478 [==============================] - 16s 11ms/step - loss: 9.3456 - rmspe_loss: 8.6436 - val_loss: 12.7883 - val_rmspe_loss: 12.1024\n",
            "Epoch 29/35\n",
            "1478/1478 [==============================] - 16s 11ms/step - loss: 9.2456 - rmspe_loss: 8.5718 - val_loss: 12.4330 - val_rmspe_loss: 11.7879\n",
            "Epoch 30/35\n",
            "1478/1478 [==============================] - 16s 11ms/step - loss: 9.0821 - rmspe_loss: 8.4399 - val_loss: 12.2395 - val_rmspe_loss: 11.6096\n",
            "Epoch 31/35\n",
            "1478/1478 [==============================] - 16s 11ms/step - loss: 8.9592 - rmspe_loss: 8.3397 - val_loss: 12.5073 - val_rmspe_loss: 11.8924\n",
            "Epoch 32/35\n",
            "1478/1478 [==============================] - 16s 11ms/step - loss: 8.9277 - rmspe_loss: 8.3201 - val_loss: 12.3574 - val_rmspe_loss: 11.7532\n",
            "Epoch 33/35\n",
            "1478/1478 [==============================] - 16s 11ms/step - loss: 8.9055 - rmspe_loss: 8.3047 - val_loss: 12.3091 - val_rmspe_loss: 11.7109\n",
            "Epoch 34/35\n",
            "1478/1478 [==============================] - 16s 11ms/step - loss: 8.9394 - rmspe_loss: 8.3439 - val_loss: 12.3114 - val_rmspe_loss: 11.7261\n",
            "Epoch 35/35\n",
            "1478/1478 [==============================] - 16s 11ms/step - loss: 8.9165 - rmspe_loss: 8.3263 - val_loss: 12.4004 - val_rmspe_loss: 11.8131\n"
          ],
          "name": "stdout"
        },
        {
          "output_type": "execute_result",
          "data": {
            "text/plain": [
              "<tensorflow.python.training.tracking.util.CheckpointLoadStatus at 0x7fc700e33990>"
            ]
          },
          "metadata": {
            "tags": []
          },
          "execution_count": 128
        }
      ]
    },
    {
      "cell_type": "code",
      "metadata": {
        "colab": {
          "base_uri": "https://localhost:8080/",
          "height": 626
        },
        "id": "Sc1W2Pxbbn_8",
        "outputId": "1152eca2-4498-4044-cfaf-f472533d4289"
      },
      "source": [
        "plt.plot(hist.history['loss'], label='train')\n",
        "plt.plot(hist.history['val_loss'], label='val')\n",
        "plt.title(\"Loss Over Time\")\n",
        "plt.xlabel(\"Epoch\")\n",
        "plt.ylabel(\"RMSPCTE\")\n",
        "plt.legend()\n",
        "plt.show()\n",
        "\n",
        "preds = model.predict(val_in)\n",
        "\n",
        "if SCALE_TARGET:\n",
        "    preds = np.exp(y_ss.inverse_transform(preds))\n",
        "\n",
        "\n",
        "from RossmannSalesPrediction.helpers.evaluation import rmspcte\n",
        "\n",
        "print(rmspcte(yval, preds))\n",
        "print(rmspe_loss(K.constant(yval.values.flatten()), K.constant(preds.flatten())))\n",
        "\n",
        "import seaborn as sns\n",
        "sns.histplot(preds, color='orange')\n",
        "sns.histplot(yval, alpha=0.5)\n",
        "plt.title(\"Distribution of Labels vs. Predictions\")\n",
        "plt.show()"
      ],
      "execution_count": 131,
      "outputs": [
        {
          "output_type": "display_data",
          "data": {
            "image/png": "[encoded data removed]",
            "text/plain": [
              "<Figure size 432x288 with 1 Axes>"
            ]
          },
          "metadata": {
            "tags": [],
            "needs_background": "light"
          }
        },
        {
          "output_type": "stream",
          "text": [
            "0.15661831095023665\n",
            "tf.Tensor(15.66184, shape=(), dtype=float32)\n"
          ],
          "name": "stdout"
        },
        {
          "output_type": "display_data",
          "data": {
            "image/png": "[encoded data removed]",
            "text/plain": [
              "<Figure size 432x288 with 1 Axes>"
            ]
          },
          "metadata": {
            "tags": [],
            "needs_background": "light"
          }
        }
      ]
    },
    {
      "cell_type": "code",
      "metadata": {
        "colab": {
          "base_uri": "https://localhost:8080/",
          "height": 344
        },
        "id": "RcZK1HW-pfdW",
        "outputId": "71c2f2f6-868b-462b-b029-15c74d18dac3"
      },
      "source": [
        "evaldf = pd.DataFrame({\n",
        "    'real': yval.values.flatten(),\n",
        "    'pred': preds.flatten(),\n",
        "    'abs_pcterr': (preds.flatten() - yval.values.flatten())/yval.values.flatten(),\n",
        "    'sq_pcterr': ((preds.flatten() - yval.values.flatten())/yval.values.flatten())**2,\n",
        "})\n",
        "\n",
        "# storeid starts at 1, argmin at 0\n",
        "#best_store = evaldf.abs_pcterr.abs().groupby(xval.store).mean().argmin() + 1\n",
        "#worst_store = evaldf.abs_pcterr.abs().groupby(xval.store).mean().argmax() + 1\n",
        "\n",
        "best_store = (evaldf.sq_pcterr.groupby(xval.store).mean()**0.5).argmin() + 1\n",
        "worst_store = (evaldf.sq_pcterr.groupby(xval.store).mean()**0.5).argmax() + 1\n",
        "\n",
        "fig, ax = plt.subplots(figsize=(20, 5))\n",
        "filtered = pd.concat([xval, yval, pd.Series(preds.flatten())], axis=1).rename({0: 'pred'}, axis=1).query(\"(store == @best_store) & (sales>0)\")\n",
        "sns.lineplot(data=filtered, x=np.arange(len(filtered)), y='sales', color='grey', label='Ground Truth')\n",
        "sns.lineplot(data=filtered, x=np.arange(len(filtered)), y='pred', color='green', label='Prediction')\n",
        "ax.set(\n",
        "    title=\"Ground Truth vs. Prediction for BEST store\"\n",
        ")\n",
        "sns.despine()"
      ],
      "execution_count": 117,
      "outputs": [
        {
          "output_type": "display_data",
          "data": {
            "image/png": "[encoded data removed]",
            "text/plain": [
              "<Figure size 1440x360 with 1 Axes>"
            ]
          },
          "metadata": {
            "tags": [],
            "needs_background": "light"
          }
        }
      ]
    },
    {
      "cell_type": "code",
      "metadata": {
        "id": "xzRvPsTrpuAs",
        "colab": {
          "base_uri": "https://localhost:8080/",
          "height": 343
        },
        "outputId": "859c4da6-d900-4edd-8b86-2af19ae909bb"
      },
      "source": [
        "fig, ax = plt.subplots(figsize=(20, 5))\n",
        "filtered = pd.concat([xval, yval, pd.Series(preds.flatten())], axis=1).rename({0: 'pred'}, axis=1).query(\"(store == @worst_store) & (sales>0)\")\n",
        "sns.lineplot(data=filtered, x=np.arange(len(filtered)), y='sales', color='grey', label='Ground Truth')\n",
        "sns.lineplot(data=filtered, x=np.arange(len(filtered)), y='pred', color='red', label='Prediction')\n",
        "ax.set(\n",
        "    title=\"Ground Truth vs. Prediction for WORST store\"\n",
        ");\n",
        "sns.despine()"
      ],
      "execution_count": 118,
      "outputs": [
        {
          "output_type": "display_data",
          "data": {
            "image/png": "[encoded data removed]",
            "text/plain": [
              "<Figure size 1440x360 with 1 Axes>"
            ]
          },
          "metadata": {
            "tags": [],
            "needs_background": "light"
          }
        }
      ]
    },
    {
      "cell_type": "code",
      "metadata": {
        "id": "vYeJSgH4JzGN",
        "colab": {
          "base_uri": "https://localhost:8080/",
          "height": 433
        },
        "outputId": "e7de4a41-d3cc-4d2c-d934-260be0de6288"
      },
      "source": [
        "errors = pd.DataFrame({'real': yval, 'preds': preds.flatten()}).assign(delta=lambda row: row.preds - row.real)\n",
        "worst_lower_5 = errors.delta < np.quantile(errors.delta, 0.01)\n",
        "worst_upper_5 = errors.delta > np.quantile(errors.delta, 0.99)\n",
        "errors = errors.assign(worst=(worst_lower_5 | worst_upper_5))\n",
        "errors"
      ],
      "execution_count": null,
      "outputs": [
        {
          "output_type": "execute_result",
          "data": {
            "text/html": [
              "<div>\n",
              "<style scoped>\n",
              "    .dataframe tbody tr th:only-of-type {\n",
              "        vertical-align: middle;\n",
              "    }\n",
              "\n",
              "    .dataframe tbody tr th {\n",
              "        vertical-align: top;\n",
              "    }\n",
              "\n",
              "    .dataframe thead th {\n",
              "        text-align: right;\n",
              "    }\n",
              "</style>\n",
              "<table border=\"1\" class=\"dataframe\">\n",
              "  <thead>\n",
              "    <tr style=\"text-align: right;\">\n",
              "      <th></th>\n",
              "      <th>real</th>\n",
              "      <th>preds</th>\n",
              "      <th>delta</th>\n",
              "      <th>worst</th>\n",
              "    </tr>\n",
              "  </thead>\n",
              "  <tbody>\n",
              "    <tr>\n",
              "      <th>0</th>\n",
              "      <td>5263</td>\n",
              "      <td>6481.960938</td>\n",
              "      <td>1218.960938</td>\n",
              "      <td>False</td>\n",
              "    </tr>\n",
              "    <tr>\n",
              "      <th>1</th>\n",
              "      <td>6064</td>\n",
              "      <td>6480.181152</td>\n",
              "      <td>416.181152</td>\n",
              "      <td>False</td>\n",
              "    </tr>\n",
              "    <tr>\n",
              "      <th>2</th>\n",
              "      <td>8314</td>\n",
              "      <td>9805.083008</td>\n",
              "      <td>1491.083008</td>\n",
              "      <td>False</td>\n",
              "    </tr>\n",
              "    <tr>\n",
              "      <th>3</th>\n",
              "      <td>13995</td>\n",
              "      <td>12535.518555</td>\n",
              "      <td>-1459.481445</td>\n",
              "      <td>False</td>\n",
              "    </tr>\n",
              "    <tr>\n",
              "      <th>4</th>\n",
              "      <td>4822</td>\n",
              "      <td>6693.187012</td>\n",
              "      <td>1871.187012</td>\n",
              "      <td>False</td>\n",
              "    </tr>\n",
              "    <tr>\n",
              "      <th>...</th>\n",
              "      <td>...</td>\n",
              "      <td>...</td>\n",
              "      <td>...</td>\n",
              "      <td>...</td>\n",
              "    </tr>\n",
              "    <tr>\n",
              "      <th>175076</th>\n",
              "      <td>1773</td>\n",
              "      <td>3101.520020</td>\n",
              "      <td>1328.520020</td>\n",
              "      <td>False</td>\n",
              "    </tr>\n",
              "    <tr>\n",
              "      <th>175077</th>\n",
              "      <td>6787</td>\n",
              "      <td>7745.763184</td>\n",
              "      <td>958.763184</td>\n",
              "      <td>False</td>\n",
              "    </tr>\n",
              "    <tr>\n",
              "      <th>175078</th>\n",
              "      <td>4382</td>\n",
              "      <td>5113.150879</td>\n",
              "      <td>731.150879</td>\n",
              "      <td>False</td>\n",
              "    </tr>\n",
              "    <tr>\n",
              "      <th>175079</th>\n",
              "      <td>18629</td>\n",
              "      <td>18646.308594</td>\n",
              "      <td>17.308594</td>\n",
              "      <td>False</td>\n",
              "    </tr>\n",
              "    <tr>\n",
              "      <th>175080</th>\n",
              "      <td>6661</td>\n",
              "      <td>5622.240723</td>\n",
              "      <td>-1038.759277</td>\n",
              "      <td>False</td>\n",
              "    </tr>\n",
              "  </tbody>\n",
              "</table>\n",
              "<p>175081 rows × 4 columns</p>\n",
              "</div>"
            ],
            "text/plain": [
              "         real         preds        delta  worst\n",
              "0        5263   6481.960938  1218.960938  False\n",
              "1        6064   6480.181152   416.181152  False\n",
              "2        8314   9805.083008  1491.083008  False\n",
              "3       13995  12535.518555 -1459.481445  False\n",
              "4        4822   6693.187012  1871.187012  False\n",
              "...       ...           ...          ...    ...\n",
              "175076   1773   3101.520020  1328.520020  False\n",
              "175077   6787   7745.763184   958.763184  False\n",
              "175078   4382   5113.150879   731.150879  False\n",
              "175079  18629  18646.308594    17.308594  False\n",
              "175080   6661   5622.240723 -1038.759277  False\n",
              "\n",
              "[175081 rows x 4 columns]"
            ]
          },
          "metadata": {
            "tags": []
          },
          "execution_count": 91
        }
      ]
    },
    {
      "cell_type": "code",
      "metadata": {
        "colab": {
          "base_uri": "https://localhost:8080/"
        },
        "id": "oCCzzTrIOPIt",
        "outputId": "1156dc48-14b1-4007-cbdb-9125e0a67de8"
      },
      "source": [
        "re_train = [np.vstack([train_in[i], val_in[i]]) for i in range(len(train_in))]\n",
        "re_y = np.vstack([ytrain.values.reshape(-1, 1), yval.values.reshape(-1, 1)])\n",
        "\n",
        "\n",
        "#model.compile(optimizer=keras.optimizers.Adam(1e-2), loss=rmspe_loss, metrics=[rmspe_loss])\n",
        "#hist = model.fit(x=re_train, y=re_y.astype(np.float32), validation_data=(val_in, yval.values.flatten().astype(np.float32)), epochs=10, batch_size=512, callbacks=[mcp])\n",
        "\n",
        "model.compile(optimizer=keras.optimizers.Adam(1e-2), loss=rmspe_loss, metrics=[rmspe_loss])\n",
        "model.fit(x=re_train, y=re_y.flatten().astype(np.float32), validation_data=(val_in, yval.values.flatten().astype(np.float32)), epochs=25, batch_size=512, callbacks=[mcp, keras.callbacks.LearningRateScheduler(clr_scheduler)])\n",
        "\n",
        "model.load_weights(\"modelcheckpoint\")"
      ],
      "execution_count": 97,
      "outputs": [
        {
          "output_type": "stream",
          "text": [
            "Epoch 1/25\n",
            "1650/1650 [==============================] - 20s 11ms/step - loss: 1.0979 - rmspe_loss: 0.6815 - val_loss: 0.4164 - val_rmspe_loss: 0.3888\n",
            "Epoch 2/25\n",
            "1650/1650 [==============================] - 18s 11ms/step - loss: 0.4637 - rmspe_loss: 0.2988 - val_loss: 0.2633 - val_rmspe_loss: 0.1979\n",
            "Epoch 3/25\n",
            "1650/1650 [==============================] - 18s 11ms/step - loss: 0.3177 - rmspe_loss: 0.2332 - val_loss: 0.2700 - val_rmspe_loss: 0.2352\n",
            "Epoch 4/25\n",
            "1650/1650 [==============================] - 18s 11ms/step - loss: 0.3061 - rmspe_loss: 0.2237 - val_loss: 0.3675 - val_rmspe_loss: 0.1946\n",
            "Epoch 5/25\n",
            "1650/1650 [==============================] - 17s 11ms/step - loss: 0.3202 - rmspe_loss: 0.2303 - val_loss: 0.2504 - val_rmspe_loss: 0.1938\n",
            "Epoch 6/25\n",
            "1650/1650 [==============================] - 18s 11ms/step - loss: 0.4381 - rmspe_loss: 0.2385 - val_loss: 0.2616 - val_rmspe_loss: 0.1973\n",
            "Epoch 7/25\n",
            "1650/1650 [==============================] - 17s 11ms/step - loss: 0.5340 - rmspe_loss: 0.2390 - val_loss: 0.2303 - val_rmspe_loss: 0.1878\n",
            "Epoch 8/25\n",
            "1650/1650 [==============================] - 17s 11ms/step - loss: 0.3688 - rmspe_loss: 0.2221 - val_loss: 0.2672 - val_rmspe_loss: 0.2091\n",
            "Epoch 9/25\n",
            "1650/1650 [==============================] - 17s 11ms/step - loss: 0.3672 - rmspe_loss: 0.2120 - val_loss: 0.9283 - val_rmspe_loss: 0.2972\n",
            "Epoch 10/25\n",
            "1650/1650 [==============================] - 17s 11ms/step - loss: 0.4934 - rmspe_loss: 0.2208 - val_loss: 0.2176 - val_rmspe_loss: 0.1625\n",
            "Epoch 11/25\n",
            "1650/1650 [==============================] - 17s 11ms/step - loss: 0.6698 - rmspe_loss: 0.2299 - val_loss: 0.2148 - val_rmspe_loss: 0.1615\n",
            "Epoch 12/25\n",
            "1650/1650 [==============================] - 17s 11ms/step - loss: 0.2742 - rmspe_loss: 0.2014 - val_loss: 0.2518 - val_rmspe_loss: 0.1754\n",
            "Epoch 13/25\n",
            "1650/1650 [==============================] - 18s 11ms/step - loss: 0.2681 - rmspe_loss: 0.1981 - val_loss: 0.1921 - val_rmspe_loss: 0.1556\n",
            "Epoch 14/25\n",
            "1650/1650 [==============================] - 17s 11ms/step - loss: 0.2284 - rmspe_loss: 0.1865 - val_loss: 0.1868 - val_rmspe_loss: 0.1500\n",
            "Epoch 15/25\n",
            "1650/1650 [==============================] - 17s 10ms/step - loss: 0.2420 - rmspe_loss: 0.1913 - val_loss: 0.2092 - val_rmspe_loss: 0.1677\n",
            "Epoch 16/25\n",
            "1650/1650 [==============================] - 17s 10ms/step - loss: 0.2571 - rmspe_loss: 0.1971 - val_loss: 0.1918 - val_rmspe_loss: 0.1563\n",
            "Epoch 17/25\n",
            "1650/1650 [==============================] - 17s 10ms/step - loss: 0.2631 - rmspe_loss: 0.2091 - val_loss: 0.1894 - val_rmspe_loss: 0.1609\n",
            "Epoch 18/25\n",
            "1650/1650 [==============================] - 17s 10ms/step - loss: 0.2192 - rmspe_loss: 0.1897 - val_loss: 0.1749 - val_rmspe_loss: 0.1536\n",
            "Epoch 19/25\n",
            "1650/1650 [==============================] - 17s 10ms/step - loss: 0.2111 - rmspe_loss: 0.1869 - val_loss: 0.1777 - val_rmspe_loss: 0.1534\n",
            "Epoch 20/25\n",
            "1650/1650 [==============================] - 17s 11ms/step - loss: 0.2180 - rmspe_loss: 0.1922 - val_loss: 0.1911 - val_rmspe_loss: 0.1679\n",
            "Epoch 21/25\n",
            "1650/1650 [==============================] - 17s 10ms/step - loss: 0.2169 - rmspe_loss: 0.1943 - val_loss: 0.1860 - val_rmspe_loss: 0.1650\n",
            "Epoch 22/25\n",
            "1650/1650 [==============================] - 17s 10ms/step - loss: 0.2112 - rmspe_loss: 0.1901 - val_loss: 0.1833 - val_rmspe_loss: 0.1614\n",
            "Epoch 23/25\n",
            "1650/1650 [==============================] - 17s 10ms/step - loss: 0.2136 - rmspe_loss: 0.1921 - val_loss: 0.1811 - val_rmspe_loss: 0.1610\n",
            "Epoch 24/25\n",
            "1650/1650 [==============================] - 17s 10ms/step - loss: 0.2170 - rmspe_loss: 0.1955 - val_loss: 0.1792 - val_rmspe_loss: 0.1589\n",
            "Epoch 25/25\n",
            "1650/1650 [==============================] - 17s 10ms/step - loss: 0.2125 - rmspe_loss: 0.1918 - val_loss: 0.1851 - val_rmspe_loss: 0.1636\n"
          ],
          "name": "stdout"
        },
        {
          "output_type": "execute_result",
          "data": {
            "text/plain": [
              "<tensorflow.python.training.tracking.util.CheckpointLoadStatus at 0x7fc727c27290>"
            ]
          },
          "metadata": {
            "tags": []
          },
          "execution_count": 97
        }
      ]
    },
    {
      "cell_type": "code",
      "metadata": {
        "colab": {
          "base_uri": "https://localhost:8080/",
          "height": 464
        },
        "id": "cM1-SR1P86vB",
        "outputId": "85eaae05-afbd-4d1e-cc3c-3e02ed8fef9c"
      },
      "source": [
        "#xval.groupby(errors.worst).mean()\n",
        "errors.groupby(xval.store).mean().sort_values('delta')"
      ],
      "execution_count": null,
      "outputs": [
        {
          "output_type": "execute_result",
          "data": {
            "text/html": [
              "<div>\n",
              "<style scoped>\n",
              "    .dataframe tbody tr th:only-of-type {\n",
              "        vertical-align: middle;\n",
              "    }\n",
              "\n",
              "    .dataframe tbody tr th {\n",
              "        vertical-align: top;\n",
              "    }\n",
              "\n",
              "    .dataframe thead th {\n",
              "        text-align: right;\n",
              "    }\n",
              "</style>\n",
              "<table border=\"1\" class=\"dataframe\">\n",
              "  <thead>\n",
              "    <tr style=\"text-align: right;\">\n",
              "      <th></th>\n",
              "      <th>real</th>\n",
              "      <th>preds</th>\n",
              "      <th>delta</th>\n",
              "      <th>worst</th>\n",
              "    </tr>\n",
              "    <tr>\n",
              "      <th>store</th>\n",
              "      <th></th>\n",
              "      <th></th>\n",
              "      <th></th>\n",
              "      <th></th>\n",
              "    </tr>\n",
              "  </thead>\n",
              "  <tbody>\n",
              "    <tr>\n",
              "      <th>192</th>\n",
              "      <td>13028.352564</td>\n",
              "      <td>7067.925781</td>\n",
              "      <td>-5960.426758</td>\n",
              "      <td>0.775641</td>\n",
              "    </tr>\n",
              "    <tr>\n",
              "      <th>262</th>\n",
              "      <td>21119.000000</td>\n",
              "      <td>17406.083984</td>\n",
              "      <td>-3712.915527</td>\n",
              "      <td>0.243386</td>\n",
              "    </tr>\n",
              "    <tr>\n",
              "      <th>827</th>\n",
              "      <td>14688.726115</td>\n",
              "      <td>11127.076172</td>\n",
              "      <td>-3561.649658</td>\n",
              "      <td>0.273885</td>\n",
              "    </tr>\n",
              "    <tr>\n",
              "      <th>1114</th>\n",
              "      <td>22099.114650</td>\n",
              "      <td>18853.486328</td>\n",
              "      <td>-3245.627930</td>\n",
              "      <td>0.235669</td>\n",
              "    </tr>\n",
              "    <tr>\n",
              "      <th>259</th>\n",
              "      <td>13146.735450</td>\n",
              "      <td>9915.023438</td>\n",
              "      <td>-3231.712158</td>\n",
              "      <td>0.211640</td>\n",
              "    </tr>\n",
              "    <tr>\n",
              "      <th>...</th>\n",
              "      <td>...</td>\n",
              "      <td>...</td>\n",
              "      <td>...</td>\n",
              "      <td>...</td>\n",
              "    </tr>\n",
              "    <tr>\n",
              "      <th>169</th>\n",
              "      <td>6052.320513</td>\n",
              "      <td>7456.936523</td>\n",
              "      <td>1404.615967</td>\n",
              "      <td>0.141026</td>\n",
              "    </tr>\n",
              "    <tr>\n",
              "      <th>905</th>\n",
              "      <td>6891.403846</td>\n",
              "      <td>8308.721680</td>\n",
              "      <td>1417.318115</td>\n",
              "      <td>0.128205</td>\n",
              "    </tr>\n",
              "    <tr>\n",
              "      <th>113</th>\n",
              "      <td>5946.012821</td>\n",
              "      <td>7637.097656</td>\n",
              "      <td>1691.084839</td>\n",
              "      <td>0.301282</td>\n",
              "    </tr>\n",
              "    <tr>\n",
              "      <th>629</th>\n",
              "      <td>6195.429487</td>\n",
              "      <td>7930.974609</td>\n",
              "      <td>1735.544922</td>\n",
              "      <td>0.307692</td>\n",
              "    </tr>\n",
              "    <tr>\n",
              "      <th>815</th>\n",
              "      <td>6357.493590</td>\n",
              "      <td>9133.609375</td>\n",
              "      <td>2776.115723</td>\n",
              "      <td>0.679487</td>\n",
              "    </tr>\n",
              "  </tbody>\n",
              "</table>\n",
              "<p>1115 rows × 4 columns</p>\n",
              "</div>"
            ],
            "text/plain": [
              "               real         preds        delta     worst\n",
              "store                                                   \n",
              "192    13028.352564   7067.925781 -5960.426758  0.775641\n",
              "262    21119.000000  17406.083984 -3712.915527  0.243386\n",
              "827    14688.726115  11127.076172 -3561.649658  0.273885\n",
              "1114   22099.114650  18853.486328 -3245.627930  0.235669\n",
              "259    13146.735450   9915.023438 -3231.712158  0.211640\n",
              "...             ...           ...          ...       ...\n",
              "169     6052.320513   7456.936523  1404.615967  0.141026\n",
              "905     6891.403846   8308.721680  1417.318115  0.128205\n",
              "113     5946.012821   7637.097656  1691.084839  0.301282\n",
              "629     6195.429487   7930.974609  1735.544922  0.307692\n",
              "815     6357.493590   9133.609375  2776.115723  0.679487\n",
              "\n",
              "[1115 rows x 4 columns]"
            ]
          },
          "metadata": {
            "tags": []
          },
          "execution_count": 62
        }
      ]
    },
    {
      "cell_type": "markdown",
      "metadata": {
        "id": "HhEtm4zGs2wR"
      },
      "source": [
        "# Hyperparameter Optimization\n"
      ]
    },
    {
      "cell_type": "code",
      "metadata": {
        "id": "b7p55EhIdPpQ",
        "colab": {
          "base_uri": "https://localhost:8080/"
        },
        "outputId": "62217c34-767e-4abe-e04f-c667444586b4"
      },
      "source": [
        "!pip install optuna"
      ],
      "execution_count": null,
      "outputs": [
        {
          "output_type": "stream",
          "text": [
            "Collecting optuna\n",
            "\u001b[?25l  Downloading https://files.pythonhosted.org/packages/91/88/9c53460b97c61bce926dfe9dce51e4887c283416ff89ed30af0b73f44efa/optuna-2.5.0-py3-none-any.whl (287kB)\n",
            "\u001b[K     |████████████████████████████████| 296kB 4.1MB/s \n",
            "\u001b[?25hCollecting cliff\n",
            "\u001b[?25l  Downloading https://files.pythonhosted.org/packages/a2/d6/7d9acb68a77acd140be7fececb7f2701b2a29d2da9c54184cb8f93509590/cliff-3.7.0-py3-none-any.whl (80kB)\n",
            "\u001b[K     |████████████████████████████████| 81kB 10.5MB/s \n",
            "\u001b[?25hRequirement already satisfied: tqdm in /usr/local/lib/python3.7/dist-packages (from optuna) (4.41.1)\n",
            "Requirement already satisfied: joblib in /usr/local/lib/python3.7/dist-packages (from optuna) (1.0.1)\n",
            "Requirement already satisfied: numpy in /usr/local/lib/python3.7/dist-packages (from optuna) (1.19.5)\n",
            "Requirement already satisfied: sqlalchemy>=1.1.0 in /usr/local/lib/python3.7/dist-packages (from optuna) (1.3.23)\n",
            "Collecting alembic\n",
            "\u001b[?25l  Downloading https://files.pythonhosted.org/packages/8e/07/799a76aca0acd406e3259cc6c558ca1cdadf88250953b6c8105b421a9e33/alembic-1.5.5.tar.gz (1.2MB)\n",
            "\u001b[K     |████████████████████████████████| 1.2MB 51.9MB/s \n",
            "\u001b[?25hRequirement already satisfied: scipy!=1.4.0 in /usr/local/lib/python3.7/dist-packages (from optuna) (1.4.1)\n",
            "Collecting cmaes>=0.6.0\n",
            "  Downloading https://files.pythonhosted.org/packages/01/1f/43b01223a0366171f474320c6e966c39a11587287f098a5f09809b45e05f/cmaes-0.8.2-py3-none-any.whl\n",
            "Requirement already satisfied: packaging>=20.0 in /usr/local/lib/python3.7/dist-packages (from optuna) (20.9)\n",
            "Collecting colorlog\n",
            "  Downloading https://files.pythonhosted.org/packages/5e/39/0230290df0519d528d8d0ffdfd900150ed24e0076d13b1f19e279444aab1/colorlog-4.7.2-py2.py3-none-any.whl\n",
            "Collecting pbr!=2.1.0,>=2.0.0\n",
            "\u001b[?25l  Downloading https://files.pythonhosted.org/packages/fb/48/69046506f6ac61c1eaa9a0d42d22d54673b69e176d30ca98e3f61513e980/pbr-5.5.1-py2.py3-none-any.whl (106kB)\n",
            "\u001b[K     |████████████████████████████████| 112kB 49.3MB/s \n",
            "\u001b[?25hRequirement already satisfied: PrettyTable>=0.7.2 in /usr/local/lib/python3.7/dist-packages (from cliff->optuna) (2.0.0)\n",
            "Requirement already satisfied: PyYAML>=3.12 in /usr/local/lib/python3.7/dist-packages (from cliff->optuna) (3.13)\n",
            "Collecting cmd2>=1.0.0\n",
            "\u001b[?25l  Downloading https://files.pythonhosted.org/packages/15/8b/15061b32332bb35ea2a2f6263d0f616779d576e82739ec8e7fcf3c94abf5/cmd2-1.5.0-py3-none-any.whl (133kB)\n",
            "\u001b[K     |████████████████████████████████| 143kB 55.2MB/s \n",
            "\u001b[?25hCollecting stevedore>=2.0.1\n",
            "\u001b[?25l  Downloading https://files.pythonhosted.org/packages/d4/49/b602307aeac3df3384ff1fcd05da9c0376c622a6c48bb5325f28ab165b57/stevedore-3.3.0-py3-none-any.whl (49kB)\n",
            "\u001b[K     |████████████████████████████████| 51kB 7.6MB/s \n",
            "\u001b[?25hRequirement already satisfied: pyparsing>=2.1.0 in /usr/local/lib/python3.7/dist-packages (from cliff->optuna) (2.4.7)\n",
            "Collecting Mako\n",
            "\u001b[?25l  Downloading https://files.pythonhosted.org/packages/5c/db/2d2d88b924aa4674a080aae83b59ea19d593250bfe5ed789947c21736785/Mako-1.1.4.tar.gz (479kB)\n",
            "\u001b[K     |████████████████████████████████| 481kB 52.1MB/s \n",
            "\u001b[?25hCollecting python-editor>=0.3\n",
            "  Downloading https://files.pythonhosted.org/packages/c6/d3/201fc3abe391bbae6606e6f1d598c15d367033332bd54352b12f35513717/python_editor-1.0.4-py3-none-any.whl\n",
            "Requirement already satisfied: python-dateutil in /usr/local/lib/python3.7/dist-packages (from alembic->optuna) (2.8.1)\n",
            "Requirement already satisfied: setuptools in /usr/local/lib/python3.7/dist-packages (from PrettyTable>=0.7.2->cliff->optuna) (53.0.0)\n",
            "Requirement already satisfied: wcwidth in /usr/local/lib/python3.7/dist-packages (from PrettyTable>=0.7.2->cliff->optuna) (0.2.5)\n",
            "Collecting pyperclip>=1.6\n",
            "  Downloading https://files.pythonhosted.org/packages/a7/2c/4c64579f847bd5d539803c8b909e54ba087a79d01bb3aba433a95879a6c5/pyperclip-1.8.2.tar.gz\n",
            "Requirement already satisfied: attrs>=16.3.0 in /usr/local/lib/python3.7/dist-packages (from cmd2>=1.0.0->cliff->optuna) (20.3.0)\n",
            "Requirement already satisfied: importlib-metadata>=1.6.0; python_version < \"3.8\" in /usr/local/lib/python3.7/dist-packages (from cmd2>=1.0.0->cliff->optuna) (3.7.0)\n",
            "Collecting colorama>=0.3.7\n",
            "  Downloading https://files.pythonhosted.org/packages/44/98/5b86278fbbf250d239ae0ecb724f8572af1c91f4a11edf4d36a206189440/colorama-0.4.4-py2.py3-none-any.whl\n",
            "Requirement already satisfied: MarkupSafe>=0.9.2 in /usr/local/lib/python3.7/dist-packages (from Mako->alembic->optuna) (1.1.1)\n",
            "Requirement already satisfied: six>=1.5 in /usr/local/lib/python3.7/dist-packages (from python-dateutil->alembic->optuna) (1.15.0)\n",
            "Requirement already satisfied: typing-extensions>=3.6.4; python_version < \"3.8\" in /usr/local/lib/python3.7/dist-packages (from importlib-metadata>=1.6.0; python_version < \"3.8\"->cmd2>=1.0.0->cliff->optuna) (3.7.4.3)\n",
            "Requirement already satisfied: zipp>=0.5 in /usr/local/lib/python3.7/dist-packages (from importlib-metadata>=1.6.0; python_version < \"3.8\"->cmd2>=1.0.0->cliff->optuna) (3.4.0)\n",
            "Building wheels for collected packages: alembic, Mako, pyperclip\n",
            "  Building wheel for alembic (setup.py) ... \u001b[?25l\u001b[?25hdone\n",
            "  Created wheel for alembic: filename=alembic-1.5.5-py2.py3-none-any.whl size=156597 sha256=f042e00fa8f3712e7317e0b004cd18457f716f9db4e96112a41fb1cfaa689476\n",
            "  Stored in directory: /root/.cache/pip/wheels/74/3f/61/7de6e3cef766d2680a5d81b1a388286e640f6a681eb589d643\n",
            "  Building wheel for Mako (setup.py) ... \u001b[?25l\u001b[?25hdone\n",
            "  Created wheel for Mako: filename=Mako-1.1.4-py2.py3-none-any.whl size=75675 sha256=0d60ec0b11eb971a6452d3b177faffd1e1b3f08f810b42764c81e7865cf2f5f4\n",
            "  Stored in directory: /root/.cache/pip/wheels/ad/10/d3/aeb26e20d19045e2a68e5d3cbb57432e11b5d9c92c99f98d47\n",
            "  Building wheel for pyperclip (setup.py) ... \u001b[?25l\u001b[?25hdone\n",
            "  Created wheel for pyperclip: filename=pyperclip-1.8.2-cp37-none-any.whl size=11107 sha256=95dcbd537c011ed4ecc42533b6aaa7111032353ca917ba861d9de232bbb48b3c\n",
            "  Stored in directory: /root/.cache/pip/wheels/25/af/b8/3407109267803f4015e1ee2ff23be0c8c19ce4008665931ee1\n",
            "Successfully built alembic Mako pyperclip\n",
            "Installing collected packages: pbr, pyperclip, colorama, cmd2, stevedore, cliff, Mako, python-editor, alembic, cmaes, colorlog, optuna\n",
            "Successfully installed Mako-1.1.4 alembic-1.5.5 cliff-3.7.0 cmaes-0.8.2 cmd2-1.5.0 colorama-0.4.4 colorlog-4.7.2 optuna-2.5.0 pbr-5.5.1 pyperclip-1.8.2 python-editor-1.0.4 stevedore-3.3.0\n"
          ],
          "name": "stdout"
        }
      ]
    },
    {
      "cell_type": "code",
      "metadata": {
        "id": "r63-8wvOb0ge"
      },
      "source": [
        "import optuna\n",
        "from RossmannSalesPrediction.helpers.evaluation import rmspcte\n",
        "\n",
        "def objective(trial):\n",
        "    dimtable = {k: v for k, v in zip(embedding_fts, [xtrain_nn[col].nunique() for col in embedding_fts])}\n",
        "\n",
        "    num_input = keras.Input(shape=(xtrain_nn_num.shape[1], ))\n",
        "    emb_inputs = [keras.Input(shape=(1, )) for _ in embedding_fts]\n",
        "\n",
        "    emb_table = {\n",
        "        'store': 10,\n",
        "        'dayofweek': 6,\n",
        "        'dayofyear': 6,\n",
        "        'stateholiday': 2,\n",
        "        'monthofyear': 6,\n",
        "        'weekofyear': 5,\n",
        "        'dayofmonth': 10,\n",
        "        'storetype': 2,\n",
        "        'assortment': 2,\n",
        "        'promointerval': 2,\n",
        "        'elapsed_promo_fwd': 5,\n",
        "        'elapsed_promo_backwd': 5,\n",
        "        'elapsed_schoolholiday_fwd': 5,\n",
        "        'elapsed_schoolholiday_backwd': 5,\n",
        "    }\n",
        "\n",
        "\n",
        "    act = trial.suggest_categorical('act_fn', ['relu', 'sigmoid', 'tanh'])\n",
        "    emb_layers = [keras.layers.Embedding(input_dim=dimtable[col]+1, output_dim=emb_table[col])(emb_inputs[idx]) for idx, col in enumerate(embedding_fts)]\n",
        "    # num_dense = keras.layers.Dense(units=2**trial.suggest_int('units_numdense', 4, 10), activation=act, kernel_regularizer=keras.regularizers.l2())(num_input)\n",
        "\n",
        "    #dense1 = keras.layers.Dense(units=64, activation='relu')(num_input)\n",
        "    flats = [keras.layers.Flatten()(x) for x in emb_layers + [num_input]]\n",
        "    concat = keras.layers.Concatenate()(flats)\n",
        "\n",
        "\n",
        "    \n",
        "    hidden_dense = keras.layers.Dense(units=2**trial.suggest_int('units_1', 5, 15), activation=act, kernel_regularizer=keras.regularizers.l2())(concat)\n",
        "    hidden_dense = keras.layers.Dropout(0.2)(hidden_dense)\n",
        "    hidden_dense = keras.layers.Dense(units=2**trial.suggest_int('units_2', 5, 15), activation=act, kernel_regularizer=keras.regularizers.l2())(hidden_dense)\n",
        "    hidden_dense = keras.layers.Dropout(0.2)(hidden_dense)\n",
        "\n",
        "\n",
        "    out = keras.layers.Dense(units=1, activation='linear', )(hidden_dense) # bias_initializer=keras.initializers.Constant(ytrain.mean())\n",
        "\n",
        "    model: keras.Model = keras.Model(inputs=emb_inputs + [num_input], outputs=out)\n",
        "\n",
        "    from tensorflow.keras.callbacks import ModelCheckpoint\n",
        "\n",
        "    mcp = ModelCheckpoint('.modelcheckpoint', save_best_only=True, save_weights_only=True)\n",
        "\n",
        "\n",
        "    model.compile(optimizer=keras.optimizers.Adam(1e-2), loss=rmspe_loss, metrics=[rmspe_loss])\n",
        "\n",
        "    train_in = np.split(xtrain_nn_emb, xtrain_nn_emb.shape[-1], axis=1) + [xtrain_nn_num]\n",
        "    val_in = np.split(xval_nn_emb, xval_nn_emb.shape[-1], axis=1) + [xval_nn_num]\n",
        "\n",
        "    bs = 512 # 2**trial.suggest_int('bs', 6, 11)\n",
        "    model.fit(x=train_in, y=ytrain.values.flatten().astype(np.float32), validation_data=(val_in, yval.values.flatten().astype(np.float32)), epochs=8, batch_size=bs, callbacks=[mcp, keras.callbacks.ReduceLROnPlateau(patience=2)])\n",
        "\n",
        "    model.load_weights(\".modelcheckpoint\")\n",
        "\n",
        "    preds = model.predict(val_in)\n",
        "    return rmspcte(yval, preds)\n",
        "\n",
        "#study = optuna.create_study(storage=\"sqlite:///univariate_optuna.db\", study_name=\"univariate_nn\", load_if_exists=True, sampler=optuna.samplers.RandomSampler())\n",
        "#study.optimize(objective, n_trials=20, )\n"
      ],
      "execution_count": null,
      "outputs": []
    },
    {
      "cell_type": "code",
      "metadata": {
        "id": "B310AOkYl4xT"
      },
      "source": [
        "#!pip install optuna==2.5.0\n",
        "#!optuna storage upgrade --storage larger_space_univariate_optuna.db\n",
        "import optuna\n",
        "study2 = optuna.load_study('univariate_nn', storage=\"sqlite:///larger_space_univariate_optuna.db\")"
      ],
      "execution_count": null,
      "outputs": []
    },
    {
      "cell_type": "code",
      "metadata": {
        "id": "j3dCvjFGMpbG",
        "colab": {
          "base_uri": "https://localhost:8080/",
          "height": 562
        },
        "outputId": "d42032e7-6e7e-4150-a5e6-4ee96ad6576c"
      },
      "source": [
        "from optuna.visualization import plot_parallel_coordinate\n",
        "\n",
        "plot_parallel_coordinate(study2)"
      ],
      "execution_count": null,
      "outputs": [
        {
          "output_type": "display_data",
          "data": {
            "text/html": [
              "<html>\n",
              "<head><meta charset=\"utf-8\" /></head>\n",
              "<body>\n",
              "    <div>\n",
              "            <script src=\"https://cdnjs.cloudflare.com/ajax/libs/mathjax/2.7.5/MathJax.js?config=TeX-AMS-MML_SVG\"></script><script type=\"text/javascript\">if (window.MathJax) {MathJax.Hub.Config({SVG: {font: \"STIX-Web\"}});}</script>\n",
              "                <script type=\"text/javascript\">window.PlotlyConfig = {MathJaxConfig: 'local'};</script>\n",
              "        <script src=\"https://cdn.plot.ly/plotly-latest.min.js\"></script>    \n",
              "            <div id=\"f6ec45da-13be-4c2c-812e-d3a011a8aaef\" class=\"plotly-graph-div\" style=\"height:525px; width:100%;\"></div>\n",
              "            <script type=\"text/javascript\">\n",
              "                \n",
              "                    window.PLOTLYENV=window.PLOTLYENV || {};\n",
              "                    \n",
              "                if (document.getElementById(\"f6ec45da-13be-4c2c-812e-d3a011a8aaef\")) {\n",
              "                    Plotly.newPlot(\n",
              "                        'f6ec45da-13be-4c2c-812e-d3a011a8aaef',\n",
              "                        [{\"dimensions\": [{\"label\": \"Objective Value\", \"range\": [0.18061316041176642, 0.46486489931796643], \"values\": [0.46486489931796643, 0.2803652302969633, 0.1884733733602803, 0.2824544768467869, 0.2854322021191057, 0.18972239635521837, 0.293906334507685, 0.18567285376015336, 0.23551160632521861, 0.189664555127372, 0.18591111425207785, 0.18656643640639345, 0.18907550168248424, 0.18793026118297085, 0.24344275312318664, 0.18061316041176642, 0.18796705584642848, 0.18719087187934064, 0.18706227470089015, 0.18288683068431058, 0.21374161742306266, 0.18621590138823102]}, {\"label\": \"act_fn\", \"range\": [0, 2], \"ticktext\": [[\"sigmoid\", 0], [\"relu\", 1], [\"tanh\", 2]], \"tickvals\": [0, 1, 2], \"values\": [0, 1, 1, 0, 2, 1, 0, 1, 0, 2, 1, 1, 1, 1, 1, 1, 2, 1, 1, 1, 1, 1]}, {\"label\": \"units_1\", \"range\": [5, 15], \"values\": [13, 15, 8, 12, 8, 8, 5, 7, 6, 7, 10, 10, 10, 12, 10, 5, 5, 6, 5, 7, 9, 9]}, {\"label\": \"units_2\", \"range\": [5, 15], \"values\": [8, 7, 11, 10, 7, 11, 10, 15, 13, 12, 15, 15, 15, 14, 5, 15, 13, 14, 13, 14, 13, 13]}], \"labelangle\": 30, \"labelside\": \"bottom\", \"line\": {\"color\": [0.46486489931796643, 0.2803652302969633, 0.1884733733602803, 0.2824544768467869, 0.2854322021191057, 0.18972239635521837, 0.293906334507685, 0.18567285376015336, 0.23551160632521861, 0.189664555127372, 0.18591111425207785, 0.18656643640639345, 0.18907550168248424, 0.18793026118297085, 0.24344275312318664, 0.18061316041176642, 0.18796705584642848, 0.18719087187934064, 0.18706227470089015, 0.18288683068431058, 0.21374161742306266, 0.18621590138823102], \"colorbar\": {\"title\": {\"text\": \"Objective Value\"}}, \"colorscale\": [[0.0, \"rgb(247,251,255)\"], [0.125, \"rgb(222,235,247)\"], [0.25, \"rgb(198,219,239)\"], [0.375, \"rgb(158,202,225)\"], [0.5, \"rgb(107,174,214)\"], [0.625, \"rgb(66,146,198)\"], [0.75, \"rgb(33,113,181)\"], [0.875, \"rgb(8,81,156)\"], [1.0, \"rgb(8,48,107)\"]], \"reversescale\": true, \"showscale\": true}, \"type\": \"parcoords\"}],\n",
              "                        {\"template\": {\"data\": {\"bar\": [{\"error_x\": {\"color\": \"#2a3f5f\"}, \"error_y\": {\"color\": \"#2a3f5f\"}, \"marker\": {\"line\": {\"color\": \"#E5ECF6\", \"width\": 0.5}}, \"type\": \"bar\"}], \"barpolar\": [{\"marker\": {\"line\": {\"color\": \"#E5ECF6\", \"width\": 0.5}}, \"type\": \"barpolar\"}], \"carpet\": [{\"aaxis\": {\"endlinecolor\": \"#2a3f5f\", \"gridcolor\": \"white\", \"linecolor\": \"white\", \"minorgridcolor\": \"white\", \"startlinecolor\": \"#2a3f5f\"}, \"baxis\": {\"endlinecolor\": \"#2a3f5f\", \"gridcolor\": \"white\", \"linecolor\": \"white\", \"minorgridcolor\": \"white\", \"startlinecolor\": \"#2a3f5f\"}, \"type\": \"carpet\"}], \"choropleth\": [{\"colorbar\": {\"outlinewidth\": 0, \"ticks\": \"\"}, \"type\": \"choropleth\"}], \"contour\": [{\"colorbar\": {\"outlinewidth\": 0, \"ticks\": \"\"}, \"colorscale\": [[0.0, \"#0d0887\"], [0.1111111111111111, \"#46039f\"], [0.2222222222222222, \"#7201a8\"], [0.3333333333333333, \"#9c179e\"], [0.4444444444444444, \"#bd3786\"], [0.5555555555555556, \"#d8576b\"], [0.6666666666666666, \"#ed7953\"], [0.7777777777777778, \"#fb9f3a\"], [0.8888888888888888, \"#fdca26\"], [1.0, \"#f0f921\"]], \"type\": \"contour\"}], \"contourcarpet\": [{\"colorbar\": {\"outlinewidth\": 0, \"ticks\": \"\"}, \"type\": \"contourcarpet\"}], \"heatmap\": [{\"colorbar\": {\"outlinewidth\": 0, \"ticks\": \"\"}, \"colorscale\": [[0.0, \"#0d0887\"], [0.1111111111111111, \"#46039f\"], [0.2222222222222222, \"#7201a8\"], [0.3333333333333333, \"#9c179e\"], [0.4444444444444444, \"#bd3786\"], [0.5555555555555556, \"#d8576b\"], [0.6666666666666666, \"#ed7953\"], [0.7777777777777778, \"#fb9f3a\"], [0.8888888888888888, \"#fdca26\"], [1.0, \"#f0f921\"]], \"type\": \"heatmap\"}], \"heatmapgl\": [{\"colorbar\": {\"outlinewidth\": 0, \"ticks\": \"\"}, \"colorscale\": [[0.0, \"#0d0887\"], [0.1111111111111111, \"#46039f\"], [0.2222222222222222, \"#7201a8\"], [0.3333333333333333, \"#9c179e\"], [0.4444444444444444, \"#bd3786\"], [0.5555555555555556, \"#d8576b\"], [0.6666666666666666, \"#ed7953\"], [0.7777777777777778, \"#fb9f3a\"], [0.8888888888888888, \"#fdca26\"], [1.0, \"#f0f921\"]], \"type\": \"heatmapgl\"}], \"histogram\": [{\"marker\": {\"colorbar\": {\"outlinewidth\": 0, \"ticks\": \"\"}}, \"type\": \"histogram\"}], \"histogram2d\": [{\"colorbar\": {\"outlinewidth\": 0, \"ticks\": \"\"}, \"colorscale\": [[0.0, \"#0d0887\"], [0.1111111111111111, \"#46039f\"], [0.2222222222222222, \"#7201a8\"], [0.3333333333333333, \"#9c179e\"], [0.4444444444444444, \"#bd3786\"], [0.5555555555555556, \"#d8576b\"], [0.6666666666666666, \"#ed7953\"], [0.7777777777777778, \"#fb9f3a\"], [0.8888888888888888, \"#fdca26\"], [1.0, \"#f0f921\"]], \"type\": \"histogram2d\"}], \"histogram2dcontour\": [{\"colorbar\": {\"outlinewidth\": 0, \"ticks\": \"\"}, \"colorscale\": [[0.0, \"#0d0887\"], [0.1111111111111111, \"#46039f\"], [0.2222222222222222, \"#7201a8\"], [0.3333333333333333, \"#9c179e\"], [0.4444444444444444, \"#bd3786\"], [0.5555555555555556, \"#d8576b\"], [0.6666666666666666, \"#ed7953\"], [0.7777777777777778, \"#fb9f3a\"], [0.8888888888888888, \"#fdca26\"], [1.0, \"#f0f921\"]], \"type\": \"histogram2dcontour\"}], \"mesh3d\": [{\"colorbar\": {\"outlinewidth\": 0, \"ticks\": \"\"}, \"type\": \"mesh3d\"}], \"parcoords\": [{\"line\": {\"colorbar\": {\"outlinewidth\": 0, \"ticks\": \"\"}}, \"type\": \"parcoords\"}], \"pie\": [{\"automargin\": true, \"type\": \"pie\"}], \"scatter\": [{\"marker\": {\"colorbar\": {\"outlinewidth\": 0, \"ticks\": \"\"}}, \"type\": \"scatter\"}], \"scatter3d\": [{\"line\": {\"colorbar\": {\"outlinewidth\": 0, \"ticks\": \"\"}}, \"marker\": {\"colorbar\": {\"outlinewidth\": 0, \"ticks\": \"\"}}, \"type\": \"scatter3d\"}], \"scattercarpet\": [{\"marker\": {\"colorbar\": {\"outlinewidth\": 0, \"ticks\": \"\"}}, \"type\": \"scattercarpet\"}], \"scattergeo\": [{\"marker\": {\"colorbar\": {\"outlinewidth\": 0, \"ticks\": \"\"}}, \"type\": \"scattergeo\"}], \"scattergl\": [{\"marker\": {\"colorbar\": {\"outlinewidth\": 0, \"ticks\": \"\"}}, \"type\": \"scattergl\"}], \"scattermapbox\": [{\"marker\": {\"colorbar\": {\"outlinewidth\": 0, \"ticks\": \"\"}}, \"type\": \"scattermapbox\"}], \"scatterpolar\": [{\"marker\": {\"colorbar\": {\"outlinewidth\": 0, \"ticks\": \"\"}}, \"type\": \"scatterpolar\"}], \"scatterpolargl\": [{\"marker\": {\"colorbar\": {\"outlinewidth\": 0, \"ticks\": \"\"}}, \"type\": \"scatterpolargl\"}], \"scatterternary\": [{\"marker\": {\"colorbar\": {\"outlinewidth\": 0, \"ticks\": \"\"}}, \"type\": \"scatterternary\"}], \"surface\": [{\"colorbar\": {\"outlinewidth\": 0, \"ticks\": \"\"}, \"colorscale\": [[0.0, \"#0d0887\"], [0.1111111111111111, \"#46039f\"], [0.2222222222222222, \"#7201a8\"], [0.3333333333333333, \"#9c179e\"], [0.4444444444444444, \"#bd3786\"], [0.5555555555555556, \"#d8576b\"], [0.6666666666666666, \"#ed7953\"], [0.7777777777777778, \"#fb9f3a\"], [0.8888888888888888, \"#fdca26\"], [1.0, \"#f0f921\"]], \"type\": \"surface\"}], \"table\": [{\"cells\": {\"fill\": {\"color\": \"#EBF0F8\"}, \"line\": {\"color\": \"white\"}}, \"header\": {\"fill\": {\"color\": \"#C8D4E3\"}, \"line\": {\"color\": \"white\"}}, \"type\": \"table\"}]}, \"layout\": {\"annotationdefaults\": {\"arrowcolor\": \"#2a3f5f\", \"arrowhead\": 0, \"arrowwidth\": 1}, \"coloraxis\": {\"colorbar\": {\"outlinewidth\": 0, \"ticks\": \"\"}}, \"colorscale\": {\"diverging\": [[0, \"#8e0152\"], [0.1, \"#c51b7d\"], [0.2, \"#de77ae\"], [0.3, \"#f1b6da\"], [0.4, \"#fde0ef\"], [0.5, \"#f7f7f7\"], [0.6, \"#e6f5d0\"], [0.7, \"#b8e186\"], [0.8, \"#7fbc41\"], [0.9, \"#4d9221\"], [1, \"#276419\"]], \"sequential\": [[0.0, \"#0d0887\"], [0.1111111111111111, \"#46039f\"], [0.2222222222222222, \"#7201a8\"], [0.3333333333333333, \"#9c179e\"], [0.4444444444444444, \"#bd3786\"], [0.5555555555555556, \"#d8576b\"], [0.6666666666666666, \"#ed7953\"], [0.7777777777777778, \"#fb9f3a\"], [0.8888888888888888, \"#fdca26\"], [1.0, \"#f0f921\"]], \"sequentialminus\": [[0.0, \"#0d0887\"], [0.1111111111111111, \"#46039f\"], [0.2222222222222222, \"#7201a8\"], [0.3333333333333333, \"#9c179e\"], [0.4444444444444444, \"#bd3786\"], [0.5555555555555556, \"#d8576b\"], [0.6666666666666666, \"#ed7953\"], [0.7777777777777778, \"#fb9f3a\"], [0.8888888888888888, \"#fdca26\"], [1.0, \"#f0f921\"]]}, \"colorway\": [\"#636efa\", \"#EF553B\", \"#00cc96\", \"#ab63fa\", \"#FFA15A\", \"#19d3f3\", \"#FF6692\", \"#B6E880\", \"#FF97FF\", \"#FECB52\"], \"font\": {\"color\": \"#2a3f5f\"}, \"geo\": {\"bgcolor\": \"white\", \"lakecolor\": \"white\", \"landcolor\": \"#E5ECF6\", \"showlakes\": true, \"showland\": true, \"subunitcolor\": \"white\"}, \"hoverlabel\": {\"align\": \"left\"}, \"hovermode\": \"closest\", \"mapbox\": {\"style\": \"light\"}, \"paper_bgcolor\": \"white\", \"plot_bgcolor\": \"#E5ECF6\", \"polar\": {\"angularaxis\": {\"gridcolor\": \"white\", \"linecolor\": \"white\", \"ticks\": \"\"}, \"bgcolor\": \"#E5ECF6\", \"radialaxis\": {\"gridcolor\": \"white\", \"linecolor\": \"white\", \"ticks\": \"\"}}, \"scene\": {\"xaxis\": {\"backgroundcolor\": \"#E5ECF6\", \"gridcolor\": \"white\", \"gridwidth\": 2, \"linecolor\": \"white\", \"showbackground\": true, \"ticks\": \"\", \"zerolinecolor\": \"white\"}, \"yaxis\": {\"backgroundcolor\": \"#E5ECF6\", \"gridcolor\": \"white\", \"gridwidth\": 2, \"linecolor\": \"white\", \"showbackground\": true, \"ticks\": \"\", \"zerolinecolor\": \"white\"}, \"zaxis\": {\"backgroundcolor\": \"#E5ECF6\", \"gridcolor\": \"white\", \"gridwidth\": 2, \"linecolor\": \"white\", \"showbackground\": true, \"ticks\": \"\", \"zerolinecolor\": \"white\"}}, \"shapedefaults\": {\"line\": {\"color\": \"#2a3f5f\"}}, \"ternary\": {\"aaxis\": {\"gridcolor\": \"white\", \"linecolor\": \"white\", \"ticks\": \"\"}, \"baxis\": {\"gridcolor\": \"white\", \"linecolor\": \"white\", \"ticks\": \"\"}, \"bgcolor\": \"#E5ECF6\", \"caxis\": {\"gridcolor\": \"white\", \"linecolor\": \"white\", \"ticks\": \"\"}}, \"title\": {\"x\": 0.05}, \"xaxis\": {\"automargin\": true, \"gridcolor\": \"white\", \"linecolor\": \"white\", \"ticks\": \"\", \"title\": {\"standoff\": 15}, \"zerolinecolor\": \"white\", \"zerolinewidth\": 2}, \"yaxis\": {\"automargin\": true, \"gridcolor\": \"white\", \"linecolor\": \"white\", \"ticks\": \"\", \"title\": {\"standoff\": 15}, \"zerolinecolor\": \"white\", \"zerolinewidth\": 2}}}, \"title\": {\"text\": \"Parallel Coordinate Plot\"}},\n",
              "                        {\"responsive\": true}\n",
              "                    ).then(function(){\n",
              "                            \n",
              "var gd = document.getElementById('f6ec45da-13be-4c2c-812e-d3a011a8aaef');\n",
              "var x = new MutationObserver(function (mutations, observer) {{\n",
              "        var display = window.getComputedStyle(gd).display;\n",
              "        if (!display || display === 'none') {{\n",
              "            console.log([gd, 'removed!']);\n",
              "            Plotly.purge(gd);\n",
              "            observer.disconnect();\n",
              "        }}\n",
              "}});\n",
              "\n",
              "// Listen for the removal of the full notebook cells\n",
              "var notebookContainer = gd.closest('#notebook-container');\n",
              "if (notebookContainer) {{\n",
              "    x.observe(notebookContainer, {childList: true});\n",
              "}}\n",
              "\n",
              "// Listen for the clearing of the current output cell\n",
              "var outputEl = gd.closest('.output');\n",
              "if (outputEl) {{\n",
              "    x.observe(outputEl, {childList: true});\n",
              "}}\n",
              "\n",
              "                        })\n",
              "                };\n",
              "                \n",
              "            </script>\n",
              "        </div>\n",
              "</body>\n",
              "</html>"
            ]
          },
          "metadata": {
            "tags": []
          }
        }
      ]
    },
    {
      "cell_type": "code",
      "metadata": {
        "colab": {
          "base_uri": "https://localhost:8080/"
        },
        "id": "jaN9kwtxu-VJ",
        "outputId": "77673739-06f2-45d6-9402-08b77036439e"
      },
      "source": [
        "model.summary()"
      ],
      "execution_count": 149,
      "outputs": [
        {
          "output_type": "stream",
          "text": [
            "Model: \"model_13\"\n",
            "__________________________________________________________________________________________________\n",
            "Layer (type)                    Output Shape         Param #     Connected to                     \n",
            "==================================================================================================\n",
            "input_197 (InputLayer)          [(None, 1)]          0                                            \n",
            "__________________________________________________________________________________________________\n",
            "input_198 (InputLayer)          [(None, 1)]          0                                            \n",
            "__________________________________________________________________________________________________\n",
            "input_199 (InputLayer)          [(None, 1)]          0                                            \n",
            "__________________________________________________________________________________________________\n",
            "input_200 (InputLayer)          [(None, 1)]          0                                            \n",
            "__________________________________________________________________________________________________\n",
            "input_201 (InputLayer)          [(None, 1)]          0                                            \n",
            "__________________________________________________________________________________________________\n",
            "input_202 (InputLayer)          [(None, 1)]          0                                            \n",
            "__________________________________________________________________________________________________\n",
            "input_203 (InputLayer)          [(None, 1)]          0                                            \n",
            "__________________________________________________________________________________________________\n",
            "input_204 (InputLayer)          [(None, 1)]          0                                            \n",
            "__________________________________________________________________________________________________\n",
            "input_205 (InputLayer)          [(None, 1)]          0                                            \n",
            "__________________________________________________________________________________________________\n",
            "input_206 (InputLayer)          [(None, 1)]          0                                            \n",
            "__________________________________________________________________________________________________\n",
            "input_207 (InputLayer)          [(None, 1)]          0                                            \n",
            "__________________________________________________________________________________________________\n",
            "input_208 (InputLayer)          [(None, 1)]          0                                            \n",
            "__________________________________________________________________________________________________\n",
            "input_209 (InputLayer)          [(None, 1)]          0                                            \n",
            "__________________________________________________________________________________________________\n",
            "input_210 (InputLayer)          [(None, 1)]          0                                            \n",
            "__________________________________________________________________________________________________\n",
            "embedding_182 (Embedding)       (None, 1, 10)        11160       input_197[0][0]                  \n",
            "__________________________________________________________________________________________________\n",
            "embedding_183 (Embedding)       (None, 1, 6)         48          input_198[0][0]                  \n",
            "__________________________________________________________________________________________________\n",
            "embedding_184 (Embedding)       (None, 1, 6)         2196        input_199[0][0]                  \n",
            "__________________________________________________________________________________________________\n",
            "embedding_185 (Embedding)       (None, 1, 2)         10          input_200[0][0]                  \n",
            "__________________________________________________________________________________________________\n",
            "embedding_186 (Embedding)       (None, 1, 6)         78          input_201[0][0]                  \n",
            "__________________________________________________________________________________________________\n",
            "embedding_187 (Embedding)       (None, 1, 10)        320         input_202[0][0]                  \n",
            "__________________________________________________________________________________________________\n",
            "embedding_188 (Embedding)       (None, 1, 2)         10          input_203[0][0]                  \n",
            "__________________________________________________________________________________________________\n",
            "embedding_189 (Embedding)       (None, 1, 2)         8           input_204[0][0]                  \n",
            "__________________________________________________________________________________________________\n",
            "embedding_190 (Embedding)       (None, 1, 2)         10          input_205[0][0]                  \n",
            "__________________________________________________________________________________________________\n",
            "embedding_191 (Embedding)       (None, 1, 5)         265         input_206[0][0]                  \n",
            "__________________________________________________________________________________________________\n",
            "embedding_192 (Embedding)       (None, 1, 5)         90          input_207[0][0]                  \n",
            "__________________________________________________________________________________________________\n",
            "embedding_193 (Embedding)       (None, 1, 5)         90          input_208[0][0]                  \n",
            "__________________________________________________________________________________________________\n",
            "embedding_194 (Embedding)       (None, 1, 5)         245         input_209[0][0]                  \n",
            "__________________________________________________________________________________________________\n",
            "embedding_195 (Embedding)       (None, 1, 5)         245         input_210[0][0]                  \n",
            "__________________________________________________________________________________________________\n",
            "input_196 (InputLayer)          [(None, 7)]          0                                            \n",
            "__________________________________________________________________________________________________\n",
            "flatten_195 (Flatten)           (None, 10)           0           embedding_182[0][0]              \n",
            "__________________________________________________________________________________________________\n",
            "flatten_196 (Flatten)           (None, 6)            0           embedding_183[0][0]              \n",
            "__________________________________________________________________________________________________\n",
            "flatten_197 (Flatten)           (None, 6)            0           embedding_184[0][0]              \n",
            "__________________________________________________________________________________________________\n",
            "flatten_198 (Flatten)           (None, 2)            0           embedding_185[0][0]              \n",
            "__________________________________________________________________________________________________\n",
            "flatten_199 (Flatten)           (None, 6)            0           embedding_186[0][0]              \n",
            "__________________________________________________________________________________________________\n",
            "flatten_200 (Flatten)           (None, 10)           0           embedding_187[0][0]              \n",
            "__________________________________________________________________________________________________\n",
            "flatten_201 (Flatten)           (None, 2)            0           embedding_188[0][0]              \n",
            "__________________________________________________________________________________________________\n",
            "flatten_202 (Flatten)           (None, 2)            0           embedding_189[0][0]              \n",
            "__________________________________________________________________________________________________\n",
            "flatten_203 (Flatten)           (None, 2)            0           embedding_190[0][0]              \n",
            "__________________________________________________________________________________________________\n",
            "flatten_204 (Flatten)           (None, 5)            0           embedding_191[0][0]              \n",
            "__________________________________________________________________________________________________\n",
            "flatten_205 (Flatten)           (None, 5)            0           embedding_192[0][0]              \n",
            "__________________________________________________________________________________________________\n",
            "flatten_206 (Flatten)           (None, 5)            0           embedding_193[0][0]              \n",
            "__________________________________________________________________________________________________\n",
            "flatten_207 (Flatten)           (None, 5)            0           embedding_194[0][0]              \n",
            "__________________________________________________________________________________________________\n",
            "flatten_208 (Flatten)           (None, 5)            0           embedding_195[0][0]              \n",
            "__________________________________________________________________________________________________\n",
            "flatten_209 (Flatten)           (None, 7)            0           input_196[0][0]                  \n",
            "__________________________________________________________________________________________________\n",
            "concatenate_13 (Concatenate)    (None, 78)           0           flatten_195[0][0]                \n",
            "                                                                 flatten_196[0][0]                \n",
            "                                                                 flatten_197[0][0]                \n",
            "                                                                 flatten_198[0][0]                \n",
            "                                                                 flatten_199[0][0]                \n",
            "                                                                 flatten_200[0][0]                \n",
            "                                                                 flatten_201[0][0]                \n",
            "                                                                 flatten_202[0][0]                \n",
            "                                                                 flatten_203[0][0]                \n",
            "                                                                 flatten_204[0][0]                \n",
            "                                                                 flatten_205[0][0]                \n",
            "                                                                 flatten_206[0][0]                \n",
            "                                                                 flatten_207[0][0]                \n",
            "                                                                 flatten_208[0][0]                \n",
            "                                                                 flatten_209[0][0]                \n",
            "__________________________________________________________________________________________________\n",
            "dense_39 (Dense)                (None, 512)          40448       concatenate_13[0][0]             \n",
            "__________________________________________________________________________________________________\n",
            "dropout_26 (Dropout)            (None, 512)          0           dense_39[0][0]                   \n",
            "__________________________________________________________________________________________________\n",
            "dense_40 (Dense)                (None, 8192)         4202496     dropout_26[0][0]                 \n",
            "__________________________________________________________________________________________________\n",
            "dropout_27 (Dropout)            (None, 8192)         0           dense_40[0][0]                   \n",
            "__________________________________________________________________________________________________\n",
            "dense_41 (Dense)                (None, 1)            8193        dropout_27[0][0]                 \n",
            "==================================================================================================\n",
            "Total params: 4,265,912\n",
            "Trainable params: 4,265,912\n",
            "Non-trainable params: 0\n",
            "__________________________________________________________________________________________________\n"
          ],
          "name": "stdout"
        }
      ]
    },
    {
      "cell_type": "code",
      "metadata": {
        "id": "0GsTVrpfV838"
      },
      "source": [
        "# TEST SUBMISSION\n",
        "\n",
        "test_raw = pd.read_csv(root_path + \"data/test.csv\").drop('Id', axis=1).reset_index(drop=True)\n",
        "test = fix_df(test_raw.copy())\n",
        "\n",
        "\n",
        "promo_elapsed = (\n",
        "    test.groupby('date').mean().reset_index()\n",
        "    .pipe(feature_engineering.time_elapsed, 'promo', 'forward')\n",
        "    .pipe(feature_engineering.time_elapsed, 'promo', 'backward')\n",
        "    .pipe(feature_engineering.time_elapsed, 'schoolholiday', 'forward')\n",
        "    .pipe(feature_engineering.time_elapsed, 'schoolholiday', 'backward')\n",
        "    [['date', 'elapsed_promo_fwd', 'elapsed_promo_backwd', 'elapsed_schoolholiday_fwd', 'elapsed_schoolholiday_backwd']]\n",
        ")\n",
        "\n",
        "test = pd.merge(test, promo_elapsed, on=[\"date\"], how='left')\n",
        "\n",
        "\n",
        "test = (\n",
        "    test\n",
        "    .pipe(feature_engineering.split_date)\n",
        "    .pipe(feature_engineering.add_avg_customers_per_store, train_data=xtrain_raw)\n",
        "    .pipe(feature_engineering.add_avg_sales_per_store, xtrain=xtrain_raw, ytrain=ytrain_raw)\n",
        "    .pipe(feature_engineering.join_store_details)\n",
        "    .drop(['date', 'open', 'competitionopensincemonth', 'competitionopensinceyear'], axis=1)\n",
        "    .rename({'customers': 'avg_store_customers'}, axis=1)\n",
        ")\n",
        "\n",
        "embedding_fts = \"store dayofweek dayofyear stateholiday monthofyear dayofmonth storetype assortment promointerval weekofyear elapsed_promo_fwd elapsed_promo_backwd elapsed_schoolholiday_fwd elapsed_schoolholiday_backwd\".split()\n",
        "\n",
        "to_be_encoded = embedding_fts#\"stateholiday storetype assortment promointerval weekofyear\".split()\n",
        "to_be_scaled = \"avg_store_customers avg_store_sales competitiondistance competitionopen\".split()\n",
        "leaveasis = \"promo schoolholiday promo2\".split()\n",
        "\n",
        "\n",
        "#%%\n",
        "xtest_nn = pd.DataFrame(ct.transform(test), columns=leaveasis + to_be_encoded + to_be_scaled)\n",
        "\n",
        "\n",
        "xtest_nn_num = xtest_nn.loc[:, ~xtest_nn.columns.isin(embedding_fts)].values.astype(np.float64)\n",
        "xtest_nn_emb = xtest_nn.loc[:, embedding_fts].values.astype(np.long)\n",
        "test_in = np.split(xtest_nn_emb, xtest_nn_emb.shape[-1], axis=1) + [xtest_nn_num]\n",
        "\n",
        "preds = model.predict(test_in)\n",
        "\n"
      ],
      "execution_count": 98,
      "outputs": []
    },
    {
      "cell_type": "code",
      "metadata": {
        "id": "4OTK5yDO4KVU"
      },
      "source": [
        "output = pd.DataFrame({'Id': list(range(1, 41089)), 'sales': preds.flatten()})\n",
        "output.to_csv('dropout_cyclicLR_compopen_tf.csv', index=False)"
      ],
      "execution_count": 99,
      "outputs": []
    },
    {
      "cell_type": "code",
      "metadata": {
        "id": "0oBqPFLx4K0b"
      },
      "source": [],
      "execution_count": null,
      "outputs": []
    },
    {
      "cell_type": "code",
      "metadata": {
        "id": "g7dWgBh4Qr-z"
      },
      "source": [],
      "execution_count": null,
      "outputs": []
    },
    {
      "cell_type": "markdown",
      "metadata": {
        "id": "wrbPJMWksxps"
      },
      "source": [
        "# A little Plotting"
      ]
    },
    {
      "cell_type": "code",
      "metadata": {
        "colab": {
          "base_uri": "https://localhost:8080/",
          "height": 316
        },
        "id": "BuIMX99VRzhG",
        "outputId": "4bad5228-202d-428f-ea1a-7be237d8a076"
      },
      "source": [
        "sns.histplot(train.groupby('store')['sales'].mean())"
      ],
      "execution_count": null,
      "outputs": [
        {
          "output_type": "execute_result",
          "data": {
            "text/plain": [
              "<matplotlib.axes._subplots.AxesSubplot at 0x7f27b4ff2a90>"
            ]
          },
          "metadata": {
            "tags": []
          },
          "execution_count": 15
        },
        {
          "output_type": "display_data",
          "data": {
            "image/png": "[encoded data removed]",
            "text/plain": [
              "<Figure size 432x288 with 1 Axes>"
            ]
          },
          "metadata": {
            "tags": [],
            "needs_background": "light"
          }
        }
      ]
    },
    {
      "cell_type": "code",
      "metadata": {
        "id": "rzLTBXYEUgC2"
      },
      "source": [],
      "execution_count": null,
      "outputs": []
    },
    {
      "cell_type": "code",
      "metadata": {
        "colab": {
          "base_uri": "https://localhost:8080/",
          "height": 371
        },
        "id": "NxbYcUAVTJcp",
        "outputId": "7c9e227c-ac4f-4bbf-cf1f-d2deb8cd22af"
      },
      "source": [
        "fig, ax = plt.subplots(figsize=(20, 5))\n",
        "sns.lineplot(data=train.query(\"store == 815 & sales > 0\"), x='date', y='sales', ci=None, ax=ax)\n",
        "filtered = train.loc[(train.store == 815) & train.sales > 0]\n",
        "sns.scatterplot(data=filtered.loc[filtered.sales > np.quantile(filtered.sales, 0.80)], x='date', y='sales', color='green', ax=ax)\n",
        "sns.scatterplot(data=filtered.loc[filtered.sales < np.quantile(filtered.sales, 0.20)], x='date', y='sales', color='red', ax=ax)\n",
        "\n",
        "\n",
        "plt.axhline(filtered.sales.mean(), color='k', linestyle='--')\n",
        "\n"
      ],
      "execution_count": null,
      "outputs": [
        {
          "output_type": "execute_result",
          "data": {
            "text/plain": [
              "<matplotlib.lines.Line2D at 0x7f4d5a34b9d0>"
            ]
          },
          "metadata": {
            "tags": []
          },
          "execution_count": 65
        },
        {
          "output_type": "display_data",
          "data": {
            "image/png": "[encoded data removed]",
            "text/plain": [
              "<Figure size 1440x360 with 1 Axes>"
            ]
          },
          "metadata": {
            "tags": [],
            "needs_background": "light"
          }
        }
      ]
    },
    {
      "cell_type": "code",
      "metadata": {
        "colab": {
          "base_uri": "https://localhost:8080/",
          "height": 248
        },
        "id": "bV_-NK9P79g6",
        "outputId": "63d5e4d3-d38b-449f-9b19-8a7454a8ced6"
      },
      "source": [
        "lower_quantiles = ytrain.groupby(xtrain.store).agg(np.quantile, 0.2)\n",
        "upper_quantiles = ytrain.groupby(xtrain.store).agg(np.quantile, 0.8)\n",
        "quantiles = pd.DataFrame({'lowerq': lower_quantiles, 'upperq': upper_quantiles})\n",
        "\n",
        "_xtrain = pd.merge(xtrain, quantiles, left_on='store', how='left', right_index=True, validate=\"many_to_many\")\n",
        "_xtrain = _xtrain.assign(lowsales=ytrain < _xtrain.lowerq)\n",
        "_xtrain = _xtrain.assign(highsales=ytrain > _xtrain.upperq)\n",
        "_xtrain"
      ],
      "execution_count": null,
      "outputs": [
        {
          "output_type": "error",
          "ename": "NameError",
          "evalue": "ignored",
          "traceback": [
            "\u001b[0;31m---------------------------------------------------------------------------\u001b[0m",
            "\u001b[0;31mNameError\u001b[0m                                 Traceback (most recent call last)",
            "\u001b[0;32m<ipython-input-1-4530b31d118d>\u001b[0m in \u001b[0;36m<module>\u001b[0;34m()\u001b[0m\n\u001b[0;32m----> 1\u001b[0;31m \u001b[0mlower_quantiles\u001b[0m \u001b[0;34m=\u001b[0m \u001b[0mytrain\u001b[0m\u001b[0;34m.\u001b[0m\u001b[0mgroupby\u001b[0m\u001b[0;34m(\u001b[0m\u001b[0mxtrain\u001b[0m\u001b[0;34m.\u001b[0m\u001b[0mstore\u001b[0m\u001b[0;34m)\u001b[0m\u001b[0;34m.\u001b[0m\u001b[0magg\u001b[0m\u001b[0;34m(\u001b[0m\u001b[0mnp\u001b[0m\u001b[0;34m.\u001b[0m\u001b[0mquantile\u001b[0m\u001b[0;34m,\u001b[0m \u001b[0;36m0.2\u001b[0m\u001b[0;34m)\u001b[0m\u001b[0;34m\u001b[0m\u001b[0;34m\u001b[0m\u001b[0m\n\u001b[0m\u001b[1;32m      2\u001b[0m \u001b[0mupper_quantiles\u001b[0m \u001b[0;34m=\u001b[0m \u001b[0mytrain\u001b[0m\u001b[0;34m.\u001b[0m\u001b[0mgroupby\u001b[0m\u001b[0;34m(\u001b[0m\u001b[0mxtrain\u001b[0m\u001b[0;34m.\u001b[0m\u001b[0mstore\u001b[0m\u001b[0;34m)\u001b[0m\u001b[0;34m.\u001b[0m\u001b[0magg\u001b[0m\u001b[0;34m(\u001b[0m\u001b[0mnp\u001b[0m\u001b[0;34m.\u001b[0m\u001b[0mquantile\u001b[0m\u001b[0;34m,\u001b[0m \u001b[0;36m0.8\u001b[0m\u001b[0;34m)\u001b[0m\u001b[0;34m\u001b[0m\u001b[0;34m\u001b[0m\u001b[0m\n\u001b[1;32m      3\u001b[0m \u001b[0mquantiles\u001b[0m \u001b[0;34m=\u001b[0m \u001b[0mpd\u001b[0m\u001b[0;34m.\u001b[0m\u001b[0mDataFrame\u001b[0m\u001b[0;34m(\u001b[0m\u001b[0;34m{\u001b[0m\u001b[0;34m'lowerq'\u001b[0m\u001b[0;34m:\u001b[0m \u001b[0mlower_quantiles\u001b[0m\u001b[0;34m,\u001b[0m \u001b[0;34m'upperq'\u001b[0m\u001b[0;34m:\u001b[0m \u001b[0mupper_quantiles\u001b[0m\u001b[0;34m}\u001b[0m\u001b[0;34m)\u001b[0m\u001b[0;34m\u001b[0m\u001b[0;34m\u001b[0m\u001b[0m\n\u001b[1;32m      4\u001b[0m \u001b[0;34m\u001b[0m\u001b[0m\n\u001b[1;32m      5\u001b[0m \u001b[0m_xtrain\u001b[0m \u001b[0;34m=\u001b[0m \u001b[0mpd\u001b[0m\u001b[0;34m.\u001b[0m\u001b[0mmerge\u001b[0m\u001b[0;34m(\u001b[0m\u001b[0mxtrain\u001b[0m\u001b[0;34m,\u001b[0m \u001b[0mquantiles\u001b[0m\u001b[0;34m,\u001b[0m \u001b[0mleft_on\u001b[0m\u001b[0;34m=\u001b[0m\u001b[0;34m'store'\u001b[0m\u001b[0;34m,\u001b[0m \u001b[0mhow\u001b[0m\u001b[0;34m=\u001b[0m\u001b[0;34m'left'\u001b[0m\u001b[0;34m,\u001b[0m \u001b[0mright_index\u001b[0m\u001b[0;34m=\u001b[0m\u001b[0;32mTrue\u001b[0m\u001b[0;34m,\u001b[0m \u001b[0mvalidate\u001b[0m\u001b[0;34m=\u001b[0m\u001b[0;34m\"many_to_many\"\u001b[0m\u001b[0;34m)\u001b[0m\u001b[0;34m\u001b[0m\u001b[0;34m\u001b[0m\u001b[0m\n",
            "\u001b[0;31mNameError\u001b[0m: name 'ytrain' is not defined"
          ]
        }
      ]
    },
    {
      "cell_type": "code",
      "metadata": {
        "id": "n1PJQZzFGOn6"
      },
      "source": [],
      "execution_count": null,
      "outputs": []
    },
    {
      "cell_type": "code",
      "metadata": {
        "id": "Ue6JgMLQZnXF"
      },
      "source": [],
      "execution_count": null,
      "outputs": []
    },
    {
      "cell_type": "code",
      "metadata": {
        "id": "5-qjPVclZnLL"
      },
      "source": [],
      "execution_count": null,
      "outputs": []
    },
    {
      "cell_type": "markdown",
      "metadata": {
        "id": "r9M-FxeyssMP"
      },
      "source": [
        "# TabNet"
      ]
    },
    {
      "cell_type": "code",
      "metadata": {
        "colab": {
          "base_uri": "https://localhost:8080/"
        },
        "id": "-roUY2vsZrfY",
        "outputId": "b7a4ec64-0fdf-4ff5-d47d-abf23d8694d5"
      },
      "source": [
        "!pip install tabnet"
      ],
      "execution_count": null,
      "outputs": [
        {
          "output_type": "stream",
          "text": [
            "Collecting tabnet\n",
            "  Downloading https://files.pythonhosted.org/packages/4d/a1/3ccd47a091b7674fbac8a1bd504bbd941fbbe495657a719faaa701248a21/tabnet-0.1.6-py2.py3-none-any.whl\n",
            "Installing collected packages: tabnet\n",
            "Successfully installed tabnet-0.1.6\n"
          ],
          "name": "stdout"
        }
      ]
    },
    {
      "cell_type": "code",
      "metadata": {
        "colab": {
          "base_uri": "https://localhost:8080/"
        },
        "id": "_AovyddSyoD7",
        "outputId": "e36515bc-1a37-4b6c-8d76-204a4ba4aee9"
      },
      "source": [
        "from tabnet import TabNetRegressor\n",
        "import tensorflow as tf\n",
        "\n",
        "feature_columns = []\n",
        "for i, col_name in enumerate(xtrain_nn.columns):\n",
        "    feature_columns.append(tf.feature_column.numeric_column(col_name) if col_name not in embedding_fts else \n",
        "                           tf.feature_column.embedding_column(tf.feature_column.categorical_column_with_identity(col_name, num_buckets=dimtable[col_name]), dimension=emb_table[col_name])\n",
        "                           )\n",
        "\n",
        "# num fts AFTER embedding\n",
        "tbr = TabNetRegressor(feature_columns=feature_columns, num_features=82, num_regressors=1, feature_dim=20, output_dim=10)"
      ],
      "execution_count": null,
      "outputs": [
        {
          "output_type": "stream",
          "text": [
            "[TabNet]: 10 features will be used for decision steps.\n"
          ],
          "name": "stdout"
        }
      ]
    },
    {
      "cell_type": "code",
      "metadata": {
        "colab": {
          "base_uri": "https://localhost:8080/"
        },
        "id": "XuiL3Jiv0LaR",
        "outputId": "3d46f69d-28ad-426f-e0a7-06928c22d7ef"
      },
      "source": [
        "from keras.callbacks import ModelCheckpoint\n",
        "mcp_tbr = ModelCheckpoint(\"TabnetChckpt\", save_best_only=True, save_weights_only=True)\n",
        "\n",
        "tbr.compile('adam', rmspe_loss, metrics=[rmspe_loss])\n",
        "\n",
        "xtrain_nn[embedding_fts] = xtrain_nn[embedding_fts].astype(np.int8)\n",
        "xval_nn[embedding_fts] = xval_nn[embedding_fts].astype(np.int8)\n",
        "\n",
        "train_dataset = tf.data.Dataset.from_tensor_slices((dict(xtrain_nn), ytrain.values.astype(np.float32))).batch(1024)\n",
        "val_dataset = tf.data.Dataset.from_tensor_slices((dict(xval_nn), yval.values.astype(np.float32))).batch(len(yval))\n",
        "\n",
        "tbr.fit(train_dataset, validation_data=val_dataset, epochs=25, callbacks=[mcp_tbr])"
      ],
      "execution_count": null,
      "outputs": [
        {
          "output_type": "stream",
          "text": [
            "Epoch 1/25\n",
            "654/654 [==============================] - 51s 63ms/step - loss: 20.6521 - rmspe_loss: 20.6521 - val_loss: 20.8542 - val_rmspe_loss: 20.8542\n",
            "Epoch 2/25\n",
            "654/654 [==============================] - 40s 61ms/step - loss: 19.5706 - rmspe_loss: 19.5706 - val_loss: 20.7448 - val_rmspe_loss: 20.7448\n",
            "Epoch 3/25\n",
            "654/654 [==============================] - 39s 60ms/step - loss: 18.6254 - rmspe_loss: 18.6254 - val_loss: 20.7622 - val_rmspe_loss: 20.7622\n",
            "Epoch 4/25\n",
            "654/654 [==============================] - 39s 60ms/step - loss: 18.1660 - rmspe_loss: 18.1660 - val_loss: 21.2245 - val_rmspe_loss: 21.2245\n",
            "Epoch 5/25\n",
            "654/654 [==============================] - 43s 65ms/step - loss: 17.7619 - rmspe_loss: 17.7619 - val_loss: 21.4497 - val_rmspe_loss: 21.4497\n",
            "Epoch 6/25\n",
            "654/654 [==============================] - 42s 64ms/step - loss: 17.7924 - rmspe_loss: 17.7924 - val_loss: 19.4711 - val_rmspe_loss: 19.4711\n",
            "Epoch 7/25\n",
            "654/654 [==============================] - 43s 65ms/step - loss: 16.9757 - rmspe_loss: 16.9757 - val_loss: 19.4097 - val_rmspe_loss: 19.4097\n",
            "Epoch 8/25\n",
            "654/654 [==============================] - 42s 64ms/step - loss: 16.4171 - rmspe_loss: 16.4171 - val_loss: 18.1406 - val_rmspe_loss: 18.1406\n",
            "Epoch 9/25\n",
            "654/654 [==============================] - 41s 63ms/step - loss: 15.8799 - rmspe_loss: 15.8799 - val_loss: 18.6838 - val_rmspe_loss: 18.6838\n",
            "Epoch 10/25\n",
            "654/654 [==============================] - 40s 61ms/step - loss: 15.5402 - rmspe_loss: 15.5402 - val_loss: 18.4834 - val_rmspe_loss: 18.4834\n",
            "Epoch 11/25\n",
            "654/654 [==============================] - 39s 60ms/step - loss: 15.1399 - rmspe_loss: 15.1399 - val_loss: 18.0519 - val_rmspe_loss: 18.0519\n",
            "Epoch 12/25\n",
            "654/654 [==============================] - 40s 62ms/step - loss: 14.8152 - rmspe_loss: 14.8152 - val_loss: 19.2468 - val_rmspe_loss: 19.2468\n",
            "Epoch 13/25\n",
            "654/654 [==============================] - 40s 60ms/step - loss: 14.6098 - rmspe_loss: 14.6098 - val_loss: 18.9279 - val_rmspe_loss: 18.9279\n",
            "Epoch 14/25\n",
            "654/654 [==============================] - 39s 60ms/step - loss: 14.3297 - rmspe_loss: 14.3297 - val_loss: 18.7180 - val_rmspe_loss: 18.7180\n",
            "Epoch 15/25\n",
            "654/654 [==============================] - 39s 60ms/step - loss: 14.1623 - rmspe_loss: 14.1623 - val_loss: 19.4918 - val_rmspe_loss: 19.4918\n",
            "Epoch 16/25\n",
            "654/654 [==============================] - 39s 60ms/step - loss: 14.1332 - rmspe_loss: 14.1332 - val_loss: 21.3386 - val_rmspe_loss: 21.3386\n",
            "Epoch 17/25\n",
            "654/654 [==============================] - 40s 61ms/step - loss: 14.0555 - rmspe_loss: 14.0555 - val_loss: 21.4867 - val_rmspe_loss: 21.4867\n",
            "Epoch 18/25\n",
            "654/654 [==============================] - 39s 60ms/step - loss: 13.8496 - rmspe_loss: 13.8496 - val_loss: 19.7818 - val_rmspe_loss: 19.7818\n",
            "Epoch 19/25\n",
            "654/654 [==============================] - 39s 60ms/step - loss: 13.4292 - rmspe_loss: 13.4292 - val_loss: 17.6788 - val_rmspe_loss: 17.6788\n",
            "Epoch 20/25\n",
            "654/654 [==============================] - 41s 62ms/step - loss: 13.0954 - rmspe_loss: 13.0954 - val_loss: 17.5993 - val_rmspe_loss: 17.5993\n",
            "Epoch 21/25\n",
            "654/654 [==============================] - 40s 62ms/step - loss: 13.0918 - rmspe_loss: 13.0918 - val_loss: 16.2870 - val_rmspe_loss: 16.2870\n",
            "Epoch 22/25\n",
            "654/654 [==============================] - 41s 62ms/step - loss: 13.0462 - rmspe_loss: 13.0462 - val_loss: 16.7126 - val_rmspe_loss: 16.7126\n",
            "Epoch 23/25\n",
            "654/654 [==============================] - 42s 64ms/step - loss: 12.8897 - rmspe_loss: 12.8897 - val_loss: 17.1641 - val_rmspe_loss: 17.1641\n",
            "Epoch 24/25\n",
            "654/654 [==============================] - 40s 61ms/step - loss: 12.7938 - rmspe_loss: 12.7938 - val_loss: 17.4005 - val_rmspe_loss: 17.4005\n",
            "Epoch 25/25\n",
            "654/654 [==============================] - 42s 64ms/step - loss: 12.8925 - rmspe_loss: 12.8925 - val_loss: 16.5070 - val_rmspe_loss: 16.5070\n"
          ],
          "name": "stdout"
        },
        {
          "output_type": "execute_result",
          "data": {
            "text/plain": [
              "<tensorflow.python.keras.callbacks.History at 0x7f9b3a4eea50>"
            ]
          },
          "metadata": {
            "tags": []
          },
          "execution_count": 63
        }
      ]
    },
    {
      "cell_type": "code",
      "metadata": {
        "id": "iqkWJ1HtPkHG"
      },
      "source": [
        "tbr.load_weights(\"TabnetChckpt\")\n",
        "preds = tbr.predict(val_dataset)"
      ],
      "execution_count": null,
      "outputs": []
    },
    {
      "cell_type": "code",
      "metadata": {
        "colab": {
          "base_uri": "https://localhost:8080/"
        },
        "id": "5WSFlZe3Psk4",
        "outputId": "a71fb576-8454-465a-8887-b6558777bd29"
      },
      "source": [
        "from RossmannSalesPrediction.helpers.evaluation import rmspcte\n",
        "rmspcte(yval.values.flatten(), preds.flatten())"
      ],
      "execution_count": null,
      "outputs": [
        {
          "output_type": "execute_result",
          "data": {
            "text/plain": [
              "0.2330365127355089"
            ]
          },
          "metadata": {
            "tags": []
          },
          "execution_count": 65
        }
      ]
    },
    {
      "cell_type": "code",
      "metadata": {
        "id": "m8wjfuRDGzh4"
      },
      "source": [],
      "execution_count": null,
      "outputs": []
    },
    {
      "cell_type": "code",
      "metadata": {
        "id": "-kXWkTBOg3pj"
      },
      "source": [],
      "execution_count": null,
      "outputs": []
    },
    {
      "cell_type": "code",
      "metadata": {
        "id": "zmCJYWCwg3cd"
      },
      "source": [],
      "execution_count": null,
      "outputs": []
    },
    {
      "cell_type": "code",
      "metadata": {
        "colab": {
          "base_uri": "https://localhost:8080/",
          "height": 1000
        },
        "id": "BxtAfKDFg3RN",
        "outputId": "60b306ca-3321-4bae-a1f6-a41ffe1f70ba"
      },
      "source": [
        "import seaborn as sns\n",
        "import sys\n",
        "import pathlib\n",
        "from typing import Union\n",
        "\n",
        "sys.path.append(str(pathlib.Path(\"..\").resolve().parent.parent))\n",
        "from RossmannSalesPrediction.helpers.dataprep import timeseries_ttsplit, fix_df, prep_for_model\n",
        "from RossmannSalesPrediction.helpers.evaluation import rmspcte\n",
        "from tensorflow import keras\n",
        "import tensorflow as tf\n",
        "from sklearn.compose import ColumnTransformer\n",
        "from sklearn.preprocessing import OrdinalEncoder, StandardScaler\n",
        "import matplotlib.pyplot as plt\n",
        "import numpy as np\n",
        "import pandas as pd\n",
        "from RossmannSalesPrediction.helpers import feature_engineering\n",
        "\n",
        "\n",
        "\n",
        "root_path = \"RossmannSalesPrediction/\"\n",
        "\n",
        "#%%\n",
        "\n",
        "\n",
        "dimtable = {k: v for k, v in zip(embedding_fts, [xtrain_nn[col].nunique() for col in embedding_fts])}\n",
        "\n",
        "emb_table = {\n",
        "    'dayofweek': 10, #6,\n",
        "    'monthofyear': 15, #6,\n",
        "    'dayofmonth': 10,\n",
        "    'weekofyear': 25\n",
        "}\n",
        "\n",
        "embedding_fts = emb_table.keys()\n",
        "\n",
        "#%%\n",
        "num_input = keras.Input(shape=(xtrain_nn_num.shape[1], ))\n",
        "emb_inputs = [keras.Input(shape=(1, )) for _ in embedding_fts]\n",
        "\n",
        "\n",
        "#%%\n",
        "\n",
        "emb_layers = [keras.layers.Embedding(input_dim=dimtable[col]+1, output_dim=emb_table[col])(emb_inputs[idx]) for idx, col in enumerate(embedding_fts)]\n",
        "\n",
        "#dense1 = keras.layers.Dense(units=64, activation='relu')(num_input)\n",
        "flats = [keras.layers.Flatten()(x) for x in emb_layers + [num_input]]\n",
        "concat = keras.layers.Concatenate()(flats)\n",
        "hidden_dense = keras.layers.Dense(units=512, activation='relu',)(concat)\n",
        "#hidden_dense = keras.layers.Dense(units=4024, activation='relu',)(hidden_dense)\n",
        "hidden_dense = keras.layers.Dense(units=4664, activation='relu',)(hidden_dense)\n",
        "out = keras.layers.Dense(units=1115, activation='linear')(hidden_dense)\n",
        "\n",
        "model: keras.Model = keras.Model(inputs=emb_inputs + [num_input], outputs=out)\n",
        "\n",
        "#%%\n",
        "from tensorflow.keras.callbacks import ModelCheckpoint\n",
        "\n",
        "mcp = ModelCheckpoint('multivar_modelcheckpoint', save_best_only=True, save_weights_only=True)\n",
        "model.compile(optimizer=keras.optimizers.Adam(3e-4), loss=rmspe_loss, metrics=[rmspe_loss])\n",
        "\n",
        "train_in = np.split(xtrain_nn_emb, xtrain_nn_emb.shape[-1], axis=1) + [xtrain_nn_num]\n",
        "val_in = np.split(xval_nn_emb, xval_nn_emb.shape[-1], axis=1) + [xval_nn_num]\n",
        "\n",
        "#%%\n",
        "hist = model.fit(x=train_in, y=ytrain.astype(np.float32), validation_data=(val_in, yval.astype(np.float32)), epochs=10, batch_size=32, callbacks=[mcp])\n",
        "\n",
        "model.load_weights(\"multivar_modelcheckpoint\")\n",
        "\n",
        "#%%\n",
        "\n",
        "plt.plot(hist.history['loss'], label='train')\n",
        "plt.plot(hist.history['val_loss'], label='val')\n",
        "plt.legend()\n",
        "plt.show()\n",
        "\n",
        "preds = model.predict(val_in)\n",
        "#preds = y_ss.inverse_transform(preds)\n",
        "\n",
        "\n",
        "print(rmspcte(yval, preds))\n",
        "\n",
        "sns.histplot(preds, color='orange')\n",
        "sns.histplot(yval)\n",
        "plt.show()\n",
        "\n",
        "\n",
        "#%%\n",
        "\n",
        "# TEST SUBMISSION\n",
        "if False:\n",
        "    test_raw = pd.read_csv(root_path + \"data/test.csv\").drop('Id', axis=1).reset_index(drop=True)\n",
        "    test = fix_df(test_raw.copy())\n",
        "    test = test.groupby('date').mean().drop(['store'], axis=1).reset_index()\n",
        "    test = feature_engineering.split_date(test).drop('date', axis=1)\n",
        "\n",
        "    xtest_nn = test.copy()\n",
        "    xtest_nn_num = xtest_nn.loc[:, ~xtest_nn.columns.isin(embedding_fts)].values.astype(np.float64)\n",
        "    xtest_nn_emb = xtest_nn.loc[:, embedding_fts].values\n",
        "    test_in = np.split(xtest_nn_emb, xtest_nn_emb.shape[-1], axis=1) + [xtest_nn_num]\n",
        "\n",
        "    preds = y_ss.inverse_transform(model.predict(test_in))\n",
        "\n",
        "    preds_df = pd.melt(pd.DataFrame(preds, index=test_raw.Date.unique()), var_name='Store', value_name='Sales', ignore_index=False).reset_index().rename({'index': 'Date'}, axis=1)\n",
        "    preds_df['Store'] += 1\n",
        "\n",
        "    output = pd.merge(test_raw, preds_df, on=['Date', 'Store'], how='left')\n",
        "    output = output.set_index(output.index+1)\n",
        "    output['Sales'].to_csv(root_path + \"data/multivariate_nn_out.csv\", index_label='Id')\n"
      ],
      "execution_count": null,
      "outputs": [
        {
          "output_type": "stream",
          "text": [
            "Epoch 1/10\n"
          ],
          "name": "stdout"
        },
        {
          "output_type": "error",
          "ename": "ValueError",
          "evalue": "ignored",
          "traceback": [
            "\u001b[0;31m---------------------------------------------------------------------------\u001b[0m",
            "\u001b[0;31mValueError\u001b[0m                                Traceback (most recent call last)",
            "\u001b[0;32m<ipython-input-70-587728d60d03>\u001b[0m in \u001b[0;36m<module>\u001b[0;34m()\u001b[0m\n\u001b[1;32m     64\u001b[0m \u001b[0;34m\u001b[0m\u001b[0m\n\u001b[1;32m     65\u001b[0m \u001b[0;31m#%%\u001b[0m\u001b[0;34m\u001b[0m\u001b[0;34m\u001b[0m\u001b[0;34m\u001b[0m\u001b[0m\n\u001b[0;32m---> 66\u001b[0;31m \u001b[0mhist\u001b[0m \u001b[0;34m=\u001b[0m \u001b[0mmodel\u001b[0m\u001b[0;34m.\u001b[0m\u001b[0mfit\u001b[0m\u001b[0;34m(\u001b[0m\u001b[0mx\u001b[0m\u001b[0;34m=\u001b[0m\u001b[0mtrain_in\u001b[0m\u001b[0;34m,\u001b[0m \u001b[0my\u001b[0m\u001b[0;34m=\u001b[0m\u001b[0mytrain\u001b[0m\u001b[0;34m.\u001b[0m\u001b[0mastype\u001b[0m\u001b[0;34m(\u001b[0m\u001b[0mnp\u001b[0m\u001b[0;34m.\u001b[0m\u001b[0mfloat32\u001b[0m\u001b[0;34m)\u001b[0m\u001b[0;34m,\u001b[0m \u001b[0mvalidation_data\u001b[0m\u001b[0;34m=\u001b[0m\u001b[0;34m(\u001b[0m\u001b[0mval_in\u001b[0m\u001b[0;34m,\u001b[0m \u001b[0myval\u001b[0m\u001b[0;34m.\u001b[0m\u001b[0mastype\u001b[0m\u001b[0;34m(\u001b[0m\u001b[0mnp\u001b[0m\u001b[0;34m.\u001b[0m\u001b[0mfloat32\u001b[0m\u001b[0;34m)\u001b[0m\u001b[0;34m)\u001b[0m\u001b[0;34m,\u001b[0m \u001b[0mepochs\u001b[0m\u001b[0;34m=\u001b[0m\u001b[0;36m10\u001b[0m\u001b[0;34m,\u001b[0m \u001b[0mbatch_size\u001b[0m\u001b[0;34m=\u001b[0m\u001b[0;36m32\u001b[0m\u001b[0;34m,\u001b[0m \u001b[0mcallbacks\u001b[0m\u001b[0;34m=\u001b[0m\u001b[0;34m[\u001b[0m\u001b[0mmcp\u001b[0m\u001b[0;34m]\u001b[0m\u001b[0;34m)\u001b[0m\u001b[0;34m\u001b[0m\u001b[0;34m\u001b[0m\u001b[0m\n\u001b[0m\u001b[1;32m     67\u001b[0m \u001b[0;34m\u001b[0m\u001b[0m\n\u001b[1;32m     68\u001b[0m \u001b[0mmodel\u001b[0m\u001b[0;34m.\u001b[0m\u001b[0mload_weights\u001b[0m\u001b[0;34m(\u001b[0m\u001b[0;34m\"multivar_modelcheckpoint\"\u001b[0m\u001b[0;34m)\u001b[0m\u001b[0;34m\u001b[0m\u001b[0;34m\u001b[0m\u001b[0m\n",
            "\u001b[0;32m/usr/local/lib/python3.7/dist-packages/tensorflow/python/keras/engine/training.py\u001b[0m in \u001b[0;36mfit\u001b[0;34m(self, x, y, batch_size, epochs, verbose, callbacks, validation_split, validation_data, shuffle, class_weight, sample_weight, initial_epoch, steps_per_epoch, validation_steps, validation_batch_size, validation_freq, max_queue_size, workers, use_multiprocessing)\u001b[0m\n\u001b[1;32m   1098\u001b[0m                 _r=1):\n\u001b[1;32m   1099\u001b[0m               \u001b[0mcallbacks\u001b[0m\u001b[0;34m.\u001b[0m\u001b[0mon_train_batch_begin\u001b[0m\u001b[0;34m(\u001b[0m\u001b[0mstep\u001b[0m\u001b[0;34m)\u001b[0m\u001b[0;34m\u001b[0m\u001b[0;34m\u001b[0m\u001b[0m\n\u001b[0;32m-> 1100\u001b[0;31m               \u001b[0mtmp_logs\u001b[0m \u001b[0;34m=\u001b[0m \u001b[0mself\u001b[0m\u001b[0;34m.\u001b[0m\u001b[0mtrain_function\u001b[0m\u001b[0;34m(\u001b[0m\u001b[0miterator\u001b[0m\u001b[0;34m)\u001b[0m\u001b[0;34m\u001b[0m\u001b[0;34m\u001b[0m\u001b[0m\n\u001b[0m\u001b[1;32m   1101\u001b[0m               \u001b[0;32mif\u001b[0m \u001b[0mdata_handler\u001b[0m\u001b[0;34m.\u001b[0m\u001b[0mshould_sync\u001b[0m\u001b[0;34m:\u001b[0m\u001b[0;34m\u001b[0m\u001b[0;34m\u001b[0m\u001b[0m\n\u001b[1;32m   1102\u001b[0m                 \u001b[0mcontext\u001b[0m\u001b[0;34m.\u001b[0m\u001b[0masync_wait\u001b[0m\u001b[0;34m(\u001b[0m\u001b[0;34m)\u001b[0m\u001b[0;34m\u001b[0m\u001b[0;34m\u001b[0m\u001b[0m\n",
            "\u001b[0;32m/usr/local/lib/python3.7/dist-packages/tensorflow/python/eager/def_function.py\u001b[0m in \u001b[0;36m__call__\u001b[0;34m(self, *args, **kwds)\u001b[0m\n\u001b[1;32m    826\u001b[0m     \u001b[0mtracing_count\u001b[0m \u001b[0;34m=\u001b[0m \u001b[0mself\u001b[0m\u001b[0;34m.\u001b[0m\u001b[0mexperimental_get_tracing_count\u001b[0m\u001b[0;34m(\u001b[0m\u001b[0;34m)\u001b[0m\u001b[0;34m\u001b[0m\u001b[0;34m\u001b[0m\u001b[0m\n\u001b[1;32m    827\u001b[0m     \u001b[0;32mwith\u001b[0m \u001b[0mtrace\u001b[0m\u001b[0;34m.\u001b[0m\u001b[0mTrace\u001b[0m\u001b[0;34m(\u001b[0m\u001b[0mself\u001b[0m\u001b[0;34m.\u001b[0m\u001b[0m_name\u001b[0m\u001b[0;34m)\u001b[0m \u001b[0;32mas\u001b[0m \u001b[0mtm\u001b[0m\u001b[0;34m:\u001b[0m\u001b[0;34m\u001b[0m\u001b[0;34m\u001b[0m\u001b[0m\n\u001b[0;32m--> 828\u001b[0;31m       \u001b[0mresult\u001b[0m \u001b[0;34m=\u001b[0m \u001b[0mself\u001b[0m\u001b[0;34m.\u001b[0m\u001b[0m_call\u001b[0m\u001b[0;34m(\u001b[0m\u001b[0;34m*\u001b[0m\u001b[0margs\u001b[0m\u001b[0;34m,\u001b[0m \u001b[0;34m**\u001b[0m\u001b[0mkwds\u001b[0m\u001b[0;34m)\u001b[0m\u001b[0;34m\u001b[0m\u001b[0;34m\u001b[0m\u001b[0m\n\u001b[0m\u001b[1;32m    829\u001b[0m       \u001b[0mcompiler\u001b[0m \u001b[0;34m=\u001b[0m \u001b[0;34m\"xla\"\u001b[0m \u001b[0;32mif\u001b[0m \u001b[0mself\u001b[0m\u001b[0;34m.\u001b[0m\u001b[0m_experimental_compile\u001b[0m \u001b[0;32melse\u001b[0m \u001b[0;34m\"nonXla\"\u001b[0m\u001b[0;34m\u001b[0m\u001b[0;34m\u001b[0m\u001b[0m\n\u001b[1;32m    830\u001b[0m       \u001b[0mnew_tracing_count\u001b[0m \u001b[0;34m=\u001b[0m \u001b[0mself\u001b[0m\u001b[0;34m.\u001b[0m\u001b[0mexperimental_get_tracing_count\u001b[0m\u001b[0;34m(\u001b[0m\u001b[0;34m)\u001b[0m\u001b[0;34m\u001b[0m\u001b[0;34m\u001b[0m\u001b[0m\n",
            "\u001b[0;32m/usr/local/lib/python3.7/dist-packages/tensorflow/python/eager/def_function.py\u001b[0m in \u001b[0;36m_call\u001b[0;34m(self, *args, **kwds)\u001b[0m\n\u001b[1;32m    869\u001b[0m       \u001b[0;31m# This is the first call of __call__, so we have to initialize.\u001b[0m\u001b[0;34m\u001b[0m\u001b[0;34m\u001b[0m\u001b[0;34m\u001b[0m\u001b[0m\n\u001b[1;32m    870\u001b[0m       \u001b[0minitializers\u001b[0m \u001b[0;34m=\u001b[0m \u001b[0;34m[\u001b[0m\u001b[0;34m]\u001b[0m\u001b[0;34m\u001b[0m\u001b[0;34m\u001b[0m\u001b[0m\n\u001b[0;32m--> 871\u001b[0;31m       \u001b[0mself\u001b[0m\u001b[0;34m.\u001b[0m\u001b[0m_initialize\u001b[0m\u001b[0;34m(\u001b[0m\u001b[0margs\u001b[0m\u001b[0;34m,\u001b[0m \u001b[0mkwds\u001b[0m\u001b[0;34m,\u001b[0m \u001b[0madd_initializers_to\u001b[0m\u001b[0;34m=\u001b[0m\u001b[0minitializers\u001b[0m\u001b[0;34m)\u001b[0m\u001b[0;34m\u001b[0m\u001b[0;34m\u001b[0m\u001b[0m\n\u001b[0m\u001b[1;32m    872\u001b[0m     \u001b[0;32mfinally\u001b[0m\u001b[0;34m:\u001b[0m\u001b[0;34m\u001b[0m\u001b[0;34m\u001b[0m\u001b[0m\n\u001b[1;32m    873\u001b[0m       \u001b[0;31m# At this point we know that the initialization is complete (or less\u001b[0m\u001b[0;34m\u001b[0m\u001b[0;34m\u001b[0m\u001b[0;34m\u001b[0m\u001b[0m\n",
            "\u001b[0;32m/usr/local/lib/python3.7/dist-packages/tensorflow/python/eager/def_function.py\u001b[0m in \u001b[0;36m_initialize\u001b[0;34m(self, args, kwds, add_initializers_to)\u001b[0m\n\u001b[1;32m    724\u001b[0m     self._concrete_stateful_fn = (\n\u001b[1;32m    725\u001b[0m         self._stateful_fn._get_concrete_function_internal_garbage_collected(  # pylint: disable=protected-access\n\u001b[0;32m--> 726\u001b[0;31m             *args, **kwds))\n\u001b[0m\u001b[1;32m    727\u001b[0m \u001b[0;34m\u001b[0m\u001b[0m\n\u001b[1;32m    728\u001b[0m     \u001b[0;32mdef\u001b[0m \u001b[0minvalid_creator_scope\u001b[0m\u001b[0;34m(\u001b[0m\u001b[0;34m*\u001b[0m\u001b[0munused_args\u001b[0m\u001b[0;34m,\u001b[0m \u001b[0;34m**\u001b[0m\u001b[0munused_kwds\u001b[0m\u001b[0;34m)\u001b[0m\u001b[0;34m:\u001b[0m\u001b[0;34m\u001b[0m\u001b[0;34m\u001b[0m\u001b[0m\n",
            "\u001b[0;32m/usr/local/lib/python3.7/dist-packages/tensorflow/python/eager/function.py\u001b[0m in \u001b[0;36m_get_concrete_function_internal_garbage_collected\u001b[0;34m(self, *args, **kwargs)\u001b[0m\n\u001b[1;32m   2967\u001b[0m       \u001b[0margs\u001b[0m\u001b[0;34m,\u001b[0m \u001b[0mkwargs\u001b[0m \u001b[0;34m=\u001b[0m \u001b[0;32mNone\u001b[0m\u001b[0;34m,\u001b[0m \u001b[0;32mNone\u001b[0m\u001b[0;34m\u001b[0m\u001b[0;34m\u001b[0m\u001b[0m\n\u001b[1;32m   2968\u001b[0m     \u001b[0;32mwith\u001b[0m \u001b[0mself\u001b[0m\u001b[0;34m.\u001b[0m\u001b[0m_lock\u001b[0m\u001b[0;34m:\u001b[0m\u001b[0;34m\u001b[0m\u001b[0;34m\u001b[0m\u001b[0m\n\u001b[0;32m-> 2969\u001b[0;31m       \u001b[0mgraph_function\u001b[0m\u001b[0;34m,\u001b[0m \u001b[0m_\u001b[0m \u001b[0;34m=\u001b[0m \u001b[0mself\u001b[0m\u001b[0;34m.\u001b[0m\u001b[0m_maybe_define_function\u001b[0m\u001b[0;34m(\u001b[0m\u001b[0margs\u001b[0m\u001b[0;34m,\u001b[0m \u001b[0mkwargs\u001b[0m\u001b[0;34m)\u001b[0m\u001b[0;34m\u001b[0m\u001b[0;34m\u001b[0m\u001b[0m\n\u001b[0m\u001b[1;32m   2970\u001b[0m     \u001b[0;32mreturn\u001b[0m \u001b[0mgraph_function\u001b[0m\u001b[0;34m\u001b[0m\u001b[0;34m\u001b[0m\u001b[0m\n\u001b[1;32m   2971\u001b[0m \u001b[0;34m\u001b[0m\u001b[0m\n",
            "\u001b[0;32m/usr/local/lib/python3.7/dist-packages/tensorflow/python/eager/function.py\u001b[0m in \u001b[0;36m_maybe_define_function\u001b[0;34m(self, args, kwargs)\u001b[0m\n\u001b[1;32m   3359\u001b[0m \u001b[0;34m\u001b[0m\u001b[0m\n\u001b[1;32m   3360\u001b[0m           \u001b[0mself\u001b[0m\u001b[0;34m.\u001b[0m\u001b[0m_function_cache\u001b[0m\u001b[0;34m.\u001b[0m\u001b[0mmissed\u001b[0m\u001b[0;34m.\u001b[0m\u001b[0madd\u001b[0m\u001b[0;34m(\u001b[0m\u001b[0mcall_context_key\u001b[0m\u001b[0;34m)\u001b[0m\u001b[0;34m\u001b[0m\u001b[0;34m\u001b[0m\u001b[0m\n\u001b[0;32m-> 3361\u001b[0;31m           \u001b[0mgraph_function\u001b[0m \u001b[0;34m=\u001b[0m \u001b[0mself\u001b[0m\u001b[0;34m.\u001b[0m\u001b[0m_create_graph_function\u001b[0m\u001b[0;34m(\u001b[0m\u001b[0margs\u001b[0m\u001b[0;34m,\u001b[0m \u001b[0mkwargs\u001b[0m\u001b[0;34m)\u001b[0m\u001b[0;34m\u001b[0m\u001b[0;34m\u001b[0m\u001b[0m\n\u001b[0m\u001b[1;32m   3362\u001b[0m           \u001b[0mself\u001b[0m\u001b[0;34m.\u001b[0m\u001b[0m_function_cache\u001b[0m\u001b[0;34m.\u001b[0m\u001b[0mprimary\u001b[0m\u001b[0;34m[\u001b[0m\u001b[0mcache_key\u001b[0m\u001b[0;34m]\u001b[0m \u001b[0;34m=\u001b[0m \u001b[0mgraph_function\u001b[0m\u001b[0;34m\u001b[0m\u001b[0;34m\u001b[0m\u001b[0m\n\u001b[1;32m   3363\u001b[0m \u001b[0;34m\u001b[0m\u001b[0m\n",
            "\u001b[0;32m/usr/local/lib/python3.7/dist-packages/tensorflow/python/eager/function.py\u001b[0m in \u001b[0;36m_create_graph_function\u001b[0;34m(self, args, kwargs, override_flat_arg_shapes)\u001b[0m\n\u001b[1;32m   3204\u001b[0m             \u001b[0marg_names\u001b[0m\u001b[0;34m=\u001b[0m\u001b[0marg_names\u001b[0m\u001b[0;34m,\u001b[0m\u001b[0;34m\u001b[0m\u001b[0;34m\u001b[0m\u001b[0m\n\u001b[1;32m   3205\u001b[0m             \u001b[0moverride_flat_arg_shapes\u001b[0m\u001b[0;34m=\u001b[0m\u001b[0moverride_flat_arg_shapes\u001b[0m\u001b[0;34m,\u001b[0m\u001b[0;34m\u001b[0m\u001b[0;34m\u001b[0m\u001b[0m\n\u001b[0;32m-> 3206\u001b[0;31m             capture_by_value=self._capture_by_value),\n\u001b[0m\u001b[1;32m   3207\u001b[0m         \u001b[0mself\u001b[0m\u001b[0;34m.\u001b[0m\u001b[0m_function_attributes\u001b[0m\u001b[0;34m,\u001b[0m\u001b[0;34m\u001b[0m\u001b[0;34m\u001b[0m\u001b[0m\n\u001b[1;32m   3208\u001b[0m         \u001b[0mfunction_spec\u001b[0m\u001b[0;34m=\u001b[0m\u001b[0mself\u001b[0m\u001b[0;34m.\u001b[0m\u001b[0mfunction_spec\u001b[0m\u001b[0;34m,\u001b[0m\u001b[0;34m\u001b[0m\u001b[0;34m\u001b[0m\u001b[0m\n",
            "\u001b[0;32m/usr/local/lib/python3.7/dist-packages/tensorflow/python/framework/func_graph.py\u001b[0m in \u001b[0;36mfunc_graph_from_py_func\u001b[0;34m(name, python_func, args, kwargs, signature, func_graph, autograph, autograph_options, add_control_dependencies, arg_names, op_return_value, collections, capture_by_value, override_flat_arg_shapes)\u001b[0m\n\u001b[1;32m    988\u001b[0m         \u001b[0m_\u001b[0m\u001b[0;34m,\u001b[0m \u001b[0moriginal_func\u001b[0m \u001b[0;34m=\u001b[0m \u001b[0mtf_decorator\u001b[0m\u001b[0;34m.\u001b[0m\u001b[0munwrap\u001b[0m\u001b[0;34m(\u001b[0m\u001b[0mpython_func\u001b[0m\u001b[0;34m)\u001b[0m\u001b[0;34m\u001b[0m\u001b[0;34m\u001b[0m\u001b[0m\n\u001b[1;32m    989\u001b[0m \u001b[0;34m\u001b[0m\u001b[0m\n\u001b[0;32m--> 990\u001b[0;31m       \u001b[0mfunc_outputs\u001b[0m \u001b[0;34m=\u001b[0m \u001b[0mpython_func\u001b[0m\u001b[0;34m(\u001b[0m\u001b[0;34m*\u001b[0m\u001b[0mfunc_args\u001b[0m\u001b[0;34m,\u001b[0m \u001b[0;34m**\u001b[0m\u001b[0mfunc_kwargs\u001b[0m\u001b[0;34m)\u001b[0m\u001b[0;34m\u001b[0m\u001b[0;34m\u001b[0m\u001b[0m\n\u001b[0m\u001b[1;32m    991\u001b[0m \u001b[0;34m\u001b[0m\u001b[0m\n\u001b[1;32m    992\u001b[0m       \u001b[0;31m# invariant: `func_outputs` contains only Tensors, CompositeTensors,\u001b[0m\u001b[0;34m\u001b[0m\u001b[0;34m\u001b[0m\u001b[0;34m\u001b[0m\u001b[0m\n",
            "\u001b[0;32m/usr/local/lib/python3.7/dist-packages/tensorflow/python/eager/def_function.py\u001b[0m in \u001b[0;36mwrapped_fn\u001b[0;34m(*args, **kwds)\u001b[0m\n\u001b[1;32m    632\u001b[0m             \u001b[0mxla_context\u001b[0m\u001b[0;34m.\u001b[0m\u001b[0mExit\u001b[0m\u001b[0;34m(\u001b[0m\u001b[0;34m)\u001b[0m\u001b[0;34m\u001b[0m\u001b[0;34m\u001b[0m\u001b[0m\n\u001b[1;32m    633\u001b[0m         \u001b[0;32melse\u001b[0m\u001b[0;34m:\u001b[0m\u001b[0;34m\u001b[0m\u001b[0;34m\u001b[0m\u001b[0m\n\u001b[0;32m--> 634\u001b[0;31m           \u001b[0mout\u001b[0m \u001b[0;34m=\u001b[0m \u001b[0mweak_wrapped_fn\u001b[0m\u001b[0;34m(\u001b[0m\u001b[0;34m)\u001b[0m\u001b[0;34m.\u001b[0m\u001b[0m__wrapped__\u001b[0m\u001b[0;34m(\u001b[0m\u001b[0;34m*\u001b[0m\u001b[0margs\u001b[0m\u001b[0;34m,\u001b[0m \u001b[0;34m**\u001b[0m\u001b[0mkwds\u001b[0m\u001b[0;34m)\u001b[0m\u001b[0;34m\u001b[0m\u001b[0;34m\u001b[0m\u001b[0m\n\u001b[0m\u001b[1;32m    635\u001b[0m         \u001b[0;32mreturn\u001b[0m \u001b[0mout\u001b[0m\u001b[0;34m\u001b[0m\u001b[0;34m\u001b[0m\u001b[0m\n\u001b[1;32m    636\u001b[0m \u001b[0;34m\u001b[0m\u001b[0m\n",
            "\u001b[0;32m/usr/local/lib/python3.7/dist-packages/tensorflow/python/framework/func_graph.py\u001b[0m in \u001b[0;36mwrapper\u001b[0;34m(*args, **kwargs)\u001b[0m\n\u001b[1;32m    975\u001b[0m           \u001b[0;32mexcept\u001b[0m \u001b[0mException\u001b[0m \u001b[0;32mas\u001b[0m \u001b[0me\u001b[0m\u001b[0;34m:\u001b[0m  \u001b[0;31m# pylint:disable=broad-except\u001b[0m\u001b[0;34m\u001b[0m\u001b[0;34m\u001b[0m\u001b[0m\n\u001b[1;32m    976\u001b[0m             \u001b[0;32mif\u001b[0m \u001b[0mhasattr\u001b[0m\u001b[0;34m(\u001b[0m\u001b[0me\u001b[0m\u001b[0;34m,\u001b[0m \u001b[0;34m\"ag_error_metadata\"\u001b[0m\u001b[0;34m)\u001b[0m\u001b[0;34m:\u001b[0m\u001b[0;34m\u001b[0m\u001b[0;34m\u001b[0m\u001b[0m\n\u001b[0;32m--> 977\u001b[0;31m               \u001b[0;32mraise\u001b[0m \u001b[0me\u001b[0m\u001b[0;34m.\u001b[0m\u001b[0mag_error_metadata\u001b[0m\u001b[0;34m.\u001b[0m\u001b[0mto_exception\u001b[0m\u001b[0;34m(\u001b[0m\u001b[0me\u001b[0m\u001b[0;34m)\u001b[0m\u001b[0;34m\u001b[0m\u001b[0;34m\u001b[0m\u001b[0m\n\u001b[0m\u001b[1;32m    978\u001b[0m             \u001b[0;32melse\u001b[0m\u001b[0;34m:\u001b[0m\u001b[0;34m\u001b[0m\u001b[0;34m\u001b[0m\u001b[0m\n\u001b[1;32m    979\u001b[0m               \u001b[0;32mraise\u001b[0m\u001b[0;34m\u001b[0m\u001b[0;34m\u001b[0m\u001b[0m\n",
            "\u001b[0;31mValueError\u001b[0m: in user code:\n\n    /usr/local/lib/python3.7/dist-packages/tensorflow/python/keras/engine/training.py:805 train_function  *\n        return step_function(self, iterator)\n    /usr/local/lib/python3.7/dist-packages/tensorflow/python/keras/engine/training.py:795 step_function  **\n        outputs = model.distribute_strategy.run(run_step, args=(data,))\n    /usr/local/lib/python3.7/dist-packages/tensorflow/python/distribute/distribute_lib.py:1259 run\n        return self._extended.call_for_each_replica(fn, args=args, kwargs=kwargs)\n    /usr/local/lib/python3.7/dist-packages/tensorflow/python/distribute/distribute_lib.py:2730 call_for_each_replica\n        return self._call_for_each_replica(fn, args, kwargs)\n    /usr/local/lib/python3.7/dist-packages/tensorflow/python/distribute/distribute_lib.py:3417 _call_for_each_replica\n        return fn(*args, **kwargs)\n    /usr/local/lib/python3.7/dist-packages/tensorflow/python/keras/engine/training.py:788 run_step  **\n        outputs = model.train_step(data)\n    /usr/local/lib/python3.7/dist-packages/tensorflow/python/keras/engine/training.py:754 train_step\n        y_pred = self(x, training=True)\n    /usr/local/lib/python3.7/dist-packages/tensorflow/python/keras/engine/base_layer.py:998 __call__\n        input_spec.assert_input_compatibility(self.input_spec, inputs, self.name)\n    /usr/local/lib/python3.7/dist-packages/tensorflow/python/keras/engine/input_spec.py:207 assert_input_compatibility\n        ' input tensors. Inputs received: ' + str(inputs))\n\n    ValueError: Layer model_3 expects 5 input(s), but it received 15 input tensors. Inputs received: [<tf.Tensor 'IteratorGetNext:0' shape=(None, 1) dtype=float32>, <tf.Tensor 'IteratorGetNext:1' shape=(None, 1) dtype=float32>, <tf.Tensor 'IteratorGetNext:2' shape=(None, 1) dtype=float32>, <tf.Tensor 'IteratorGetNext:3' shape=(None, 1) dtype=float32>, <tf.Tensor 'IteratorGetNext:4' shape=(None, 1) dtype=float32>, <tf.Tensor 'IteratorGetNext:5' shape=(None, 1) dtype=float32>, <tf.Tensor 'IteratorGetNext:6' shape=(None, 1) dtype=float32>, <tf.Tensor 'IteratorGetNext:7' shape=(None, 1) dtype=float32>, <tf.Tensor 'IteratorGetNext:8' shape=(None, 1) dtype=float32>, <tf.Tensor 'IteratorGetNext:9' shape=(None, 1) dtype=float32>, <tf.Tensor 'IteratorGetNext:10' shape=(None, 1) dtype=float32>, <tf.Tensor 'IteratorGetNext:11' shape=(None, 1) dtype=float32>, <tf.Tensor 'IteratorGetNext:12' shape=(None, 1) dtype=float32>, <tf.Tensor 'IteratorGetNext:13' shape=(None, 1) dtype=float32>, <tf.Tensor 'IteratorGetNext:14' shape=(None, 6) dtype=float32>]\n"
          ]
        }
      ]
    },
    {
      "cell_type": "code",
      "metadata": {
        "colab": {
          "base_uri": "https://localhost:8080/"
        },
        "id": "N0R_pYBmh_oM",
        "outputId": "e2049cc3-f28b-4025-d130-f45dd07a73d1"
      },
      "source": [
        "pd.read_csv(root_path + 'data/train.csv').Date.apply([np.min, np.max])"
      ],
      "execution_count": null,
      "outputs": [
        {
          "output_type": "stream",
          "text": [
            "/usr/local/lib/python3.7/dist-packages/IPython/core/interactiveshell.py:2718: DtypeWarning: Columns (7) have mixed types.Specify dtype option on import or set low_memory=False.\n",
            "  interactivity=interactivity, compiler=compiler, result=result)\n"
          ],
          "name": "stderr"
        },
        {
          "output_type": "execute_result",
          "data": {
            "text/plain": [
              "amin    2013-01-01\n",
              "amax    2015-07-31\n",
              "Name: Date, dtype: object"
            ]
          },
          "metadata": {
            "tags": []
          },
          "execution_count": 76
        }
      ]
    },
    {
      "cell_type": "code",
      "metadata": {
        "colab": {
          "base_uri": "https://localhost:8080/",
          "height": 433
        },
        "id": "r7RRyeeBiCIM",
        "outputId": "9408c9da-fe7d-4d8f-8587-8e64994ae1fc"
      },
      "source": [
        "test_raw = pd.read_csv(root_path + \"data/test.csv\").drop('Id', axis=1).reset_index(drop=True)\n",
        "test = fix_df(test_raw.copy())\n",
        "test"
      ],
      "execution_count": null,
      "outputs": [
        {
          "output_type": "execute_result",
          "data": {
            "text/html": [
              "<div>\n",
              "<style scoped>\n",
              "    .dataframe tbody tr th:only-of-type {\n",
              "        vertical-align: middle;\n",
              "    }\n",
              "\n",
              "    .dataframe tbody tr th {\n",
              "        vertical-align: top;\n",
              "    }\n",
              "\n",
              "    .dataframe thead th {\n",
              "        text-align: right;\n",
              "    }\n",
              "</style>\n",
              "<table border=\"1\" class=\"dataframe\">\n",
              "  <thead>\n",
              "    <tr style=\"text-align: right;\">\n",
              "      <th></th>\n",
              "      <th>store</th>\n",
              "      <th>dayofweek</th>\n",
              "      <th>date</th>\n",
              "      <th>open</th>\n",
              "      <th>promo</th>\n",
              "      <th>stateholiday</th>\n",
              "      <th>schoolholiday</th>\n",
              "    </tr>\n",
              "  </thead>\n",
              "  <tbody>\n",
              "    <tr>\n",
              "      <th>0</th>\n",
              "      <td>1</td>\n",
              "      <td>4</td>\n",
              "      <td>2015-09-17</td>\n",
              "      <td>1.0</td>\n",
              "      <td>1</td>\n",
              "      <td>no</td>\n",
              "      <td>0</td>\n",
              "    </tr>\n",
              "    <tr>\n",
              "      <th>1</th>\n",
              "      <td>3</td>\n",
              "      <td>4</td>\n",
              "      <td>2015-09-17</td>\n",
              "      <td>1.0</td>\n",
              "      <td>1</td>\n",
              "      <td>no</td>\n",
              "      <td>0</td>\n",
              "    </tr>\n",
              "    <tr>\n",
              "      <th>2</th>\n",
              "      <td>7</td>\n",
              "      <td>4</td>\n",
              "      <td>2015-09-17</td>\n",
              "      <td>1.0</td>\n",
              "      <td>1</td>\n",
              "      <td>no</td>\n",
              "      <td>0</td>\n",
              "    </tr>\n",
              "    <tr>\n",
              "      <th>3</th>\n",
              "      <td>8</td>\n",
              "      <td>4</td>\n",
              "      <td>2015-09-17</td>\n",
              "      <td>1.0</td>\n",
              "      <td>1</td>\n",
              "      <td>no</td>\n",
              "      <td>0</td>\n",
              "    </tr>\n",
              "    <tr>\n",
              "      <th>4</th>\n",
              "      <td>9</td>\n",
              "      <td>4</td>\n",
              "      <td>2015-09-17</td>\n",
              "      <td>1.0</td>\n",
              "      <td>1</td>\n",
              "      <td>no</td>\n",
              "      <td>0</td>\n",
              "    </tr>\n",
              "    <tr>\n",
              "      <th>...</th>\n",
              "      <td>...</td>\n",
              "      <td>...</td>\n",
              "      <td>...</td>\n",
              "      <td>...</td>\n",
              "      <td>...</td>\n",
              "      <td>...</td>\n",
              "      <td>...</td>\n",
              "    </tr>\n",
              "    <tr>\n",
              "      <th>41083</th>\n",
              "      <td>1111</td>\n",
              "      <td>6</td>\n",
              "      <td>2015-08-01</td>\n",
              "      <td>1.0</td>\n",
              "      <td>0</td>\n",
              "      <td>no</td>\n",
              "      <td>0</td>\n",
              "    </tr>\n",
              "    <tr>\n",
              "      <th>41084</th>\n",
              "      <td>1112</td>\n",
              "      <td>6</td>\n",
              "      <td>2015-08-01</td>\n",
              "      <td>1.0</td>\n",
              "      <td>0</td>\n",
              "      <td>no</td>\n",
              "      <td>0</td>\n",
              "    </tr>\n",
              "    <tr>\n",
              "      <th>41085</th>\n",
              "      <td>1113</td>\n",
              "      <td>6</td>\n",
              "      <td>2015-08-01</td>\n",
              "      <td>1.0</td>\n",
              "      <td>0</td>\n",
              "      <td>no</td>\n",
              "      <td>0</td>\n",
              "    </tr>\n",
              "    <tr>\n",
              "      <th>41086</th>\n",
              "      <td>1114</td>\n",
              "      <td>6</td>\n",
              "      <td>2015-08-01</td>\n",
              "      <td>1.0</td>\n",
              "      <td>0</td>\n",
              "      <td>no</td>\n",
              "      <td>0</td>\n",
              "    </tr>\n",
              "    <tr>\n",
              "      <th>41087</th>\n",
              "      <td>1115</td>\n",
              "      <td>6</td>\n",
              "      <td>2015-08-01</td>\n",
              "      <td>1.0</td>\n",
              "      <td>0</td>\n",
              "      <td>no</td>\n",
              "      <td>1</td>\n",
              "    </tr>\n",
              "  </tbody>\n",
              "</table>\n",
              "<p>41088 rows × 7 columns</p>\n",
              "</div>"
            ],
            "text/plain": [
              "       store  dayofweek       date  open  promo stateholiday  schoolholiday\n",
              "0          1          4 2015-09-17   1.0      1           no              0\n",
              "1          3          4 2015-09-17   1.0      1           no              0\n",
              "2          7          4 2015-09-17   1.0      1           no              0\n",
              "3          8          4 2015-09-17   1.0      1           no              0\n",
              "4          9          4 2015-09-17   1.0      1           no              0\n",
              "...      ...        ...        ...   ...    ...          ...            ...\n",
              "41083   1111          6 2015-08-01   1.0      0           no              0\n",
              "41084   1112          6 2015-08-01   1.0      0           no              0\n",
              "41085   1113          6 2015-08-01   1.0      0           no              0\n",
              "41086   1114          6 2015-08-01   1.0      0           no              0\n",
              "41087   1115          6 2015-08-01   1.0      0           no              1\n",
              "\n",
              "[41088 rows x 7 columns]"
            ]
          },
          "metadata": {
            "tags": []
          },
          "execution_count": 78
        }
      ]
    },
    {
      "cell_type": "code",
      "metadata": {
        "colab": {
          "base_uri": "https://localhost:8080/"
        },
        "id": "FfYOVrRNiLmp",
        "outputId": "999285bb-0562-4854-e932-ae4c6846aea7"
      },
      "source": [
        "test.date.apply([np.min, np.max])"
      ],
      "execution_count": null,
      "outputs": [
        {
          "output_type": "execute_result",
          "data": {
            "text/plain": [
              "amin   2015-08-01\n",
              "amax   2015-09-17\n",
              "Name: date, dtype: datetime64[ns]"
            ]
          },
          "metadata": {
            "tags": []
          },
          "execution_count": 79
        }
      ]
    },
    {
      "cell_type": "code",
      "metadata": {
        "colab": {
          "base_uri": "https://localhost:8080/"
        },
        "id": "c-A2PnUumLws",
        "outputId": "8a3be032-de9d-4ec0-d3f6-2a84d1d5ee0d"
      },
      "source": [
        "xtrain.info()"
      ],
      "execution_count": null,
      "outputs": [
        {
          "output_type": "stream",
          "text": [
            "<class 'pandas.core.frame.DataFrame'>\n",
            "RangeIndex: 669257 entries, 0 to 669256\n",
            "Data columns (total 20 columns):\n",
            " #   Column                        Non-Null Count   Dtype   \n",
            "---  ------                        --------------   -----   \n",
            " 0   store                         669257 non-null  int64   \n",
            " 1   dayofweek                     669257 non-null  int64   \n",
            " 2   promo                         669257 non-null  int64   \n",
            " 3   stateholiday                  669257 non-null  category\n",
            " 4   schoolholiday                 669257 non-null  int64   \n",
            " 5   elapsed_promo_fwd             669257 non-null  int64   \n",
            " 6   elapsed_promo_backwd          669257 non-null  int64   \n",
            " 7   elapsed_schoolholiday_fwd     669257 non-null  int64   \n",
            " 8   elapsed_schoolholiday_backwd  669257 non-null  int64   \n",
            " 9   monthofyear                   669257 non-null  int64   \n",
            " 10  dayofmonth                    669257 non-null  int64   \n",
            " 11  dayofyear                     669257 non-null  int64   \n",
            " 12  weekofyear                    669257 non-null  category\n",
            " 13  avg_store_customers           669257 non-null  float64 \n",
            " 14  avg_store_sales               669257 non-null  float64 \n",
            " 15  storetype                     669257 non-null  category\n",
            " 16  assortment                    669257 non-null  category\n",
            " 17  competitiondistance           669257 non-null  float64 \n",
            " 18  promo2                        669257 non-null  int64   \n",
            " 19  promointerval                 669257 non-null  category\n",
            "dtypes: category(5), float64(3), int64(12)\n",
            "memory usage: 79.8 MB\n"
          ],
          "name": "stdout"
        }
      ]
    },
    {
      "cell_type": "code",
      "metadata": {
        "id": "JDumP3Uqmu0X"
      },
      "source": [],
      "execution_count": null,
      "outputs": []
    },
    {
      "cell_type": "code",
      "metadata": {
        "id": "2xnds1u0si-E"
      },
      "source": [],
      "execution_count": null,
      "outputs": []
    },
    {
      "cell_type": "code",
      "metadata": {
        "id": "I4FTs_IAsir7"
      },
      "source": [],
      "execution_count": null,
      "outputs": []
    },
    {
      "cell_type": "markdown",
      "metadata": {
        "id": "Y_h3MvQtsmT8"
      },
      "source": [
        "# Random Forest"
      ]
    },
    {
      "cell_type": "code",
      "metadata": {
        "colab": {
          "base_uri": "https://localhost:8080/"
        },
        "id": "RbjlKJrNsiZ1",
        "outputId": "c3e1ae6d-47e2-4b7e-841a-92de01d93aca"
      },
      "source": [
        "import sys\n",
        "import pathlib\n",
        "\n",
        "sys.path.append(str(pathlib.Path(\"..\").resolve().parent.parent))\n",
        "from sklearn.linear_model import LinearRegression\n",
        "import seaborn as sns\n",
        "from RossmannSalesPrediction.helpers.evaluation import rmspcte\n",
        "from RossmannSalesPrediction.helpers import lr_finder\n",
        "from tensorflow.keras import backend as K\n",
        "import matplotlib.pyplot as plt\n",
        "from RossmannSalesPrediction.helpers.dataprep import timeseries_ttsplit, fix_df, prep_for_model\n",
        "from RossmannSalesPrediction.helpers import feature_engineering\n",
        "import pandas as pd\n",
        "import numpy as np\n",
        "from sklearn.preprocessing import OrdinalEncoder, StandardScaler\n",
        "from sklearn.compose import ColumnTransformer\n",
        "\n",
        "\n",
        "#%%\n",
        "train = pd.read_csv(root_path + 'data/train.csv')\n",
        "train = fix_df(train)\n",
        "\n",
        "# ADD ELAPSED\n",
        "promo_elapsed = (\n",
        "    train.groupby('date').mean().reset_index()\n",
        "    .pipe(feature_engineering.time_elapsed, 'promo', 'forward')\n",
        "    .pipe(feature_engineering.time_elapsed, 'promo', 'backward')\n",
        "    .pipe(feature_engineering.time_elapsed, 'schoolholiday', 'forward')\n",
        "    .pipe(feature_engineering.time_elapsed, 'schoolholiday', 'backward')\n",
        "    [['date', 'elapsed_promo_fwd', 'elapsed_promo_backwd', 'elapsed_schoolholiday_fwd', 'elapsed_schoolholiday_backwd']]\n",
        ")\n",
        "\n",
        "train = pd.merge(train, promo_elapsed, on=[\"date\"], how='left')\n",
        "\n",
        "\n",
        "xtrain_raw, xval_raw, ytrain_raw, yval_raw = timeseries_ttsplit(train, train_pct=0.9)\n",
        "\n",
        "\n",
        "xtrain, ytrain = (\n",
        "    xtrain_raw\n",
        "    .pipe(feature_engineering.split_date)\n",
        "    .pipe(feature_engineering.add_avg_customers_per_store, train_data=xtrain_raw)\n",
        "    .pipe(feature_engineering.add_avg_sales_per_store, xtrain=xtrain_raw, ytrain=ytrain_raw)\n",
        "    .pipe(feature_engineering.join_store_details)\n",
        "    .drop([\"competitionopensincemonth\", \"competitionopensinceyear\"], axis=1)\n",
        "    .pipe(prep_for_model, y=ytrain_raw)  # must be last, returns x,y tuple\n",
        ")\n",
        "\n",
        "#%%\n",
        "xval, yval = (\n",
        "    xval_raw\n",
        "    .pipe(feature_engineering.split_date)\n",
        "    .pipe(feature_engineering.add_avg_customers_per_store, train_data=xtrain_raw)\n",
        "    .pipe(feature_engineering.add_avg_sales_per_store, xtrain=xtrain_raw, ytrain=ytrain_raw)\n",
        "    .pipe(feature_engineering.join_store_details)\n",
        "    .drop([\"competitionopensincemonth\", \"competitionopensinceyear\"], axis=1)\n",
        "    .pipe(prep_for_model, y=yval_raw)  # must be last, returns x,y tuple\n",
        ")\n",
        "\n",
        "\n",
        "assert (xtrain.index == ytrain.index).all()\n",
        "\n",
        "\n",
        "#%%\n",
        "\n",
        "#%%\n",
        "embedding_fts = \"store dayofweek dayofyear stateholiday monthofyear dayofmonth storetype assortment promointerval weekofyear elapsed_promo_fwd elapsed_promo_backwd elapsed_schoolholiday_fwd elapsed_schoolholiday_backwd\".split()\n",
        "\n",
        "xtrain[embedding_fts] = xtrain[embedding_fts].astype('category')\n",
        "xval[embedding_fts] = xval[embedding_fts].astype('category')\n",
        "\n",
        "for col in embedding_fts:\n",
        "    xtrain[col] = xtrain[col].cat.codes\n",
        "    xval[col] = xval[col].cat.codes\n",
        "#%%\n",
        "from sklearn.ensemble import RandomForestRegressor\n",
        "from sklearn.linear_model import LinearRegression\n",
        "\n",
        "rfr = RandomForestRegressor(n_jobs=-1)\n",
        "#rfr = LinearRegression(n_jobs=-1)\n",
        "rfr.fit(xtrain, ytrain)\n",
        "\n",
        "#%%\n",
        "preds = rfr.predict(xval)\n",
        "\n",
        "#%%\n",
        "rmspcte(yval, preds)"
      ],
      "execution_count": 62,
      "outputs": [
        {
          "output_type": "stream",
          "text": [
            "/usr/local/lib/python3.7/dist-packages/IPython/core/interactiveshell.py:2718: DtypeWarning: Columns (7) have mixed types.Specify dtype option on import or set low_memory=False.\n",
            "  interactivity=interactivity, compiler=compiler, result=result)\n"
          ],
          "name": "stderr"
        },
        {
          "output_type": "execute_result",
          "data": {
            "text/plain": [
              "0.31722953409460486"
            ]
          },
          "metadata": {
            "tags": []
          },
          "execution_count": 62
        }
      ]
    },
    {
      "cell_type": "code",
      "metadata": {
        "colab": {
          "base_uri": "https://localhost:8080/"
        },
        "id": "g1n5nlND4dy2",
        "outputId": "45a89682-f96f-4e94-dced-9d2dd0ff0a21"
      },
      "source": [
        "xall = pd.concat((xtrain, xval), axis=0)\n",
        "yall = pd.concat((ytrain, yval), axis=0)\n",
        "\n",
        "rfr.fit(xall, yall)"
      ],
      "execution_count": null,
      "outputs": [
        {
          "output_type": "execute_result",
          "data": {
            "text/plain": [
              "RandomForestRegressor(bootstrap=True, ccp_alpha=0.0, criterion='mse',\n",
              "                      max_depth=None, max_features='auto', max_leaf_nodes=None,\n",
              "                      max_samples=None, min_impurity_decrease=0.0,\n",
              "                      min_impurity_split=None, min_samples_leaf=1,\n",
              "                      min_samples_split=2, min_weight_fraction_leaf=0.0,\n",
              "                      n_estimators=100, n_jobs=-1, oob_score=False,\n",
              "                      random_state=None, verbose=0, warm_start=False)"
            ]
          },
          "metadata": {
            "tags": []
          },
          "execution_count": 33
        }
      ]
    },
    {
      "cell_type": "markdown",
      "metadata": {
        "id": "x9zJ0Mpw4mdH"
      },
      "source": [
        "# Prepping Test Submission"
      ]
    },
    {
      "cell_type": "code",
      "metadata": {
        "colab": {
          "base_uri": "https://localhost:8080/"
        },
        "id": "Km6t-dnf4j1z",
        "outputId": "7192491c-b2a1-4166-dfdc-2516b2d7f526"
      },
      "source": [
        "# TEST SUBMISSION RANDOM FOREST\n",
        "if True:\n",
        "    test_raw = pd.read_csv(root_path + \"data/test.csv\").drop('Id', axis=1).reset_index(drop=True)\n",
        "    test = fix_df(test_raw.copy())\n",
        "    \n",
        "    promo_elapsed = (\n",
        "    test.groupby('date').mean().reset_index()\n",
        "        .pipe(feature_engineering.time_elapsed, 'promo', 'forward')\n",
        "        .pipe(feature_engineering.time_elapsed, 'promo', 'backward')\n",
        "        .pipe(feature_engineering.time_elapsed, 'schoolholiday', 'forward')\n",
        "        .pipe(feature_engineering.time_elapsed, 'schoolholiday', 'backward')\n",
        "        [['date', 'elapsed_promo_fwd', 'elapsed_promo_backwd', 'elapsed_schoolholiday_fwd', 'elapsed_schoolholiday_backwd']]\n",
        "    )\n",
        "\n",
        "    test = pd.merge(test, promo_elapsed, on=[\"date\"], how='left')\n",
        "\n",
        "\n",
        "    xall_raw = pd.concat((xtrain_raw, xval_raw), axis=0)\n",
        "    yall_raw = pd.concat((ytrain_raw, yval_raw), axis=0)\n",
        "\n",
        "    xtest = (\n",
        "        test\n",
        "        .pipe(feature_engineering.split_date)\n",
        "        .pipe(feature_engineering.add_avg_customers_per_store, train_data=xall_raw)\n",
        "        .pipe(feature_engineering.add_avg_sales_per_store, xtrain=xall_raw, ytrain=yall_raw)\n",
        "        .pipe(feature_engineering.join_store_details)\n",
        "        .drop(['date', 'open'], axis=1)\n",
        "        .rename({'customers': 'avg_store_customers'}, axis=1)\n",
        "        [xval.columns]\n",
        "    )\n",
        "\n",
        "    for col in embedding_fts:\n",
        "        xtest[col] = xtest[col].astype('category')\n",
        "        xtest[col] = xtest[col].cat.codes\n",
        "\n",
        "    print(xtest.info())\n"
      ],
      "execution_count": 147,
      "outputs": [
        {
          "output_type": "stream",
          "text": [
            "<class 'pandas.core.frame.DataFrame'>\n",
            "Int64Index: 41088 entries, 0 to 41087\n",
            "Data columns (total 21 columns):\n",
            " #   Column                        Non-Null Count  Dtype  \n",
            "---  ------                        --------------  -----  \n",
            " 0   store                         41088 non-null  int16  \n",
            " 1   dayofweek                     41088 non-null  int8   \n",
            " 2   promo                         41088 non-null  int64  \n",
            " 3   stateholiday                  41088 non-null  int8   \n",
            " 4   schoolholiday                 41088 non-null  int64  \n",
            " 5   elapsed_promo_fwd             41088 non-null  int8   \n",
            " 6   elapsed_promo_backwd          41088 non-null  int8   \n",
            " 7   elapsed_schoolholiday_fwd     41088 non-null  int8   \n",
            " 8   elapsed_schoolholiday_backwd  41088 non-null  int8   \n",
            " 9   monthofyear                   41088 non-null  int8   \n",
            " 10  dayofmonth                    41088 non-null  int8   \n",
            " 11  dayofyear                     41088 non-null  int8   \n",
            " 12  weekofyear                    41088 non-null  int8   \n",
            " 13  avg_store_customers           41088 non-null  float64\n",
            " 14  avg_store_sales               41088 non-null  float64\n",
            " 15  storetype                     41088 non-null  int8   \n",
            " 16  assortment                    41088 non-null  int8   \n",
            " 17  competitiondistance           41088 non-null  float64\n",
            " 18  promo2                        41088 non-null  int64  \n",
            " 19  promointerval                 41088 non-null  int8   \n",
            " 20  competitionopen               41088 non-null  float64\n",
            "dtypes: float64(4), int16(1), int64(3), int8(13)\n",
            "memory usage: 3.1 MB\n",
            "None\n"
          ],
          "name": "stdout"
        }
      ]
    },
    {
      "cell_type": "code",
      "metadata": {
        "id": "_GJTwT6v9U_t"
      },
      "source": [
        "preds = rfr.predict(xtest)\n",
        "\n",
        "#train_mean = np.hstack([ytrain.values, yval.values]).mean()\n",
        "#preds = np.full(len(xtest), train_mean)\n",
        "\n",
        "submission = pd.DataFrame({'Id': range(1, len(preds)+1), 'sales': preds.flatten()}).set_index('Id')\n",
        "submission\n",
        "submission.to_csv(\"random_forest_submission.csv\")"
      ],
      "execution_count": 148,
      "outputs": []
    },
    {
      "cell_type": "code",
      "metadata": {
        "colab": {
          "base_uri": "https://localhost:8080/"
        },
        "id": "_ecQ-wO03TK2",
        "outputId": "7e817e9f-88e0-4857-f8a9-cf15d94b63a0"
      },
      "source": [],
      "execution_count": 146,
      "outputs": [
        {
          "output_type": "execute_result",
          "data": {
            "text/plain": [
              "6955.959133664481"
            ]
          },
          "metadata": {
            "tags": []
          },
          "execution_count": 146
        }
      ]
    },
    {
      "cell_type": "code",
      "metadata": {
        "id": "ECC2mXoNuwah"
      },
      "source": [
        "# TEST SUBMISSION NEURAL NET TIMESERIES \n",
        "if False:\n",
        "    test_raw = pd.read_csv(root_path + \"data/test.csv\").drop('Id', axis=1).reset_index(drop=True)\n",
        "    test = fix_df(test_raw.copy())\n",
        "    test = test.groupby('date').mean().drop(['store'], axis=1).reset_index()\n",
        "    test = feature_engineering.split_date(test).drop('date', axis=1)\n",
        "\n",
        "    xtest_nn = test.copy()\n",
        "    xtest_nn_num = xtest_nn.loc[:, ~xtest_nn.columns.isin(embedding_fts)].values.astype(np.float64)\n",
        "    xtest_nn_emb = xtest_nn.loc[:, embedding_fts].values\n",
        "    test_in = np.split(xtest_nn_emb, xtest_nn_emb.shape[-1], axis=1) + [xtest_nn_num]\n",
        "\n",
        "    preds = y_ss.inverse_transform(model.predict(test_in))\n",
        "\n",
        "    preds_df = pd.melt(pd.DataFrame(preds, index=test_raw.Date.unique()), var_name='Store', value_name='Sales', ignore_index=False).reset_index().rename({'index': 'Date'}, axis=1)\n",
        "    preds_df['Store'] += 1\n",
        "\n",
        "    output = pd.merge(test_raw, preds_df, on=['Date', 'Store'], how='left')\n",
        "    output = output.set_index(output.index+1)\n",
        "    output['Sales'].to_csv(root_path + \"data/multivariate_nn_out.csv\", index_label='Id')\n"
      ],
      "execution_count": null,
      "outputs": []
    },
    {
      "cell_type": "markdown",
      "metadata": {
        "id": "X5Vw_g6fTIkV"
      },
      "source": [
        "# Per-Day multivariate output"
      ]
    },
    {
      "cell_type": "code",
      "metadata": {
        "colab": {
          "base_uri": "https://localhost:8080/"
        },
        "id": "meaiQ7HETcaC",
        "outputId": "a12dac0d-74d9-48d5-fdea-1e15665f71e3"
      },
      "source": [
        "import seaborn as sns\n",
        "import sys\n",
        "import pathlib\n",
        "from typing import Union\n",
        "\n",
        "sys.path.append(str(pathlib.Path(\"..\").resolve().parent.parent))\n",
        "from RossmannSalesPrediction.helpers.dataprep import timeseries_ttsplit, fix_df, prep_for_model\n",
        "from RossmannSalesPrediction.helpers.evaluation import rmspcte\n",
        "from tensorflow import keras\n",
        "import tensorflow as tf\n",
        "from sklearn.compose import ColumnTransformer\n",
        "from sklearn.preprocessing import OrdinalEncoder, StandardScaler\n",
        "import matplotlib.pyplot as plt\n",
        "import numpy as np\n",
        "import pandas as pd\n",
        "from RossmannSalesPrediction.helpers import feature_engineering\n",
        "from RossmannSalesPrediction.helpers.evaluation import rmspe_loss\n",
        "\n",
        "\n",
        "root_path = \"RossmannSalesPrediction/\"\n",
        "\n",
        "#%%\n",
        "train = pd.read_csv(root_path + 'data/train.csv')\n",
        "train = fix_df(train)\n",
        "X = train.groupby('date').mean().drop(['store', 'sales', 'customers'], axis=1).reset_index()\n",
        "y = pd.pivot_table(train, index='date', columns='store', values='sales').fillna(0).values\n",
        "\n",
        "cutoff = int(len(y) * 0.8)\n",
        "\n",
        "xtrain_raw = X.iloc[:cutoff]\n",
        "ytrain = y[:cutoff]\n",
        "\n",
        "xval_raw = X.iloc[cutoff:]\n",
        "yval = y[cutoff:]\n",
        "\n",
        "#%%\n",
        "xtrain_raw = (\n",
        "    xtrain_raw\n",
        "    .pipe(feature_engineering.time_elapsed, 'promo', 'forward')\n",
        "    .pipe(feature_engineering.time_elapsed, 'promo', 'backward')\n",
        "    .pipe(feature_engineering.time_elapsed, 'schoolholiday', 'forward')\n",
        "    .pipe(feature_engineering.time_elapsed, 'schoolholiday', 'backward')\n",
        ")\n",
        "\n",
        "xval_raw = (\n",
        "    xval_raw\n",
        "    .pipe(feature_engineering.time_elapsed, 'promo', 'forward')\n",
        "    .pipe(feature_engineering.time_elapsed, 'promo', 'backward')\n",
        "    .pipe(feature_engineering.time_elapsed, 'schoolholiday', 'forward')\n",
        "    .pipe(feature_engineering.time_elapsed, 'schoolholiday', 'backward')\n",
        ")\n",
        "\n",
        "#%%\n",
        "xtrain = feature_engineering.split_date(xtrain_raw).drop('date', axis=1)\n",
        "xval = feature_engineering.split_date(xval_raw).drop('date', axis=1)\n",
        "\n",
        "\n",
        "#%%\n",
        "embedding_fts = \"dayofweek monthofyear dayofmonth weekofyear dayofyear promo\".split()\n",
        "to_scale = ['elapsed_promo_fwd',\n",
        "            'elapsed_promo_backwd', 'elapsed_schoolholiday_fwd',\n",
        "            'elapsed_schoolholiday_backwd']\n",
        "#%%\n",
        "ss = StandardScaler()\n",
        "ss.fit(xtrain[to_scale])\n",
        "xtrain[to_scale] = ss.transform(xtrain[to_scale])\n",
        "xval[to_scale] = ss.transform(xval[to_scale])\n",
        "\n",
        "\n",
        "\n",
        "#%%\n",
        "xtrain_nn = xtrain.copy()\n",
        "xval_nn = xval.copy()\n",
        "\n",
        "xtrain[embedding_fts] = xtrain[embedding_fts].astype('int64')\n",
        "xval[embedding_fts] = xval[embedding_fts].astype('int64')"
      ],
      "execution_count": null,
      "outputs": [
        {
          "output_type": "stream",
          "text": [
            "/usr/local/lib/python3.7/dist-packages/IPython/core/interactiveshell.py:2718: DtypeWarning: Columns (7) have mixed types.Specify dtype option on import or set low_memory=False.\n",
            "  interactivity=interactivity, compiler=compiler, result=result)\n"
          ],
          "name": "stderr"
        }
      ]
    },
    {
      "cell_type": "code",
      "metadata": {
        "id": "sLvDlFaCT0bT"
      },
      "source": [
        "train_wasopen = (xtrain.open > 0.05)\n",
        "val_wasopen = (xval.open > 0.05)\n",
        "\n",
        "xtrain = xtrain[train_wasopen]\n",
        "xval = xval[val_wasopen]\n",
        "\n",
        "ytrain = ytrain[train_wasopen, :]\n",
        "yval = yval[val_wasopen, :]\n"
      ],
      "execution_count": null,
      "outputs": []
    },
    {
      "cell_type": "code",
      "metadata": {
        "colab": {
          "base_uri": "https://localhost:8080/"
        },
        "id": "iGiBhu_8ZqL9",
        "outputId": "b68ba07d-c480-46a2-ed3b-dc389a0f947e"
      },
      "source": [
        "xtrain.info()"
      ],
      "execution_count": null,
      "outputs": [
        {
          "output_type": "stream",
          "text": [
            "<class 'pandas.core.frame.DataFrame'>\n",
            "Int64Index: 627 entries, 1 to 752\n",
            "Data columns (total 12 columns):\n",
            " #   Column                        Non-Null Count  Dtype  \n",
            "---  ------                        --------------  -----  \n",
            " 0   dayofweek                     627 non-null    int64  \n",
            " 1   open                          627 non-null    float64\n",
            " 2   promo                         627 non-null    int64  \n",
            " 3   schoolholiday                 627 non-null    float64\n",
            " 4   elapsed_promo_fwd             627 non-null    float64\n",
            " 5   elapsed_promo_backwd          627 non-null    float64\n",
            " 6   elapsed_schoolholiday_fwd     627 non-null    float64\n",
            " 7   elapsed_schoolholiday_backwd  627 non-null    float64\n",
            " 8   monthofyear                   627 non-null    int64  \n",
            " 9   dayofmonth                    627 non-null    int64  \n",
            " 10  dayofyear                     627 non-null    int64  \n",
            " 11  weekofyear                    627 non-null    int64  \n",
            "dtypes: float64(6), int64(6)\n",
            "memory usage: 63.7 KB\n"
          ],
          "name": "stdout"
        }
      ]
    },
    {
      "cell_type": "code",
      "metadata": {
        "id": "1qnulcAQTtAc"
      },
      "source": [
        "trainset = tf.data.Dataset.from_tensor_slices((dict(xtrain), ytrain.astype(np.float32))).batch(128)\n",
        "valset = tf.data.Dataset.from_tensor_slices((dict(xval), yval.astype(np.float32))).batch(len(yval))"
      ],
      "execution_count": null,
      "outputs": []
    },
    {
      "cell_type": "code",
      "metadata": {
        "colab": {
          "base_uri": "https://localhost:8080/"
        },
        "id": "J2H0s7DmXzmq",
        "outputId": "eb49a259-3219-470d-9aef-b672916812e6"
      },
      "source": [
        "for x in trainset.take(1):\n",
        "    print(x)"
      ],
      "execution_count": null,
      "outputs": [
        {
          "output_type": "stream",
          "text": [
            "({'dayofweek': <tf.Tensor: shape=(32,), dtype=int64, numpy=\n",
            "array([3, 4, 5, 6, 1, 2, 3, 4, 5, 6, 1, 2, 3, 4, 5, 6, 1, 2, 3, 4, 5, 6,\n",
            "       1, 2, 3, 4, 5, 6, 1, 2, 3, 4])>, 'open': <tf.Tensor: shape=(32,), dtype=float64, numpy=\n",
            "array([0.99641256, 0.99461883, 0.99372197, 0.99282511, 0.99192825,\n",
            "       0.99103139, 0.99103139, 0.99103139, 0.99103139, 0.99103139,\n",
            "       0.99103139, 0.99103139, 0.99103139, 0.99282511, 0.99192825,\n",
            "       0.99282511, 0.99282511, 0.99282511, 0.99282511, 0.99372197,\n",
            "       0.99372197, 0.99372197, 0.99282511, 0.99282511, 0.99372197,\n",
            "       0.99372197, 0.99461883, 0.99461883, 0.99461883, 0.99461883,\n",
            "       0.99461883, 0.99372197])>, 'promo': <tf.Tensor: shape=(32,), dtype=int64, numpy=\n",
            "array([0, 0, 0, 0, 1, 1, 1, 1, 1, 0, 0, 0, 0, 0, 0, 0, 1, 1, 1, 1, 1, 0,\n",
            "       0, 0, 0, 0, 0, 0, 1, 1, 1, 1])>, 'schoolholiday': <tf.Tensor: shape=(32,), dtype=float64, numpy=\n",
            "array([1.        , 0.93273543, 0.93273543, 0.10044843, 0.10044843,\n",
            "       0.10044843, 0.10044843, 0.10044843, 0.10044843, 0.        ,\n",
            "       0.        , 0.        , 0.        , 0.        , 0.        ,\n",
            "       0.        , 0.        , 0.        , 0.        , 0.        ,\n",
            "       0.        , 0.        , 0.        , 0.        , 0.        ,\n",
            "       0.01973094, 0.09506726, 0.        , 0.2       , 0.2       ,\n",
            "       0.2       , 0.2       ])>, 'elapsed_promo_fwd': <tf.Tensor: shape=(32,), dtype=float64, numpy=\n",
            "array([-0.4832812 , -0.20506198,  0.07315725,  0.35137647,  0.90781491,\n",
            "        0.90781491,  0.90781491,  0.90781491,  0.90781491, -1.59615808,\n",
            "       -1.03971964, -0.76150042, -0.4832812 , -0.20506198,  0.07315725,\n",
            "        0.35137647,  0.90781491,  0.90781491,  0.90781491,  0.90781491,\n",
            "        0.90781491, -1.59615808, -1.03971964, -0.76150042, -0.4832812 ,\n",
            "       -0.20506198,  0.07315725,  0.35137647,  0.90781491,  0.90781491,\n",
            "        0.90781491,  0.90781491])>, 'elapsed_promo_backwd': <tf.Tensor: shape=(32,), dtype=float64, numpy=\n",
            "array([ 3.57438167,  3.57438167,  3.57438167,  3.57438167, -0.91146733,\n",
            "       -0.91146733, -0.91146733, -0.91146733, -0.91146733, -0.63110176,\n",
            "       -0.07037064,  0.20999492,  0.49036049,  0.77072605,  1.05109161,\n",
            "        1.33145717, -0.91146733, -0.91146733, -0.91146733, -0.91146733,\n",
            "       -0.91146733, -0.63110176, -0.07037064,  0.20999492,  0.49036049,\n",
            "        0.77072605,  1.05109161,  1.33145717, -0.91146733, -0.91146733,\n",
            "       -0.91146733, -0.91146733])>, 'elapsed_schoolholiday_fwd': <tf.Tensor: shape=(32,), dtype=float64, numpy=\n",
            "array([ 0.58473495,  0.58473495,  0.58473495,  0.58473495,  0.58473495,\n",
            "        0.58473495,  0.58473495,  0.58473495,  0.58473495, -1.1257134 ,\n",
            "       -0.94566621, -0.85564261, -0.76561901, -0.67559542, -0.58557182,\n",
            "       -0.49554822, -0.31550103, -0.22547743, -0.13545383, -0.04543024,\n",
            "        0.04459336,  0.13461696,  0.31466415,  0.40468775,  0.49471135,\n",
            "        0.58473495,  0.58473495,  0.40468775,  0.58473495,  0.58473495,\n",
            "        0.58473495,  0.58473495])>, 'elapsed_schoolholiday_backwd': <tf.Tensor: shape=(32,), dtype=float64, numpy=\n",
            "array([-0.59844405, -0.59844405, -0.59844405, -0.59844405, -0.59844405,\n",
            "       -0.59844405, -0.59844405, -0.59844405, -0.59844405, -0.49456476,\n",
            "       -0.28680617, -0.18292688, -0.07904759,  0.0248317 ,  0.128711  ,\n",
            "        0.23259029,  0.44034887,  0.54422816,  0.64810745,  0.75198675,\n",
            "        0.85586604,  0.95974533,  1.16750391,  1.27138321,  1.3752625 ,\n",
            "       -0.59844405, -0.59844405, -0.49456476, -0.59844405, -0.59844405,\n",
            "       -0.59844405, -0.59844405])>, 'monthofyear': <tf.Tensor: shape=(32,), dtype=int64, numpy=\n",
            "array([1, 1, 1, 1, 1, 1, 1, 1, 1, 1, 1, 1, 1, 1, 1, 1, 1, 1, 1, 1, 1, 1,\n",
            "       1, 1, 1, 1, 2, 2, 2, 2, 2, 2])>, 'dayofmonth': <tf.Tensor: shape=(32,), dtype=int64, numpy=\n",
            "array([ 2,  3,  4,  5,  7,  8,  9, 10, 11, 12, 14, 15, 16, 17, 18, 19, 21,\n",
            "       22, 23, 24, 25, 26, 28, 29, 30, 31,  1,  2,  4,  5,  6,  7])>, 'dayofyear': <tf.Tensor: shape=(32,), dtype=int64, numpy=\n",
            "array([ 2,  3,  4,  5,  7,  8,  9, 10, 11, 12, 14, 15, 16, 17, 18, 19, 21,\n",
            "       22, 23, 24, 25, 26, 28, 29, 30, 31, 32, 33, 35, 36, 37, 38])>, 'weekofyear': <tf.Tensor: shape=(32,), dtype=int64, numpy=\n",
            "array([1, 1, 1, 1, 2, 2, 2, 2, 2, 2, 3, 3, 3, 3, 3, 3, 4, 4, 4, 4, 4, 4,\n",
            "       5, 5, 5, 5, 5, 5, 6, 6, 6, 6])>}, <tf.Tensor: shape=(32, 1115), dtype=float32, numpy=\n",
            "array([[ 5530.,  4422.,  6823., ...,  6218., 20642.,  3697.],\n",
            "       [ 4327.,  4159.,  5902., ...,  5563., 18463.,  4297.],\n",
            "       [ 4486.,  4484.,  6069., ...,  5524., 18371.,  4540.],\n",
            "       ...,\n",
            "       [ 6049.,  6269.,  9372., ...,  6234., 18715.,  6126.],\n",
            "       [ 6140.,  6438.,  9084., ...,  7132., 19167.,  4810.],\n",
            "       [ 5499.,  5575.,  7786., ...,  7638., 19514.,  5504.]],\n",
            "      dtype=float32)>)\n"
          ],
          "name": "stdout"
        }
      ]
    },
    {
      "cell_type": "code",
      "metadata": {
        "id": "wjdX2dLPWSmE"
      },
      "source": [
        "feature_cols = []\n",
        "ftl_inputs = {}\n",
        "\n",
        "emb_table = {\n",
        "    'dayofweek': 10, #6,\n",
        "    'monthofyear': 15, #6,\n",
        "    'dayofmonth': 10,\n",
        "    'weekofyear': 25,\n",
        "    'dayofyear': 5,\n",
        "    'promo': 2\n",
        "}\n",
        "\n",
        "\n",
        "for col in xtrain.columns:\n",
        "    if col in embedding_fts:\n",
        "        cat = tf.feature_column.categorical_column_with_vocabulary_list(col, vocabulary_list=xtrain[col].unique())\n",
        "        emb = tf.feature_column.embedding_column(cat, dimension=emb_table[col])\n",
        "        feature_cols.append(emb)\n",
        "        ftl_inputs[col] = tf.keras.Input(shape=(1,), dtype=tf.int8, name=col)\n",
        "\n",
        "    else:\n",
        "        num = tf.feature_column.numeric_column(col)\n",
        "        feature_cols.append(num)\n",
        "        ftl_inputs[col] = tf.keras.Input(shape=(1,), dtype=tf.float32, name=col)"
      ],
      "execution_count": null,
      "outputs": []
    },
    {
      "cell_type": "code",
      "metadata": {
        "colab": {
          "base_uri": "https://localhost:8080/"
        },
        "id": "2pSO_DxZ5mga",
        "outputId": "5afd0ef1-f4c7-4775-bb19-c8043f8bd638"
      },
      "source": [
        "ftcols_in = tf.keras.layers.DenseFeatures(feature_cols)(ftl_inputs)\n",
        "\n",
        "\n",
        "\n",
        "\n",
        "#flats = [keras.layers.Flatten()(x) for x in emb_layers + [num_input]]\n",
        "# concat = keras.layers.Concatenate()(flats)\n",
        "# hidden_dense = keras.layers.Dense(units=512, activation='relu',)(concat)\n",
        "\n",
        "hidden_dense = keras.layers.Dense(units=512, activation='relu',)(ftcols_in)\n",
        "hidden_dense = keras.layers.Dense(units=512, activation='relu',)(hidden_dense)\n",
        "out = keras.layers.Dense(units=1115, activation='linear')(hidden_dense)\n",
        "\n",
        "#model: keras.Model = keras.Model(inputs=emb_inputs + [num_input], outputs=out)\n",
        "model: keras.Model = keras.Model(inputs=[v for v in ftl_inputs.values()], outputs=out)\n",
        "\n",
        "#%%\n",
        "from tensorflow.keras.callbacks import ModelCheckpoint\n",
        "\n",
        "# mcp = ModelCheckpoint('.modelcheckpoint', save_best_only=True, save_weights_only=True)\n",
        "model.compile(optimizer=keras.optimizers.Adam(3e-4), loss=rmspe_loss, metrics=[rmspe_loss])\n",
        "\n",
        "\n",
        "#%%\n",
        "hist = model.fit(trainset, validation_data=valset, epochs=100)#callbacks=[mcp])\n",
        "\n",
        "#model.load_weights(\".modelcheckpoint\")"
      ],
      "execution_count": null,
      "outputs": [
        {
          "output_type": "stream",
          "text": [
            "Epoch 1/100\n",
            "20/20 [==============================] - 6s 59ms/step - loss: 4484374.8929 - rmspe_loss: 4484374.8929 - val_loss: 1078680.0000 - val_rmspe_loss: 1078680.0000\n",
            "Epoch 2/100\n",
            "20/20 [==============================] - 0s 18ms/step - loss: 3887129.3214 - rmspe_loss: 3887129.3214 - val_loss: 796469.8125 - val_rmspe_loss: 796469.8125\n",
            "Epoch 3/100\n",
            "20/20 [==============================] - 0s 19ms/step - loss: 1862967.2530 - rmspe_loss: 1862967.2530 - val_loss: 565512.1250 - val_rmspe_loss: 565512.1250\n",
            "Epoch 4/100\n",
            "20/20 [==============================] - 0s 19ms/step - loss: 1443284.1280 - rmspe_loss: 1443284.1280 - val_loss: 415273.4062 - val_rmspe_loss: 415273.4062\n",
            "Epoch 5/100\n",
            "20/20 [==============================] - 0s 19ms/step - loss: 817764.4583 - rmspe_loss: 817764.4583 - val_loss: 297734.3750 - val_rmspe_loss: 297734.3750\n",
            "Epoch 6/100\n",
            "20/20 [==============================] - 0s 21ms/step - loss: 426105.3118 - rmspe_loss: 426105.3118 - val_loss: 229500.1250 - val_rmspe_loss: 229500.1250\n",
            "Epoch 7/100\n",
            "20/20 [==============================] - 0s 20ms/step - loss: 238255.9323 - rmspe_loss: 238255.9323 - val_loss: 186005.8125 - val_rmspe_loss: 186005.8125\n",
            "Epoch 8/100\n",
            "20/20 [==============================] - 0s 21ms/step - loss: 159937.3237 - rmspe_loss: 159937.3237 - val_loss: 188287.3750 - val_rmspe_loss: 188287.3750\n",
            "Epoch 9/100\n",
            "20/20 [==============================] - 0s 20ms/step - loss: 157630.0707 - rmspe_loss: 157630.0707 - val_loss: 200980.2344 - val_rmspe_loss: 200980.2344\n",
            "Epoch 10/100\n",
            "20/20 [==============================] - 0s 19ms/step - loss: 133556.6042 - rmspe_loss: 133556.6042 - val_loss: 216504.2500 - val_rmspe_loss: 216504.2500\n",
            "Epoch 11/100\n",
            "20/20 [==============================] - 0s 19ms/step - loss: 135201.8776 - rmspe_loss: 135201.8776 - val_loss: 230579.5625 - val_rmspe_loss: 230579.5625\n",
            "Epoch 12/100\n",
            "20/20 [==============================] - 0s 19ms/step - loss: 109818.8791 - rmspe_loss: 109818.8791 - val_loss: 247356.0781 - val_rmspe_loss: 247356.0781\n",
            "Epoch 13/100\n",
            "20/20 [==============================] - 0s 19ms/step - loss: 115346.4993 - rmspe_loss: 115346.4993 - val_loss: 264459.2188 - val_rmspe_loss: 264459.2188\n",
            "Epoch 14/100\n",
            "20/20 [==============================] - 0s 19ms/step - loss: 102346.1624 - rmspe_loss: 102346.1624 - val_loss: 280049.4375 - val_rmspe_loss: 280049.4375\n",
            "Epoch 15/100\n",
            "20/20 [==============================] - 0s 18ms/step - loss: 101378.4528 - rmspe_loss: 101378.4528 - val_loss: 297996.0938 - val_rmspe_loss: 297996.0938\n",
            "Epoch 16/100\n",
            "20/20 [==============================] - 0s 20ms/step - loss: 93635.7727 - rmspe_loss: 93635.7727 - val_loss: 312715.5938 - val_rmspe_loss: 312715.5938\n",
            "Epoch 17/100\n",
            "20/20 [==============================] - 0s 21ms/step - loss: 103098.7453 - rmspe_loss: 103098.7453 - val_loss: 330059.1562 - val_rmspe_loss: 330059.1562\n",
            "Epoch 18/100\n",
            "20/20 [==============================] - 0s 21ms/step - loss: 93243.5134 - rmspe_loss: 93243.5134 - val_loss: 347431.5625 - val_rmspe_loss: 347431.5625\n",
            "Epoch 19/100\n",
            "20/20 [==============================] - 0s 21ms/step - loss: 96670.8612 - rmspe_loss: 96670.8612 - val_loss: 364543.9688 - val_rmspe_loss: 364543.9688\n",
            "Epoch 20/100\n",
            "20/20 [==============================] - 0s 21ms/step - loss: 91149.6386 - rmspe_loss: 91149.6386 - val_loss: 381681.5312 - val_rmspe_loss: 381681.5312\n",
            "Epoch 21/100\n",
            "20/20 [==============================] - 0s 21ms/step - loss: 94296.6734 - rmspe_loss: 94296.6734 - val_loss: 398973.8750 - val_rmspe_loss: 398973.8750\n",
            "Epoch 22/100\n",
            "20/20 [==============================] - 0s 21ms/step - loss: 85729.8278 - rmspe_loss: 85729.8278 - val_loss: 415872.8750 - val_rmspe_loss: 415872.8750\n",
            "Epoch 23/100\n",
            "20/20 [==============================] - 0s 20ms/step - loss: 92347.1306 - rmspe_loss: 92347.1306 - val_loss: 432945.7812 - val_rmspe_loss: 432945.7812\n",
            "Epoch 24/100\n",
            "20/20 [==============================] - 0s 19ms/step - loss: 80562.5417 - rmspe_loss: 80562.5417 - val_loss: 450552.6562 - val_rmspe_loss: 450552.6562\n",
            "Epoch 25/100\n",
            "20/20 [==============================] - 0s 19ms/step - loss: 87109.8086 - rmspe_loss: 87109.8086 - val_loss: 467625.1875 - val_rmspe_loss: 467625.1875\n",
            "Epoch 26/100\n",
            "20/20 [==============================] - 0s 20ms/step - loss: 77371.6951 - rmspe_loss: 77371.6951 - val_loss: 486143.4375 - val_rmspe_loss: 486143.4375\n",
            "Epoch 27/100\n",
            "20/20 [==============================] - 0s 19ms/step - loss: 84158.1004 - rmspe_loss: 84158.1004 - val_loss: 502997.3438 - val_rmspe_loss: 502997.3438\n",
            "Epoch 28/100\n",
            "20/20 [==============================] - 0s 20ms/step - loss: 76995.4786 - rmspe_loss: 76995.4786 - val_loss: 521213.2500 - val_rmspe_loss: 521213.2500\n",
            "Epoch 29/100\n",
            "20/20 [==============================] - 0s 19ms/step - loss: 85457.8618 - rmspe_loss: 85457.8618 - val_loss: 537815.6250 - val_rmspe_loss: 537815.6250\n",
            "Epoch 30/100\n",
            "20/20 [==============================] - 0s 19ms/step - loss: 76216.0069 - rmspe_loss: 76216.0069 - val_loss: 557045.6250 - val_rmspe_loss: 557045.6250\n",
            "Epoch 31/100\n",
            "20/20 [==============================] - 0s 19ms/step - loss: 84223.4727 - rmspe_loss: 84223.4727 - val_loss: 573571.1875 - val_rmspe_loss: 573571.1875\n",
            "Epoch 32/100\n",
            "20/20 [==============================] - 0s 20ms/step - loss: 78027.1297 - rmspe_loss: 78027.1297 - val_loss: 592347.9375 - val_rmspe_loss: 592347.9375\n",
            "Epoch 33/100\n",
            "20/20 [==============================] - 0s 21ms/step - loss: 86837.6280 - rmspe_loss: 86837.6280 - val_loss: 609285.9375 - val_rmspe_loss: 609285.9375\n",
            "Epoch 34/100\n",
            "20/20 [==============================] - 0s 21ms/step - loss: 77072.7054 - rmspe_loss: 77072.7054 - val_loss: 627512.0625 - val_rmspe_loss: 627512.0625\n",
            "Epoch 35/100\n",
            "20/20 [==============================] - 0s 21ms/step - loss: 81712.9003 - rmspe_loss: 81712.9003 - val_loss: 644550.6250 - val_rmspe_loss: 644550.6250\n",
            "Epoch 36/100\n",
            "20/20 [==============================] - 0s 21ms/step - loss: 72463.5943 - rmspe_loss: 72463.5943 - val_loss: 662955.0000 - val_rmspe_loss: 662955.0000\n",
            "Epoch 37/100\n",
            "20/20 [==============================] - 0s 21ms/step - loss: 77225.3888 - rmspe_loss: 77225.3888 - val_loss: 680784.6875 - val_rmspe_loss: 680784.6875\n",
            "Epoch 38/100\n",
            "20/20 [==============================] - 0s 21ms/step - loss: 69381.8506 - rmspe_loss: 69381.8506 - val_loss: 698939.7500 - val_rmspe_loss: 698939.7500\n",
            "Epoch 39/100\n",
            "20/20 [==============================] - 0s 20ms/step - loss: 75360.5938 - rmspe_loss: 75360.5938 - val_loss: 716320.3750 - val_rmspe_loss: 716320.3750\n",
            "Epoch 40/100\n",
            "20/20 [==============================] - 0s 19ms/step - loss: 69886.4448 - rmspe_loss: 69886.4448 - val_loss: 734536.3750 - val_rmspe_loss: 734536.3750\n",
            "Epoch 41/100\n",
            "20/20 [==============================] - 0s 20ms/step - loss: 74405.1220 - rmspe_loss: 74405.1220 - val_loss: 752168.2500 - val_rmspe_loss: 752168.2500\n",
            "Epoch 42/100\n",
            "20/20 [==============================] - 0s 19ms/step - loss: 69947.0876 - rmspe_loss: 69947.0876 - val_loss: 770312.3750 - val_rmspe_loss: 770312.3750\n",
            "Epoch 43/100\n",
            "20/20 [==============================] - 0s 20ms/step - loss: 74020.8648 - rmspe_loss: 74020.8648 - val_loss: 787870.1875 - val_rmspe_loss: 787870.1875\n",
            "Epoch 44/100\n",
            "20/20 [==============================] - 0s 20ms/step - loss: 70821.2839 - rmspe_loss: 70821.2839 - val_loss: 806256.6875 - val_rmspe_loss: 806256.6875\n",
            "Epoch 45/100\n",
            "20/20 [==============================] - 0s 20ms/step - loss: 75039.2359 - rmspe_loss: 75039.2359 - val_loss: 823815.6875 - val_rmspe_loss: 823815.6875\n",
            "Epoch 46/100\n",
            "20/20 [==============================] - 0s 19ms/step - loss: 72330.7011 - rmspe_loss: 72330.7011 - val_loss: 842110.5000 - val_rmspe_loss: 842110.5000\n",
            "Epoch 47/100\n",
            "20/20 [==============================] - 0s 19ms/step - loss: 75793.5467 - rmspe_loss: 75793.5467 - val_loss: 859749.3125 - val_rmspe_loss: 859749.3125\n",
            "Epoch 48/100\n",
            "20/20 [==============================] - 0s 20ms/step - loss: 74009.5893 - rmspe_loss: 74009.5893 - val_loss: 878295.2500 - val_rmspe_loss: 878295.2500\n",
            "Epoch 49/100\n",
            "20/20 [==============================] - 0s 19ms/step - loss: 75685.5766 - rmspe_loss: 75685.5766 - val_loss: 895343.6875 - val_rmspe_loss: 895343.6875\n",
            "Epoch 50/100\n",
            "20/20 [==============================] - 0s 20ms/step - loss: 71995.7037 - rmspe_loss: 71995.7037 - val_loss: 913873.3125 - val_rmspe_loss: 913873.3125\n",
            "Epoch 51/100\n",
            "20/20 [==============================] - 0s 19ms/step - loss: 72389.8343 - rmspe_loss: 72389.8343 - val_loss: 931351.4375 - val_rmspe_loss: 931351.4375\n",
            "Epoch 52/100\n",
            "20/20 [==============================] - 0s 19ms/step - loss: 69201.8475 - rmspe_loss: 69201.8475 - val_loss: 950171.1875 - val_rmspe_loss: 950171.1875\n",
            "Epoch 53/100\n",
            "20/20 [==============================] - 0s 20ms/step - loss: 69490.0685 - rmspe_loss: 69490.0685 - val_loss: 967518.5625 - val_rmspe_loss: 967518.5625\n",
            "Epoch 54/100\n",
            "20/20 [==============================] - 0s 19ms/step - loss: 67154.3532 - rmspe_loss: 67154.3532 - val_loss: 986350.0625 - val_rmspe_loss: 986350.0625\n",
            "Epoch 55/100\n",
            "20/20 [==============================] - 0s 21ms/step - loss: 68257.3250 - rmspe_loss: 68257.3250 - val_loss: 1004011.1875 - val_rmspe_loss: 1004011.1875\n",
            "Epoch 56/100\n",
            "20/20 [==============================] - 0s 19ms/step - loss: 67305.4115 - rmspe_loss: 67305.4115 - val_loss: 1022610.5625 - val_rmspe_loss: 1022610.5625\n",
            "Epoch 57/100\n",
            "20/20 [==============================] - 0s 19ms/step - loss: 66796.7076 - rmspe_loss: 66796.7076 - val_loss: 1040519.5625 - val_rmspe_loss: 1040519.5625\n",
            "Epoch 58/100\n",
            "20/20 [==============================] - 0s 19ms/step - loss: 66828.8839 - rmspe_loss: 66828.8839 - val_loss: 1059013.8750 - val_rmspe_loss: 1059013.8750\n",
            "Epoch 59/100\n",
            "20/20 [==============================] - 0s 19ms/step - loss: 66236.6747 - rmspe_loss: 66236.6747 - val_loss: 1077082.1250 - val_rmspe_loss: 1077082.1250\n",
            "Epoch 60/100\n",
            "20/20 [==============================] - 0s 20ms/step - loss: 66284.9306 - rmspe_loss: 66284.9306 - val_loss: 1095443.0000 - val_rmspe_loss: 1095443.0000\n",
            "Epoch 61/100\n",
            "20/20 [==============================] - 0s 20ms/step - loss: 65389.0106 - rmspe_loss: 65389.0106 - val_loss: 1113453.0000 - val_rmspe_loss: 1113453.0000\n",
            "Epoch 62/100\n",
            "20/20 [==============================] - 0s 19ms/step - loss: 66079.6382 - rmspe_loss: 66079.6382 - val_loss: 1131517.1250 - val_rmspe_loss: 1131517.1250\n",
            "Epoch 63/100\n",
            "20/20 [==============================] - 0s 20ms/step - loss: 65349.2641 - rmspe_loss: 65349.2641 - val_loss: 1149503.1250 - val_rmspe_loss: 1149503.1250\n",
            "Epoch 64/100\n",
            "20/20 [==============================] - 0s 20ms/step - loss: 66025.7416 - rmspe_loss: 66025.7416 - val_loss: 1167765.6250 - val_rmspe_loss: 1167765.6250\n",
            "Epoch 65/100\n",
            "20/20 [==============================] - 0s 20ms/step - loss: 65267.0143 - rmspe_loss: 65267.0143 - val_loss: 1185457.8750 - val_rmspe_loss: 1185457.8750\n",
            "Epoch 66/100\n",
            "20/20 [==============================] - 0s 19ms/step - loss: 65746.3666 - rmspe_loss: 65746.3666 - val_loss: 1204033.0000 - val_rmspe_loss: 1204033.0000\n",
            "Epoch 67/100\n",
            "20/20 [==============================] - 0s 19ms/step - loss: 66756.6728 - rmspe_loss: 66756.6728 - val_loss: 1222414.5000 - val_rmspe_loss: 1222414.5000\n",
            "Epoch 68/100\n",
            "20/20 [==============================] - 0s 20ms/step - loss: 69038.0670 - rmspe_loss: 69038.0670 - val_loss: 1240992.2500 - val_rmspe_loss: 1240992.2500\n",
            "Epoch 69/100\n",
            "20/20 [==============================] - 0s 20ms/step - loss: 70284.8013 - rmspe_loss: 70284.8013 - val_loss: 1258739.3750 - val_rmspe_loss: 1258739.3750\n",
            "Epoch 70/100\n",
            "20/20 [==============================] - 0s 20ms/step - loss: 68887.5510 - rmspe_loss: 68887.5510 - val_loss: 1277613.7500 - val_rmspe_loss: 1277613.7500\n",
            "Epoch 71/100\n",
            "20/20 [==============================] - 0s 20ms/step - loss: 67903.4939 - rmspe_loss: 67903.4939 - val_loss: 1294832.5000 - val_rmspe_loss: 1294832.5000\n",
            "Epoch 72/100\n",
            "20/20 [==============================] - 0s 18ms/step - loss: 65988.6970 - rmspe_loss: 65988.6970 - val_loss: 1313766.6250 - val_rmspe_loss: 1313766.6250\n",
            "Epoch 73/100\n",
            "20/20 [==============================] - 0s 20ms/step - loss: 65933.0660 - rmspe_loss: 65933.0660 - val_loss: 1331348.3750 - val_rmspe_loss: 1331348.3750\n",
            "Epoch 74/100\n",
            "20/20 [==============================] - 0s 19ms/step - loss: 64786.2433 - rmspe_loss: 64786.2433 - val_loss: 1350038.6250 - val_rmspe_loss: 1350038.6250\n",
            "Epoch 75/100\n",
            "20/20 [==============================] - 0s 20ms/step - loss: 64867.9468 - rmspe_loss: 64867.9468 - val_loss: 1367724.0000 - val_rmspe_loss: 1367724.0000\n",
            "Epoch 76/100\n",
            "20/20 [==============================] - 0s 20ms/step - loss: 63959.7600 - rmspe_loss: 63959.7600 - val_loss: 1386376.5000 - val_rmspe_loss: 1386376.5000\n",
            "Epoch 77/100\n",
            "20/20 [==============================] - 0s 20ms/step - loss: 64103.9241 - rmspe_loss: 64103.9241 - val_loss: 1404022.5000 - val_rmspe_loss: 1404022.5000\n",
            "Epoch 78/100\n",
            "20/20 [==============================] - 0s 19ms/step - loss: 64114.2113 - rmspe_loss: 64114.2113 - val_loss: 1422551.3750 - val_rmspe_loss: 1422551.3750\n",
            "Epoch 79/100\n",
            "20/20 [==============================] - 0s 19ms/step - loss: 64881.4081 - rmspe_loss: 64881.4081 - val_loss: 1440581.2500 - val_rmspe_loss: 1440581.2500\n",
            "Epoch 80/100\n",
            "20/20 [==============================] - 0s 21ms/step - loss: 64089.9527 - rmspe_loss: 64089.9527 - val_loss: 1459249.3750 - val_rmspe_loss: 1459249.3750\n",
            "Epoch 81/100\n",
            "20/20 [==============================] - 0s 20ms/step - loss: 64344.3720 - rmspe_loss: 64344.3720 - val_loss: 1477140.7500 - val_rmspe_loss: 1477140.7500\n",
            "Epoch 82/100\n",
            "20/20 [==============================] - 0s 20ms/step - loss: 63423.1798 - rmspe_loss: 63423.1798 - val_loss: 1496198.5000 - val_rmspe_loss: 1496198.5000\n",
            "Epoch 83/100\n",
            "20/20 [==============================] - 0s 20ms/step - loss: 64225.7435 - rmspe_loss: 64225.7435 - val_loss: 1513672.5000 - val_rmspe_loss: 1513672.5000\n",
            "Epoch 84/100\n",
            "20/20 [==============================] - 0s 20ms/step - loss: 63936.8201 - rmspe_loss: 63936.8201 - val_loss: 1532862.0000 - val_rmspe_loss: 1532862.0000\n",
            "Epoch 85/100\n",
            "20/20 [==============================] - 0s 20ms/step - loss: 64381.1819 - rmspe_loss: 64381.1819 - val_loss: 1550139.5000 - val_rmspe_loss: 1550139.5000\n",
            "Epoch 86/100\n",
            "20/20 [==============================] - 0s 21ms/step - loss: 63749.8755 - rmspe_loss: 63749.8755 - val_loss: 1569366.1250 - val_rmspe_loss: 1569366.1250\n",
            "Epoch 87/100\n",
            "20/20 [==============================] - 0s 20ms/step - loss: 64430.8531 - rmspe_loss: 64430.8531 - val_loss: 1586813.0000 - val_rmspe_loss: 1586813.0000\n",
            "Epoch 88/100\n",
            "20/20 [==============================] - 0s 21ms/step - loss: 63245.5624 - rmspe_loss: 63245.5624 - val_loss: 1606052.5000 - val_rmspe_loss: 1606052.5000\n",
            "Epoch 89/100\n",
            "20/20 [==============================] - 0s 20ms/step - loss: 64175.7999 - rmspe_loss: 64175.7999 - val_loss: 1623593.0000 - val_rmspe_loss: 1623593.0000\n",
            "Epoch 90/100\n",
            "20/20 [==============================] - 0s 21ms/step - loss: 63809.3625 - rmspe_loss: 63809.3625 - val_loss: 1642776.2500 - val_rmspe_loss: 1642776.2500\n",
            "Epoch 91/100\n",
            "20/20 [==============================] - 0s 19ms/step - loss: 66110.6200 - rmspe_loss: 66110.6200 - val_loss: 1660228.5000 - val_rmspe_loss: 1660228.5000\n",
            "Epoch 92/100\n",
            "20/20 [==============================] - 0s 19ms/step - loss: 66818.2370 - rmspe_loss: 66818.2370 - val_loss: 1679109.5000 - val_rmspe_loss: 1679109.5000\n",
            "Epoch 93/100\n",
            "20/20 [==============================] - 0s 20ms/step - loss: 67312.5113 - rmspe_loss: 67312.5113 - val_loss: 1696744.1250 - val_rmspe_loss: 1696744.1250\n",
            "Epoch 94/100\n",
            "20/20 [==============================] - 0s 21ms/step - loss: 66073.1642 - rmspe_loss: 66073.1642 - val_loss: 1715645.5000 - val_rmspe_loss: 1715645.5000\n",
            "Epoch 95/100\n",
            "20/20 [==============================] - 0s 21ms/step - loss: 65787.6172 - rmspe_loss: 65787.6172 - val_loss: 1733253.7500 - val_rmspe_loss: 1733253.7500\n",
            "Epoch 96/100\n",
            "20/20 [==============================] - 0s 19ms/step - loss: 64610.8756 - rmspe_loss: 64610.8756 - val_loss: 1752125.1250 - val_rmspe_loss: 1752125.1250\n",
            "Epoch 97/100\n",
            "20/20 [==============================] - 0s 21ms/step - loss: 64427.3553 - rmspe_loss: 64427.3553 - val_loss: 1769762.2500 - val_rmspe_loss: 1769762.2500\n",
            "Epoch 98/100\n",
            "20/20 [==============================] - 0s 20ms/step - loss: 63414.5491 - rmspe_loss: 63414.5491 - val_loss: 1788646.7500 - val_rmspe_loss: 1788646.7500\n",
            "Epoch 99/100\n",
            "20/20 [==============================] - 0s 20ms/step - loss: 63338.2792 - rmspe_loss: 63338.2792 - val_loss: 1806429.0000 - val_rmspe_loss: 1806429.0000\n",
            "Epoch 100/100\n",
            "20/20 [==============================] - 0s 20ms/step - loss: 62620.1208 - rmspe_loss: 62620.1208 - val_loss: 1824941.2500 - val_rmspe_loss: 1824941.2500\n"
          ],
          "name": "stdout"
        }
      ]
    },
    {
      "cell_type": "code",
      "metadata": {
        "colab": {
          "base_uri": "https://localhost:8080/"
        },
        "id": "LrK9zqxnf81j",
        "outputId": "ffd1b24b-84c0-40a7-fb26-6b34e900024d"
      },
      "source": [
        "model.summary()"
      ],
      "execution_count": null,
      "outputs": [
        {
          "output_type": "stream",
          "text": [
            "Model: \"model_1\"\n",
            "__________________________________________________________________________________________________\n",
            "Layer (type)                    Output Shape         Param #     Connected to                     \n",
            "==================================================================================================\n",
            "dayofmonth (InputLayer)         [(None, 1)]          0                                            \n",
            "__________________________________________________________________________________________________\n",
            "dayofweek (InputLayer)          [(None, 1)]          0                                            \n",
            "__________________________________________________________________________________________________\n",
            "dayofyear (InputLayer)          [(None, 1)]          0                                            \n",
            "__________________________________________________________________________________________________\n",
            "elapsed_promo_backwd (InputLaye [(None, 1)]          0                                            \n",
            "__________________________________________________________________________________________________\n",
            "elapsed_promo_fwd (InputLayer)  [(None, 1)]          0                                            \n",
            "__________________________________________________________________________________________________\n",
            "elapsed_schoolholiday_backwd (I [(None, 1)]          0                                            \n",
            "__________________________________________________________________________________________________\n",
            "elapsed_schoolholiday_fwd (Inpu [(None, 1)]          0                                            \n",
            "__________________________________________________________________________________________________\n",
            "monthofyear (InputLayer)        [(None, 1)]          0                                            \n",
            "__________________________________________________________________________________________________\n",
            "open (InputLayer)               [(None, 1)]          0                                            \n",
            "__________________________________________________________________________________________________\n",
            "promo (InputLayer)              [(None, 1)]          0                                            \n",
            "__________________________________________________________________________________________________\n",
            "schoolholiday (InputLayer)      [(None, 1)]          0                                            \n",
            "__________________________________________________________________________________________________\n",
            "weekofyear (InputLayer)         [(None, 1)]          0                                            \n",
            "__________________________________________________________________________________________________\n",
            "dense_features_1 (DenseFeatures (None, 73)           3644        dayofmonth[0][0]                 \n",
            "                                                                 dayofweek[0][0]                  \n",
            "                                                                 dayofyear[0][0]                  \n",
            "                                                                 elapsed_promo_backwd[0][0]       \n",
            "                                                                 elapsed_promo_fwd[0][0]          \n",
            "                                                                 elapsed_schoolholiday_backwd[0][0\n",
            "                                                                 elapsed_schoolholiday_fwd[0][0]  \n",
            "                                                                 monthofyear[0][0]                \n",
            "                                                                 open[0][0]                       \n",
            "                                                                 promo[0][0]                      \n",
            "                                                                 schoolholiday[0][0]              \n",
            "                                                                 weekofyear[0][0]                 \n",
            "__________________________________________________________________________________________________\n",
            "dense_3 (Dense)                 (None, 512)          37888       dense_features_1[0][0]           \n",
            "__________________________________________________________________________________________________\n",
            "dense_4 (Dense)                 (None, 512)          262656      dense_3[0][0]                    \n",
            "__________________________________________________________________________________________________\n",
            "dense_5 (Dense)                 (None, 1115)         571995      dense_4[0][0]                    \n",
            "==================================================================================================\n",
            "Total params: 876,183\n",
            "Trainable params: 876,183\n",
            "Non-trainable params: 0\n",
            "__________________________________________________________________________________________________\n"
          ],
          "name": "stdout"
        }
      ]
    },
    {
      "cell_type": "code",
      "metadata": {
        "colab": {
          "base_uri": "https://localhost:8080/",
          "height": 329
        },
        "id": "GDRE_bMidNX6",
        "outputId": "44b110aa-61ad-40e8-949d-1a72d8e8f0a5"
      },
      "source": [
        "\n",
        "plt.plot(hist.history['loss'], label='train')\n",
        "plt.plot(hist.history['val_loss'], label='val')\n",
        "plt.legend()\n",
        "plt.show()\n",
        "\n",
        "preds = model.predict(valset)\n",
        "#preds = y_ss.inverse_transform(preds)\n",
        "\n",
        "\n",
        "print(rmspcte(yval, preds))\n",
        "\n",
        "sns.histplot(preds, color='orange')\n",
        "sns.histplot(yval)\n",
        "plt.show()"
      ],
      "execution_count": null,
      "outputs": [
        {
          "output_type": "display_data",
          "data": {
            "image/png": "[encoded data removed]",
            "text/plain": [
              "<Figure size 432x288 with 1 Axes>"
            ]
          },
          "metadata": {
            "tags": [],
            "needs_background": "light"
          }
        },
        {
          "output_type": "stream",
          "text": [
            "WARNING:tensorflow:5 out of the last 1288 calls to <function Model.make_predict_function.<locals>.predict_function at 0x7fc782281440> triggered tf.function retracing. Tracing is expensive and the excessive number of tracings could be due to (1) creating @tf.function repeatedly in a loop, (2) passing tensors with different shapes, (3) passing Python objects instead of tensors. For (1), please define your @tf.function outside of the loop. For (2), @tf.function has experimental_relax_shapes=True option that relaxes argument shapes that can avoid unnecessary retracing. For (3), please refer to https://www.tensorflow.org/guide/function#controlling_retracing and https://www.tensorflow.org/api_docs/python/tf/function for  more details.\n",
            "0.9999791242257773\n"
          ],
          "name": "stdout"
        }
      ]
    },
    {
      "cell_type": "code",
      "metadata": {
        "colab": {
          "base_uri": "https://localhost:8080/",
          "height": 248
        },
        "id": "Y43cJgiVTRs_",
        "outputId": "29f6dbb7-f143-488d-a5fc-a71e965dee9f"
      },
      "source": [
        "# TEST SUBMISSION MULTI-DIM\n",
        "\n",
        "test_raw = pd.read_csv(root_path + \"data/test.csv\").drop('Id', axis=1).reset_index(drop=True)\n",
        "test = fix_df(test_raw.copy())\n",
        "test = test.groupby('date').mean().drop(['store'], axis=1).reset_index()\n",
        "test = feature_engineering.split_date(test).drop('date', axis=1)\n",
        "\n",
        "xtest_nn = test.copy()\n",
        "xtest_nn_num = xtest_nn.loc[:, ~xtest_nn.columns.isin(embedding_fts)].values.astype(np.float64)\n",
        "xtest_nn_emb = xtest_nn.loc[:, embedding_fts].values\n",
        "test_in = np.split(xtest_nn_emb, xtest_nn_emb.shape[-1], axis=1) + [xtest_nn_num]\n",
        "\n",
        "preds = y_ss.inverse_transform(model.predict(test_in))\n",
        "\n",
        "preds_df = pd.melt(pd.DataFrame(preds, index=test_raw.Date.unique()), var_name='Store', value_name='Sales', ignore_index=False).reset_index().rename({'index': 'Date'}, axis=1)\n",
        "preds_df['Store'] += 1\n",
        "\n",
        "output = pd.merge(test_raw, preds_df, on=['Date', 'Store'], how='left')\n",
        "output = output.set_index(output.index+1)\n",
        "output['Sales'].to_csv(root_path + \"data/multivariate_nn_out.csv\", index_label='Id')\n"
      ],
      "execution_count": null,
      "outputs": [
        {
          "output_type": "error",
          "ename": "NameError",
          "evalue": "ignored",
          "traceback": [
            "\u001b[0;31m---------------------------------------------------------------------------\u001b[0m",
            "\u001b[0;31mNameError\u001b[0m                                 Traceback (most recent call last)",
            "\u001b[0;32m<ipython-input-183-8c45f3b96290>\u001b[0m in \u001b[0;36m<module>\u001b[0;34m()\u001b[0m\n\u001b[1;32m     11\u001b[0m \u001b[0mtest_in\u001b[0m \u001b[0;34m=\u001b[0m \u001b[0mnp\u001b[0m\u001b[0;34m.\u001b[0m\u001b[0msplit\u001b[0m\u001b[0;34m(\u001b[0m\u001b[0mxtest_nn_emb\u001b[0m\u001b[0;34m,\u001b[0m \u001b[0mxtest_nn_emb\u001b[0m\u001b[0;34m.\u001b[0m\u001b[0mshape\u001b[0m\u001b[0;34m[\u001b[0m\u001b[0;34m-\u001b[0m\u001b[0;36m1\u001b[0m\u001b[0;34m]\u001b[0m\u001b[0;34m,\u001b[0m \u001b[0maxis\u001b[0m\u001b[0;34m=\u001b[0m\u001b[0;36m1\u001b[0m\u001b[0;34m)\u001b[0m \u001b[0;34m+\u001b[0m \u001b[0;34m[\u001b[0m\u001b[0mxtest_nn_num\u001b[0m\u001b[0;34m]\u001b[0m\u001b[0;34m\u001b[0m\u001b[0;34m\u001b[0m\u001b[0m\n\u001b[1;32m     12\u001b[0m \u001b[0;34m\u001b[0m\u001b[0m\n\u001b[0;32m---> 13\u001b[0;31m \u001b[0mpreds\u001b[0m \u001b[0;34m=\u001b[0m \u001b[0my_ss\u001b[0m\u001b[0;34m.\u001b[0m\u001b[0minverse_transform\u001b[0m\u001b[0;34m(\u001b[0m\u001b[0mmodel\u001b[0m\u001b[0;34m.\u001b[0m\u001b[0mpredict\u001b[0m\u001b[0;34m(\u001b[0m\u001b[0mtest_in\u001b[0m\u001b[0;34m)\u001b[0m\u001b[0;34m)\u001b[0m\u001b[0;34m\u001b[0m\u001b[0;34m\u001b[0m\u001b[0m\n\u001b[0m\u001b[1;32m     14\u001b[0m \u001b[0;34m\u001b[0m\u001b[0m\n\u001b[1;32m     15\u001b[0m \u001b[0mpreds_df\u001b[0m \u001b[0;34m=\u001b[0m \u001b[0mpd\u001b[0m\u001b[0;34m.\u001b[0m\u001b[0mmelt\u001b[0m\u001b[0;34m(\u001b[0m\u001b[0mpd\u001b[0m\u001b[0;34m.\u001b[0m\u001b[0mDataFrame\u001b[0m\u001b[0;34m(\u001b[0m\u001b[0mpreds\u001b[0m\u001b[0;34m,\u001b[0m \u001b[0mindex\u001b[0m\u001b[0;34m=\u001b[0m\u001b[0mtest_raw\u001b[0m\u001b[0;34m.\u001b[0m\u001b[0mDate\u001b[0m\u001b[0;34m.\u001b[0m\u001b[0munique\u001b[0m\u001b[0;34m(\u001b[0m\u001b[0;34m)\u001b[0m\u001b[0;34m)\u001b[0m\u001b[0;34m,\u001b[0m \u001b[0mvar_name\u001b[0m\u001b[0;34m=\u001b[0m\u001b[0;34m'Store'\u001b[0m\u001b[0;34m,\u001b[0m \u001b[0mvalue_name\u001b[0m\u001b[0;34m=\u001b[0m\u001b[0;34m'Sales'\u001b[0m\u001b[0;34m,\u001b[0m \u001b[0mignore_index\u001b[0m\u001b[0;34m=\u001b[0m\u001b[0;32mFalse\u001b[0m\u001b[0;34m)\u001b[0m\u001b[0;34m.\u001b[0m\u001b[0mreset_index\u001b[0m\u001b[0;34m(\u001b[0m\u001b[0;34m)\u001b[0m\u001b[0;34m.\u001b[0m\u001b[0mrename\u001b[0m\u001b[0;34m(\u001b[0m\u001b[0;34m{\u001b[0m\u001b[0;34m'index'\u001b[0m\u001b[0;34m:\u001b[0m \u001b[0;34m'Date'\u001b[0m\u001b[0;34m}\u001b[0m\u001b[0;34m,\u001b[0m \u001b[0maxis\u001b[0m\u001b[0;34m=\u001b[0m\u001b[0;36m1\u001b[0m\u001b[0;34m)\u001b[0m\u001b[0;34m\u001b[0m\u001b[0;34m\u001b[0m\u001b[0m\n",
            "\u001b[0;31mNameError\u001b[0m: name 'y_ss' is not defined"
          ]
        }
      ]
    },
    {
      "cell_type": "markdown",
      "metadata": {
        "id": "-3i9r9ScSLiY"
      },
      "source": [
        "# Catboost"
      ]
    },
    {
      "cell_type": "code",
      "metadata": {
        "colab": {
          "base_uri": "https://localhost:8080/"
        },
        "id": "6Pg8xzJ9TAIx",
        "outputId": "ccb89269-5df5-431c-db2c-828d929d7f80"
      },
      "source": [
        "!pip install catboost"
      ],
      "execution_count": null,
      "outputs": [
        {
          "output_type": "stream",
          "text": [
            "Collecting catboost\n",
            "\u001b[?25l  Downloading https://files.pythonhosted.org/packages/96/3b/bb419654adcf7efff42ed8a3f84e50c8f236424b7ed1cc8ccd290852e003/catboost-0.24.4-cp37-none-manylinux1_x86_64.whl (65.7MB)\n",
            "\u001b[K     |████████████████████████████████| 65.7MB 44kB/s \n",
            "\u001b[?25hRequirement already satisfied: pandas>=0.24.0 in /usr/local/lib/python3.7/dist-packages (from catboost) (1.1.5)\n",
            "Requirement already satisfied: numpy>=1.16.0 in /usr/local/lib/python3.7/dist-packages (from catboost) (1.19.5)\n",
            "Requirement already satisfied: plotly in /usr/local/lib/python3.7/dist-packages (from catboost) (4.4.1)\n",
            "Requirement already satisfied: six in /usr/local/lib/python3.7/dist-packages (from catboost) (1.15.0)\n",
            "Requirement already satisfied: scipy in /usr/local/lib/python3.7/dist-packages (from catboost) (1.4.1)\n",
            "Requirement already satisfied: matplotlib in /usr/local/lib/python3.7/dist-packages (from catboost) (3.2.2)\n",
            "Requirement already satisfied: graphviz in /usr/local/lib/python3.7/dist-packages (from catboost) (0.10.1)\n",
            "Requirement already satisfied: python-dateutil>=2.7.3 in /usr/local/lib/python3.7/dist-packages (from pandas>=0.24.0->catboost) (2.8.1)\n",
            "Requirement already satisfied: pytz>=2017.2 in /usr/local/lib/python3.7/dist-packages (from pandas>=0.24.0->catboost) (2018.9)\n",
            "Requirement already satisfied: retrying>=1.3.3 in /usr/local/lib/python3.7/dist-packages (from plotly->catboost) (1.3.3)\n",
            "Requirement already satisfied: pyparsing!=2.0.4,!=2.1.2,!=2.1.6,>=2.0.1 in /usr/local/lib/python3.7/dist-packages (from matplotlib->catboost) (2.4.7)\n",
            "Requirement already satisfied: kiwisolver>=1.0.1 in /usr/local/lib/python3.7/dist-packages (from matplotlib->catboost) (1.3.1)\n",
            "Requirement already satisfied: cycler>=0.10 in /usr/local/lib/python3.7/dist-packages (from matplotlib->catboost) (0.10.0)\n",
            "Installing collected packages: catboost\n",
            "Successfully installed catboost-0.24.4\n"
          ],
          "name": "stdout"
        }
      ]
    },
    {
      "cell_type": "code",
      "metadata": {
        "id": "TMddSnJwcPkB",
        "colab": {
          "base_uri": "https://localhost:8080/"
        },
        "outputId": "e2a5558d-a826-4e19-f7c6-2e8e640622f4"
      },
      "source": [
        "from catboost import CatBoostRegressor\n",
        "cbr = CatBoostRegressor(iterations=250, verbose=5, loss_function='MAPE', task_type='CPU', one_hot_max_size=3, leaf_estimation_method=\"Exact\")\n",
        "cbr.fit(xtrain, ytrain.values, eval_set=(xval, yval.values), cat_features=\"store dayofweek dayofyear stateholiday monthofyear dayofmonth storetype assortment promointerval weekofyear\".split())\n",
        "\n"
      ],
      "execution_count": null,
      "outputs": [
        {
          "output_type": "stream",
          "text": [
            "0:\tlearn: 0.3286581\ttest: 0.3196203\tbest: 0.3196203 (0)\ttotal: 1.52s\tremaining: 6m 18s\n",
            "5:\tlearn: 0.3181133\ttest: 0.3099170\tbest: 0.3099170 (5)\ttotal: 7.98s\tremaining: 5m 24s\n",
            "10:\tlearn: 0.3107282\ttest: 0.3029499\tbest: 0.3029499 (10)\ttotal: 14.2s\tremaining: 5m 9s\n",
            "15:\tlearn: 0.3059223\ttest: 0.2984309\tbest: 0.2984309 (15)\ttotal: 20.3s\tremaining: 4m 57s\n",
            "20:\tlearn: 0.3018761\ttest: 0.2946084\tbest: 0.2946084 (20)\ttotal: 26.9s\tremaining: 4m 52s\n",
            "25:\tlearn: 0.2988300\ttest: 0.2918884\tbest: 0.2918884 (25)\ttotal: 33s\tremaining: 4m 44s\n",
            "30:\tlearn: 0.2968526\ttest: 0.2900956\tbest: 0.2900956 (30)\ttotal: 39.4s\tremaining: 4m 37s\n",
            "35:\tlearn: 0.2949254\ttest: 0.2883299\tbest: 0.2883299 (35)\ttotal: 45.5s\tremaining: 4m 30s\n",
            "40:\tlearn: 0.2933070\ttest: 0.2868211\tbest: 0.2868211 (40)\ttotal: 51.3s\tremaining: 4m 21s\n",
            "45:\tlearn: 0.2921607\ttest: 0.2857181\tbest: 0.2857181 (45)\ttotal: 57.2s\tremaining: 4m 13s\n",
            "50:\tlearn: 0.2914429\ttest: 0.2850235\tbest: 0.2850235 (50)\ttotal: 1m 3s\tremaining: 4m 6s\n",
            "55:\tlearn: 0.2906696\ttest: 0.2843370\tbest: 0.2843370 (55)\ttotal: 1m 9s\tremaining: 4m\n",
            "60:\tlearn: 0.2899272\ttest: 0.2836548\tbest: 0.2836548 (60)\ttotal: 1m 15s\tremaining: 3m 53s\n",
            "65:\tlearn: 0.2893350\ttest: 0.2831789\tbest: 0.2831789 (65)\ttotal: 1m 21s\tremaining: 3m 47s\n",
            "70:\tlearn: 0.2886806\ttest: 0.2825507\tbest: 0.2825507 (70)\ttotal: 1m 27s\tremaining: 3m 41s\n",
            "75:\tlearn: 0.2881872\ttest: 0.2821085\tbest: 0.2821085 (75)\ttotal: 1m 34s\tremaining: 3m 36s\n",
            "80:\tlearn: 0.2875972\ttest: 0.2815765\tbest: 0.2815765 (80)\ttotal: 1m 40s\tremaining: 3m 30s\n",
            "85:\tlearn: 0.2871734\ttest: 0.2811684\tbest: 0.2811684 (85)\ttotal: 1m 46s\tremaining: 3m 23s\n",
            "90:\tlearn: 0.2868027\ttest: 0.2808114\tbest: 0.2808114 (90)\ttotal: 1m 52s\tremaining: 3m 17s\n",
            "95:\tlearn: 0.2863712\ttest: 0.2803878\tbest: 0.2803878 (95)\ttotal: 1m 58s\tremaining: 3m 10s\n",
            "100:\tlearn: 0.2859775\ttest: 0.2800129\tbest: 0.2800129 (100)\ttotal: 2m 5s\tremaining: 3m 4s\n",
            "105:\tlearn: 0.2855235\ttest: 0.2795683\tbest: 0.2795683 (105)\ttotal: 2m 11s\tremaining: 2m 58s\n",
            "110:\tlearn: 0.2850647\ttest: 0.2791562\tbest: 0.2791562 (110)\ttotal: 2m 17s\tremaining: 2m 52s\n",
            "115:\tlearn: 0.2846576\ttest: 0.2787673\tbest: 0.2787673 (115)\ttotal: 2m 23s\tremaining: 2m 46s\n",
            "120:\tlearn: 0.2842729\ttest: 0.2784074\tbest: 0.2784074 (120)\ttotal: 2m 30s\tremaining: 2m 39s\n",
            "125:\tlearn: 0.2839428\ttest: 0.2780993\tbest: 0.2780993 (125)\ttotal: 2m 36s\tremaining: 2m 33s\n",
            "130:\tlearn: 0.2836960\ttest: 0.2778631\tbest: 0.2778631 (130)\ttotal: 2m 42s\tremaining: 2m 27s\n",
            "135:\tlearn: 0.2833973\ttest: 0.2775787\tbest: 0.2775787 (135)\ttotal: 2m 48s\tremaining: 2m 21s\n",
            "140:\tlearn: 0.2830812\ttest: 0.2772844\tbest: 0.2772844 (140)\ttotal: 2m 54s\tremaining: 2m 15s\n",
            "145:\tlearn: 0.2828297\ttest: 0.2770512\tbest: 0.2770512 (145)\ttotal: 3m 1s\tremaining: 2m 8s\n",
            "150:\tlearn: 0.2824603\ttest: 0.2767403\tbest: 0.2767403 (150)\ttotal: 3m 7s\tremaining: 2m 2s\n",
            "155:\tlearn: 0.2821871\ttest: 0.2764782\tbest: 0.2764782 (155)\ttotal: 3m 13s\tremaining: 1m 56s\n",
            "160:\tlearn: 0.2819830\ttest: 0.2762977\tbest: 0.2762977 (160)\ttotal: 3m 20s\tremaining: 1m 50s\n",
            "165:\tlearn: 0.2817852\ttest: 0.2761223\tbest: 0.2761223 (165)\ttotal: 3m 26s\tremaining: 1m 44s\n",
            "170:\tlearn: 0.2816037\ttest: 0.2759460\tbest: 0.2759460 (170)\ttotal: 3m 32s\tremaining: 1m 37s\n",
            "175:\tlearn: 0.2814070\ttest: 0.2757487\tbest: 0.2757487 (175)\ttotal: 3m 38s\tremaining: 1m 31s\n",
            "180:\tlearn: 0.2812046\ttest: 0.2755564\tbest: 0.2755564 (180)\ttotal: 3m 44s\tremaining: 1m 25s\n",
            "185:\tlearn: 0.2810430\ttest: 0.2754023\tbest: 0.2754023 (185)\ttotal: 3m 50s\tremaining: 1m 19s\n",
            "190:\tlearn: 0.2808908\ttest: 0.2752582\tbest: 0.2752582 (190)\ttotal: 3m 56s\tremaining: 1m 13s\n",
            "195:\tlearn: 0.2807473\ttest: 0.2751280\tbest: 0.2751280 (195)\ttotal: 4m 3s\tremaining: 1m 6s\n",
            "200:\tlearn: 0.2806208\ttest: 0.2750133\tbest: 0.2750133 (200)\ttotal: 4m 8s\tremaining: 1m\n",
            "205:\tlearn: 0.2804393\ttest: 0.2748737\tbest: 0.2748737 (205)\ttotal: 4m 15s\tremaining: 54.5s\n",
            "210:\tlearn: 0.2802578\ttest: 0.2747177\tbest: 0.2747177 (210)\ttotal: 4m 21s\tremaining: 48.3s\n",
            "215:\tlearn: 0.2801147\ttest: 0.2745844\tbest: 0.2745844 (215)\ttotal: 4m 27s\tremaining: 42.1s\n",
            "220:\tlearn: 0.2799646\ttest: 0.2744497\tbest: 0.2744497 (220)\ttotal: 4m 33s\tremaining: 35.9s\n",
            "225:\tlearn: 0.2798345\ttest: 0.2743275\tbest: 0.2743275 (225)\ttotal: 4m 39s\tremaining: 29.7s\n",
            "230:\tlearn: 0.2797074\ttest: 0.2742066\tbest: 0.2742066 (230)\ttotal: 4m 45s\tremaining: 23.5s\n",
            "235:\tlearn: 0.2795586\ttest: 0.2740879\tbest: 0.2740879 (235)\ttotal: 4m 51s\tremaining: 17.3s\n",
            "240:\tlearn: 0.2794180\ttest: 0.2739880\tbest: 0.2739880 (240)\ttotal: 4m 57s\tremaining: 11.1s\n",
            "245:\tlearn: 0.2792629\ttest: 0.2738525\tbest: 0.2738525 (245)\ttotal: 5m 4s\tremaining: 4.95s\n",
            "249:\tlearn: 0.2791362\ttest: 0.2737301\tbest: 0.2737301 (249)\ttotal: 5m 9s\tremaining: 0us\n",
            "\n",
            "bestTest = 0.2737300788\n",
            "bestIteration = 249\n",
            "\n"
          ],
          "name": "stdout"
        },
        {
          "output_type": "execute_result",
          "data": {
            "text/plain": [
              "<catboost.core.CatBoostRegressor at 0x7efe3fba5150>"
            ]
          },
          "metadata": {
            "tags": []
          },
          "execution_count": 26
        }
      ]
    },
    {
      "cell_type": "code",
      "metadata": {
        "colab": {
          "base_uri": "https://localhost:8080/",
          "height": 316
        },
        "id": "8SEUljBYVAKb",
        "outputId": "31e370e8-3e18-4b19-a87b-acf554f169a1"
      },
      "source": [
        "from RossmannSalesPrediction.helpers.evaluation import rmspcte\n",
        "import seaborn as sns\n",
        "preds = cbr.predict(xval)\n",
        "print(rmspcte(yval, preds))\n",
        "\n",
        "sns.histplot(preds, color='orange')\n",
        "sns.histplot(yval)\n",
        "plt.show()\n"
      ],
      "execution_count": null,
      "outputs": [
        {
          "output_type": "stream",
          "text": [
            "0.37516593770019857\n"
          ],
          "name": "stdout"
        },
        {
          "output_type": "display_data",
          "data": {
            "image/png": "[encoded data removed]",
            "text/plain": [
              "<Figure size 432x288 with 1 Axes>"
            ]
          },
          "metadata": {
            "tags": [],
            "needs_background": "light"
          }
        }
      ]
    },
    {
      "cell_type": "code",
      "metadata": {
        "colab": {
          "base_uri": "https://localhost:8080/",
          "height": 433
        },
        "id": "wY6sSrurS-MD",
        "outputId": "06f00450-aa4c-494b-9963-e01f88bd3e24"
      },
      "source": [
        "xtrain"
      ],
      "execution_count": null,
      "outputs": [
        {
          "output_type": "execute_result",
          "data": {
            "text/html": [
              "<div>\n",
              "<style scoped>\n",
              "    .dataframe tbody tr th:only-of-type {\n",
              "        vertical-align: middle;\n",
              "    }\n",
              "\n",
              "    .dataframe tbody tr th {\n",
              "        vertical-align: top;\n",
              "    }\n",
              "\n",
              "    .dataframe thead th {\n",
              "        text-align: right;\n",
              "    }\n",
              "</style>\n",
              "<table border=\"1\" class=\"dataframe\">\n",
              "  <thead>\n",
              "    <tr style=\"text-align: right;\">\n",
              "      <th></th>\n",
              "      <th>store</th>\n",
              "      <th>dayofweek</th>\n",
              "      <th>promo</th>\n",
              "      <th>stateholiday</th>\n",
              "      <th>schoolholiday</th>\n",
              "      <th>elapsed_promo_fwd</th>\n",
              "      <th>elapsed_promo_backwd</th>\n",
              "      <th>elapsed_schoolholiday_fwd</th>\n",
              "      <th>elapsed_schoolholiday_backwd</th>\n",
              "      <th>monthofyear</th>\n",
              "      <th>dayofmonth</th>\n",
              "      <th>dayofyear</th>\n",
              "      <th>weekofyear</th>\n",
              "      <th>avg_store_customers</th>\n",
              "      <th>avg_store_sales</th>\n",
              "      <th>storetype</th>\n",
              "      <th>assortment</th>\n",
              "      <th>competitiondistance</th>\n",
              "      <th>promo2</th>\n",
              "      <th>promointerval</th>\n",
              "      <th>competitionopen</th>\n",
              "    </tr>\n",
              "  </thead>\n",
              "  <tbody>\n",
              "    <tr>\n",
              "      <th>0</th>\n",
              "      <td>1</td>\n",
              "      <td>5</td>\n",
              "      <td>0</td>\n",
              "      <td>no</td>\n",
              "      <td>0</td>\n",
              "      <td>-3</td>\n",
              "      <td>7</td>\n",
              "      <td>-10</td>\n",
              "      <td>14</td>\n",
              "      <td>1</td>\n",
              "      <td>23</td>\n",
              "      <td>23</td>\n",
              "      <td>4</td>\n",
              "      <td>475.488712</td>\n",
              "      <td>3996.416999</td>\n",
              "      <td>c</td>\n",
              "      <td>a</td>\n",
              "      <td>1270.0</td>\n",
              "      <td>0</td>\n",
              "      <td>NotRegular</td>\n",
              "      <td>76.0</td>\n",
              "    </tr>\n",
              "    <tr>\n",
              "      <th>1</th>\n",
              "      <td>2</td>\n",
              "      <td>5</td>\n",
              "      <td>0</td>\n",
              "      <td>no</td>\n",
              "      <td>0</td>\n",
              "      <td>-3</td>\n",
              "      <td>7</td>\n",
              "      <td>-10</td>\n",
              "      <td>14</td>\n",
              "      <td>1</td>\n",
              "      <td>23</td>\n",
              "      <td>23</td>\n",
              "      <td>4</td>\n",
              "      <td>486.707835</td>\n",
              "      <td>4114.922975</td>\n",
              "      <td>a</td>\n",
              "      <td>a</td>\n",
              "      <td>570.0</td>\n",
              "      <td>1</td>\n",
              "      <td>Jan,Apr,Jul,Oct</td>\n",
              "      <td>86.0</td>\n",
              "    </tr>\n",
              "    <tr>\n",
              "      <th>2</th>\n",
              "      <td>3</td>\n",
              "      <td>5</td>\n",
              "      <td>0</td>\n",
              "      <td>no</td>\n",
              "      <td>0</td>\n",
              "      <td>-3</td>\n",
              "      <td>7</td>\n",
              "      <td>-10</td>\n",
              "      <td>14</td>\n",
              "      <td>1</td>\n",
              "      <td>23</td>\n",
              "      <td>23</td>\n",
              "      <td>4</td>\n",
              "      <td>625.559097</td>\n",
              "      <td>5741.764940</td>\n",
              "      <td>a</td>\n",
              "      <td>a</td>\n",
              "      <td>14130.0</td>\n",
              "      <td>1</td>\n",
              "      <td>Jan,Apr,Jul,Oct</td>\n",
              "      <td>97.0</td>\n",
              "    </tr>\n",
              "    <tr>\n",
              "      <th>3</th>\n",
              "      <td>4</td>\n",
              "      <td>5</td>\n",
              "      <td>0</td>\n",
              "      <td>no</td>\n",
              "      <td>0</td>\n",
              "      <td>-3</td>\n",
              "      <td>7</td>\n",
              "      <td>-10</td>\n",
              "      <td>14</td>\n",
              "      <td>1</td>\n",
              "      <td>23</td>\n",
              "      <td>23</td>\n",
              "      <td>4</td>\n",
              "      <td>1101.130146</td>\n",
              "      <td>7967.375830</td>\n",
              "      <td>c</td>\n",
              "      <td>c</td>\n",
              "      <td>620.0</td>\n",
              "      <td>0</td>\n",
              "      <td>NotRegular</td>\n",
              "      <td>64.0</td>\n",
              "    </tr>\n",
              "    <tr>\n",
              "      <th>4</th>\n",
              "      <td>5</td>\n",
              "      <td>5</td>\n",
              "      <td>0</td>\n",
              "      <td>no</td>\n",
              "      <td>0</td>\n",
              "      <td>-3</td>\n",
              "      <td>7</td>\n",
              "      <td>-10</td>\n",
              "      <td>14</td>\n",
              "      <td>1</td>\n",
              "      <td>23</td>\n",
              "      <td>23</td>\n",
              "      <td>4</td>\n",
              "      <td>445.816733</td>\n",
              "      <td>3869.839309</td>\n",
              "      <td>a</td>\n",
              "      <td>a</td>\n",
              "      <td>29910.0</td>\n",
              "      <td>0</td>\n",
              "      <td>NotRegular</td>\n",
              "      <td>0.0</td>\n",
              "    </tr>\n",
              "    <tr>\n",
              "      <th>...</th>\n",
              "      <td>...</td>\n",
              "      <td>...</td>\n",
              "      <td>...</td>\n",
              "      <td>...</td>\n",
              "      <td>...</td>\n",
              "      <td>...</td>\n",
              "      <td>...</td>\n",
              "      <td>...</td>\n",
              "      <td>...</td>\n",
              "      <td>...</td>\n",
              "      <td>...</td>\n",
              "      <td>...</td>\n",
              "      <td>...</td>\n",
              "      <td>...</td>\n",
              "      <td>...</td>\n",
              "      <td>...</td>\n",
              "      <td>...</td>\n",
              "      <td>...</td>\n",
              "      <td>...</td>\n",
              "      <td>...</td>\n",
              "      <td>...</td>\n",
              "    </tr>\n",
              "    <tr>\n",
              "      <th>669252</th>\n",
              "      <td>682</td>\n",
              "      <td>2</td>\n",
              "      <td>0</td>\n",
              "      <td>public</td>\n",
              "      <td>1</td>\n",
              "      <td>-6</td>\n",
              "      <td>16</td>\n",
              "      <td>0</td>\n",
              "      <td>0</td>\n",
              "      <td>1</td>\n",
              "      <td>1</td>\n",
              "      <td>1</td>\n",
              "      <td>1</td>\n",
              "      <td>1749.750332</td>\n",
              "      <td>11106.135458</td>\n",
              "      <td>b</td>\n",
              "      <td>a</td>\n",
              "      <td>150.0</td>\n",
              "      <td>0</td>\n",
              "      <td>NotRegular</td>\n",
              "      <td>76.0</td>\n",
              "    </tr>\n",
              "    <tr>\n",
              "      <th>669253</th>\n",
              "      <td>733</td>\n",
              "      <td>2</td>\n",
              "      <td>0</td>\n",
              "      <td>public</td>\n",
              "      <td>1</td>\n",
              "      <td>-6</td>\n",
              "      <td>16</td>\n",
              "      <td>0</td>\n",
              "      <td>0</td>\n",
              "      <td>1</td>\n",
              "      <td>1</td>\n",
              "      <td>1</td>\n",
              "      <td>1</td>\n",
              "      <td>3402.875166</td>\n",
              "      <td>14814.803453</td>\n",
              "      <td>b</td>\n",
              "      <td>b</td>\n",
              "      <td>860.0</td>\n",
              "      <td>0</td>\n",
              "      <td>NotRegular</td>\n",
              "      <td>159.0</td>\n",
              "    </tr>\n",
              "    <tr>\n",
              "      <th>669254</th>\n",
              "      <td>769</td>\n",
              "      <td>2</td>\n",
              "      <td>0</td>\n",
              "      <td>public</td>\n",
              "      <td>1</td>\n",
              "      <td>-6</td>\n",
              "      <td>16</td>\n",
              "      <td>0</td>\n",
              "      <td>0</td>\n",
              "      <td>1</td>\n",
              "      <td>1</td>\n",
              "      <td>1</td>\n",
              "      <td>1</td>\n",
              "      <td>2996.671979</td>\n",
              "      <td>10452.855246</td>\n",
              "      <td>b</td>\n",
              "      <td>b</td>\n",
              "      <td>840.0</td>\n",
              "      <td>1</td>\n",
              "      <td>Jan,Apr,Jul,Oct</td>\n",
              "      <td>0.0</td>\n",
              "    </tr>\n",
              "    <tr>\n",
              "      <th>669255</th>\n",
              "      <td>948</td>\n",
              "      <td>2</td>\n",
              "      <td>0</td>\n",
              "      <td>public</td>\n",
              "      <td>1</td>\n",
              "      <td>-6</td>\n",
              "      <td>16</td>\n",
              "      <td>0</td>\n",
              "      <td>0</td>\n",
              "      <td>1</td>\n",
              "      <td>1</td>\n",
              "      <td>1</td>\n",
              "      <td>1</td>\n",
              "      <td>1625.132802</td>\n",
              "      <td>6509.219124</td>\n",
              "      <td>b</td>\n",
              "      <td>b</td>\n",
              "      <td>1430.0</td>\n",
              "      <td>0</td>\n",
              "      <td>NotRegular</td>\n",
              "      <td>0.0</td>\n",
              "    </tr>\n",
              "    <tr>\n",
              "      <th>669256</th>\n",
              "      <td>1097</td>\n",
              "      <td>2</td>\n",
              "      <td>0</td>\n",
              "      <td>public</td>\n",
              "      <td>1</td>\n",
              "      <td>-6</td>\n",
              "      <td>16</td>\n",
              "      <td>0</td>\n",
              "      <td>0</td>\n",
              "      <td>1</td>\n",
              "      <td>1</td>\n",
              "      <td>1</td>\n",
              "      <td>1</td>\n",
              "      <td>2389.860558</td>\n",
              "      <td>9486.096946</td>\n",
              "      <td>b</td>\n",
              "      <td>b</td>\n",
              "      <td>720.0</td>\n",
              "      <td>0</td>\n",
              "      <td>NotRegular</td>\n",
              "      <td>130.0</td>\n",
              "    </tr>\n",
              "  </tbody>\n",
              "</table>\n",
              "<p>669257 rows × 21 columns</p>\n",
              "</div>"
            ],
            "text/plain": [
              "        store  dayofweek  promo  ... promo2    promointerval  competitionopen\n",
              "0           1          5      0  ...      0       NotRegular             76.0\n",
              "1           2          5      0  ...      1  Jan,Apr,Jul,Oct             86.0\n",
              "2           3          5      0  ...      1  Jan,Apr,Jul,Oct             97.0\n",
              "3           4          5      0  ...      0       NotRegular             64.0\n",
              "4           5          5      0  ...      0       NotRegular              0.0\n",
              "...       ...        ...    ...  ...    ...              ...              ...\n",
              "669252    682          2      0  ...      0       NotRegular             76.0\n",
              "669253    733          2      0  ...      0       NotRegular            159.0\n",
              "669254    769          2      0  ...      1  Jan,Apr,Jul,Oct              0.0\n",
              "669255    948          2      0  ...      0       NotRegular              0.0\n",
              "669256   1097          2      0  ...      0       NotRegular            130.0\n",
              "\n",
              "[669257 rows x 21 columns]"
            ]
          },
          "metadata": {
            "tags": []
          },
          "execution_count": 5
        }
      ]
    },
    {
      "cell_type": "code",
      "metadata": {
        "colab": {
          "base_uri": "https://localhost:8080/"
        },
        "id": "Iz6Z4tdwTMVE",
        "outputId": "52edb436-e34c-4065-b43c-3d87ef640bce"
      },
      "source": [
        "ytrain"
      ],
      "execution_count": null,
      "outputs": [
        {
          "output_type": "execute_result",
          "data": {
            "text/plain": [
              "0          3586\n",
              "1          3206\n",
              "2          5701\n",
              "3          7638\n",
              "4          3962\n",
              "          ...  \n",
              "669252     3375\n",
              "669253    10765\n",
              "669254     5035\n",
              "669255     4491\n",
              "669256     5961\n",
              "Name: sales, Length: 669257, dtype: int64"
            ]
          },
          "metadata": {
            "tags": []
          },
          "execution_count": 10
        }
      ]
    },
    {
      "cell_type": "code",
      "metadata": {
        "id": "CuiMpao3UaCj"
      },
      "source": [],
      "execution_count": null,
      "outputs": []
    }
  ]
}