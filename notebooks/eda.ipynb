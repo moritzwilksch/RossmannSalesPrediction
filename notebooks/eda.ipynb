{
 "metadata": {
  "language_info": {
   "codemirror_mode": {
    "name": "ipython",
    "version": 3
   },
   "file_extension": ".py",
   "mimetype": "text/x-python",
   "name": "python",
   "nbconvert_exporter": "python",
   "pygments_lexer": "ipython3",
   "version": "3.8.5-final"
  },
  "orig_nbformat": 2,
  "kernelspec": {
   "name": "python3",
   "display_name": "Python 3",
   "language": "python"
  }
 },
 "nbformat": 4,
 "nbformat_minor": 2,
 "cells": [
  {
   "cell_type": "code",
   "execution_count": 5,
   "metadata": {},
   "outputs": [],
   "source": [
    "# Add RossmannSalesPrediction to path\n",
    "import sys\n",
    "import pathlib\n",
    "sys.path.append(str(pathlib.Path(\".\").resolve().parent))\n",
    "\n",
    "\n",
    "import pandas as pd\n",
    "import seaborn as sns\n",
    "import matplotlib.pyplot as plt\n",
    "from helpers.dataprep import fix_df\n",
    "\n",
    "\n",
    "root_path = \"../\""
   ]
  },
  {
   "cell_type": "code",
   "execution_count": 6,
   "metadata": {},
   "outputs": [],
   "source": [
    "store = pd.read_csv(root_path + 'data/store.csv')\n",
    "train = pd.read_csv(root_path + 'data/train.csv')\n",
    "\n",
    "train = fix_df(train)"
   ]
  },
  {
   "source": [
    "# `train.csv`\n",
    "(After fixing it)"
   ],
   "cell_type": "markdown",
   "metadata": {}
  },
  {
   "cell_type": "code",
   "execution_count": 7,
   "metadata": {},
   "outputs": [
    {
     "output_type": "stream",
     "name": "stdout",
     "text": [
      "<class 'pandas.core.frame.DataFrame'>\nRangeIndex: 1017209 entries, 0 to 1017208\nData columns (total 9 columns):\n #   Column         Non-Null Count    Dtype         \n---  ------         --------------    -----         \n 0   store          1017209 non-null  int64         \n 1   dayofweek      1017209 non-null  int64         \n 2   date           1017209 non-null  datetime64[ns]\n 3   sales          1017209 non-null  int64         \n 4   customers      1017209 non-null  int64         \n 5   open           1017209 non-null  int64         \n 6   promo          1017209 non-null  int64         \n 7   stateholiday   1017209 non-null  category      \n 8   schoolholiday  1017209 non-null  int64         \ndtypes: category(1), datetime64[ns](1), int64(7)\nmemory usage: 63.1 MB\n"
     ]
    }
   ],
   "source": [
    "train.info()"
   ]
  },
  {
   "cell_type": "code",
   "execution_count": 8,
   "metadata": {},
   "outputs": [
    {
     "output_type": "execute_result",
     "data": {
      "text/plain": [
       "   store  dayofweek       date  sales  customers  open  promo stateholiday  \\\n",
       "0      1          5 2015-07-31   5263        555     1      1           no   \n",
       "1      2          5 2015-07-31   6064        625     1      1           no   \n",
       "2      3          5 2015-07-31   8314        821     1      1           no   \n",
       "3      4          5 2015-07-31  13995       1498     1      1           no   \n",
       "4      5          5 2015-07-31   4822        559     1      1           no   \n",
       "\n",
       "   schoolholiday  \n",
       "0              1  \n",
       "1              1  \n",
       "2              1  \n",
       "3              1  \n",
       "4              1  "
      ],
      "text/html": "<div>\n<style scoped>\n    .dataframe tbody tr th:only-of-type {\n        vertical-align: middle;\n    }\n\n    .dataframe tbody tr th {\n        vertical-align: top;\n    }\n\n    .dataframe thead th {\n        text-align: right;\n    }\n</style>\n<table border=\"1\" class=\"dataframe\">\n  <thead>\n    <tr style=\"text-align: right;\">\n      <th></th>\n      <th>store</th>\n      <th>dayofweek</th>\n      <th>date</th>\n      <th>sales</th>\n      <th>customers</th>\n      <th>open</th>\n      <th>promo</th>\n      <th>stateholiday</th>\n      <th>schoolholiday</th>\n    </tr>\n  </thead>\n  <tbody>\n    <tr>\n      <th>0</th>\n      <td>1</td>\n      <td>5</td>\n      <td>2015-07-31</td>\n      <td>5263</td>\n      <td>555</td>\n      <td>1</td>\n      <td>1</td>\n      <td>no</td>\n      <td>1</td>\n    </tr>\n    <tr>\n      <th>1</th>\n      <td>2</td>\n      <td>5</td>\n      <td>2015-07-31</td>\n      <td>6064</td>\n      <td>625</td>\n      <td>1</td>\n      <td>1</td>\n      <td>no</td>\n      <td>1</td>\n    </tr>\n    <tr>\n      <th>2</th>\n      <td>3</td>\n      <td>5</td>\n      <td>2015-07-31</td>\n      <td>8314</td>\n      <td>821</td>\n      <td>1</td>\n      <td>1</td>\n      <td>no</td>\n      <td>1</td>\n    </tr>\n    <tr>\n      <th>3</th>\n      <td>4</td>\n      <td>5</td>\n      <td>2015-07-31</td>\n      <td>13995</td>\n      <td>1498</td>\n      <td>1</td>\n      <td>1</td>\n      <td>no</td>\n      <td>1</td>\n    </tr>\n    <tr>\n      <th>4</th>\n      <td>5</td>\n      <td>5</td>\n      <td>2015-07-31</td>\n      <td>4822</td>\n      <td>559</td>\n      <td>1</td>\n      <td>1</td>\n      <td>no</td>\n      <td>1</td>\n    </tr>\n  </tbody>\n</table>\n</div>"
     },
     "metadata": {},
     "execution_count": 8
    }
   ],
   "source": [
    "train.head()"
   ]
  },
  {
   "cell_type": "code",
   "execution_count": 9,
   "metadata": {},
   "outputs": [
    {
     "output_type": "execute_result",
     "data": {
      "text/plain": [
       "            store  dayofweek       sales   customers        open       promo  \\\n",
       "count  1017209.00  1017209.0  1017209.00  1017209.00  1017209.00  1017209.00   \n",
       "mean       558.43        4.0     5773.82      633.15        0.83        0.38   \n",
       "std        321.91        2.0     3849.93      464.41        0.38        0.49   \n",
       "min          1.00        1.0        0.00        0.00        0.00        0.00   \n",
       "25%        280.00        2.0     3727.00      405.00        1.00        0.00   \n",
       "50%        558.00        4.0     5744.00      609.00        1.00        0.00   \n",
       "75%        838.00        6.0     7856.00      837.00        1.00        1.00   \n",
       "max       1115.00        7.0    41551.00     7388.00        1.00        1.00   \n",
       "\n",
       "       schoolholiday  \n",
       "count     1017209.00  \n",
       "mean            0.18  \n",
       "std             0.38  \n",
       "min             0.00  \n",
       "25%             0.00  \n",
       "50%             0.00  \n",
       "75%             0.00  \n",
       "max             1.00  "
      ],
      "text/html": "<div>\n<style scoped>\n    .dataframe tbody tr th:only-of-type {\n        vertical-align: middle;\n    }\n\n    .dataframe tbody tr th {\n        vertical-align: top;\n    }\n\n    .dataframe thead th {\n        text-align: right;\n    }\n</style>\n<table border=\"1\" class=\"dataframe\">\n  <thead>\n    <tr style=\"text-align: right;\">\n      <th></th>\n      <th>store</th>\n      <th>dayofweek</th>\n      <th>sales</th>\n      <th>customers</th>\n      <th>open</th>\n      <th>promo</th>\n      <th>schoolholiday</th>\n    </tr>\n  </thead>\n  <tbody>\n    <tr>\n      <th>count</th>\n      <td>1017209.00</td>\n      <td>1017209.0</td>\n      <td>1017209.00</td>\n      <td>1017209.00</td>\n      <td>1017209.00</td>\n      <td>1017209.00</td>\n      <td>1017209.00</td>\n    </tr>\n    <tr>\n      <th>mean</th>\n      <td>558.43</td>\n      <td>4.0</td>\n      <td>5773.82</td>\n      <td>633.15</td>\n      <td>0.83</td>\n      <td>0.38</td>\n      <td>0.18</td>\n    </tr>\n    <tr>\n      <th>std</th>\n      <td>321.91</td>\n      <td>2.0</td>\n      <td>3849.93</td>\n      <td>464.41</td>\n      <td>0.38</td>\n      <td>0.49</td>\n      <td>0.38</td>\n    </tr>\n    <tr>\n      <th>min</th>\n      <td>1.00</td>\n      <td>1.0</td>\n      <td>0.00</td>\n      <td>0.00</td>\n      <td>0.00</td>\n      <td>0.00</td>\n      <td>0.00</td>\n    </tr>\n    <tr>\n      <th>25%</th>\n      <td>280.00</td>\n      <td>2.0</td>\n      <td>3727.00</td>\n      <td>405.00</td>\n      <td>1.00</td>\n      <td>0.00</td>\n      <td>0.00</td>\n    </tr>\n    <tr>\n      <th>50%</th>\n      <td>558.00</td>\n      <td>4.0</td>\n      <td>5744.00</td>\n      <td>609.00</td>\n      <td>1.00</td>\n      <td>0.00</td>\n      <td>0.00</td>\n    </tr>\n    <tr>\n      <th>75%</th>\n      <td>838.00</td>\n      <td>6.0</td>\n      <td>7856.00</td>\n      <td>837.00</td>\n      <td>1.00</td>\n      <td>1.00</td>\n      <td>0.00</td>\n    </tr>\n    <tr>\n      <th>max</th>\n      <td>1115.00</td>\n      <td>7.0</td>\n      <td>41551.00</td>\n      <td>7388.00</td>\n      <td>1.00</td>\n      <td>1.00</td>\n      <td>1.00</td>\n    </tr>\n  </tbody>\n</table>\n</div>"
     },
     "metadata": {},
     "execution_count": 9
    }
   ],
   "source": [
    "train.describe().round(2)"
   ]
  },
  {
   "cell_type": "code",
   "execution_count": 14,
   "metadata": {},
   "outputs": [],
   "source": [
    "from pandas_profiling import ProfileReport\n",
    "profile = ProfileReport(train, title=\"Pandas Profiling Report\")\n"
   ]
  },
  {
   "cell_type": "code",
   "execution_count": 17,
   "metadata": {},
   "outputs": [
    {
     "output_type": "display_data",
     "data": {
      "text/plain": "HBox(children=(FloatProgress(value=0.0, description='Summarize dataset', max=22.0, style=ProgressStyle(descrip…",
      "application/vnd.jupyter.widget-view+json": {
       "version_major": 2,
       "version_minor": 0,
       "model_id": "b24b2deebecc4f899c1e131a31254970"
      }
     },
     "metadata": {}
    },
    {
     "output_type": "stream",
     "name": "stdout",
     "text": [
      "\n"
     ]
    },
    {
     "output_type": "display_data",
     "data": {
      "text/plain": "HBox(children=(FloatProgress(value=0.0, description='Generate report structure', max=1.0, style=ProgressStyle(…",
      "application/vnd.jupyter.widget-view+json": {
       "version_major": 2,
       "version_minor": 0,
       "model_id": "b87a2d95551e465094e32494ebc68620"
      }
     },
     "metadata": {}
    },
    {
     "output_type": "stream",
     "name": "stdout",
     "text": [
      "\n"
     ]
    },
    {
     "output_type": "display_data",
     "data": {
      "text/plain": "HBox(children=(FloatProgress(value=0.0, description='Render HTML', max=1.0, style=ProgressStyle(description_wi…",
      "application/vnd.jupyter.widget-view+json": {
       "version_major": 2,
       "version_minor": 0,
       "model_id": "8e529e966a6e42fd8bf699f5509ecf95"
      }
     },
     "metadata": {}
    },
    {
     "output_type": "stream",
     "name": "stdout",
     "text": [
      "\n"
     ]
    },
    {
     "output_type": "display_data",
     "data": {
      "text/plain": "HBox(children=(FloatProgress(value=0.0, description='Export report to file', max=1.0, style=ProgressStyle(desc…",
      "application/vnd.jupyter.widget-view+json": {
       "version_major": 2,
       "version_minor": 0,
       "model_id": "4d511f4cae42476e9ec08b4f9c8ee0f3"
      }
     },
     "metadata": {}
    },
    {
     "output_type": "stream",
     "name": "stdout",
     "text": [
      "\n"
     ]
    }
   ],
   "source": [
    "profile.to_file(root_path + \"profile_report.html\")"
   ]
  },
  {
   "cell_type": "code",
   "execution_count": null,
   "metadata": {},
   "outputs": [],
   "source": []
  }
 ]
}